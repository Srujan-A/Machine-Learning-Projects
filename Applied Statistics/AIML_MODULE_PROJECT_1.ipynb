{
 "cells": [
  {
   "cell_type": "markdown",
   "metadata": {},
   "source": [
    "***\n",
    "#  <span style=\"color:#9400D3\"> Project - Applied Statistics\n",
    "\n",
    "***"
   ]
  },
  {
   "cell_type": "markdown",
   "metadata": {},
   "source": [
    "### <span style=\"color:#9400D3\">Importing Required Python Modules"
   ]
  },
  {
   "cell_type": "code",
   "execution_count": 1,
   "metadata": {},
   "outputs": [],
   "source": [
    "# Modules for Statistical Operations\n",
    "import numpy as np\n",
    "import pandas as pd\n",
    "from scipy import stats\n",
    "\n",
    "# Modules for Hypothesis Analysis\n",
    "from scipy.stats import ttest_ind\n",
    "from statsmodels.stats.proportion import proportions_ztest\n",
    "import statsmodels.api         as     sm\n",
    "from   statsmodels.formula.api import ols\n",
    "\n",
    "# Modules for Visualization\n",
    "import matplotlib.pyplot as plt\n",
    "import seaborn as sns\n",
    "%matplotlib inline \n",
    "\n",
    "# Pre-setting Plot Style\n",
    "font={'size':15}\n",
    "plt.rc('font', **font)\n",
    "plt.rc('xtick',labelsize=12)    \n",
    "plt.rc('ytick',labelsize=12)\n",
    "sns.set_style({'xtick.bottom':True,'ytick.left':True,'text.color':'#9400D3',\n",
    "               'axes.labelcolor': 'blue','patch.edgecolor': 'black'})\n",
    "\n",
    "# Module to Neglect Future Warnings\n",
    "import warnings                             \n",
    "warnings.simplefilter(action='ignore', category=FutureWarning)"
   ]
  },
  {
   "cell_type": "markdown",
   "metadata": {},
   "source": [
    "***\n",
    "## <span style=\"color:#9400D3\"> Part ONE - **Question Based**\n",
    "***"
   ]
  },
  {
   "cell_type": "markdown",
   "metadata": {},
   "source": [
    "#### <span style=\"color:#9400D3\">**1 Question.**\n",
    "\n",
    " Please refer the table below to answer below questions:\n",
    "\n",
    "|Planned to purchase Product A | Actually placed and order for Product A|Actually placed and order for Product A |Total|\n",
    "| --- | --- | --- | --- |\n",
    "|  | Yes | No |  |\n",
    "| Yes   | 400 | 100  | 500 |\n",
    "| No    | 200 | 1300 | 1500|\n",
    "| Total |600  |1400  | 2000|\n",
    "\n",
    "  1. Refer to the above table and find the joint probability of the people who planned to purchase and actually placed an order.\n",
    "\n",
    "  2. Refer to the above table and find the joint probability of the people who planned to purchase and actually placed an order, given that people planned to purchase."
   ]
  },
  {
   "cell_type": "code",
   "execution_count": 2,
   "metadata": {},
   "outputs": [
    {
     "name": "stdout",
     "output_type": "stream",
     "text": [
      "Answers:-\n",
      "\n",
      " 1. Joint probability of people who planned to purchase      = 0.2\n",
      "    & actually placed an order \n",
      "\n",
      " 2. Joint probability of the people who planned to purchase  = 0.8\n",
      "    & actually placed an order, given that people planned \n",
      "    to purchase.\n"
     ]
    }
   ],
   "source": [
    "# Solution:-\n",
    "\n",
    "# The concept of Joint Probability is used to solve this problem.\n",
    "T = 2000    # Total\n",
    "\n",
    "# P(Planned & Actual) = (Planned and Actual) / Total\n",
    "JP1 = 400/T               \n",
    "\n",
    "# P(Planned & Actually GIVEN THAT Planned) = P(Planned & Actual) / P(Planned)\n",
    "JP2 = JP1/(500/T)         \n",
    "\n",
    "print(f'''Answers:-\\n\\n 1. Joint probability of people who planned to purchase      = {JP1}\n",
    "    & actually placed an order ''')\n",
    "print('')\n",
    "print(f''' 2. Joint probability of the people who planned to purchase  = {JP2}\n",
    "    & actually placed an order, given that people planned \n",
    "    to purchase.''')"
   ]
  },
  {
   "cell_type": "markdown",
   "metadata": {},
   "source": [
    "***\n",
    "#### <span style=\"color:#9400D3\">**2. Question.**\n",
    "\n",
    "An electrical manufacturing company conducts quality checks at specified periods on the products it manufactures. Historically, the failure rate for the manufactured item is 5%. Suppose a random sample of 10 manufactured items is selected. Answer the following questions.\n",
    "    \n",
    "&emsp;   A. Probability that none of the items are defective?\n",
    "\n",
    "&emsp;   B. Probability that exactly one of the items is defective?\n",
    "\n",
    "&emsp;   C. Probability that two or fewer of the items are defective?\n",
    "\n",
    " &emsp;  D. Probability that three or more of the items are defective ?"
   ]
  },
  {
   "cell_type": "code",
   "execution_count": 3,
   "metadata": {},
   "outputs": [
    {
     "name": "stdout",
     "output_type": "stream",
     "text": [
      "Answers:-\n",
      "\n",
      " A. Probability that none of the items are defective          = 0.599\n",
      " B. Probability that exactly one of the items is defective    = 0.32\n",
      " C. Probability that two or fewer of the items are defective  = 0.99\n",
      " D. Probability that three or more of the items are defective = 0.01\n"
     ]
    }
   ],
   "source": [
    "# Solution:-\n",
    "\n",
    "# The concept of Binomial Distribution is used to solve this problem.\n",
    "p = 0.05\n",
    "n = 10\n",
    "\n",
    "# For none of the items are defective, k=0\n",
    "P1 = stats.binom.pmf(0,n,p)     \n",
    "\n",
    "# For exactly one of the items is defective, k=1\n",
    "P2 = stats.binom.pmf(1,n,p)    \n",
    "\n",
    "# For two or fewer of the items are defective, k<=2\n",
    "P3 = 0\n",
    "for i in range(0,3):\n",
    "    P3 += stats.binom.pmf(i,n,p)     \n",
    "\n",
    "# For three or more of the items are defective, k>=3\n",
    "P4 = 0\n",
    "for i in range(3,11):\n",
    "    P4 += stats.binom.pmf(i,n,p)  \n",
    "    \n",
    "print('Answers:-\\n\\n A. Probability that none of the items are defective          =',round(P1,3))\n",
    "print(' B. Probability that exactly one of the items is defective    =',round(P2,2))\n",
    "print(' C. Probability that two or fewer of the items are defective  =',round(P3,2))\n",
    "print(' D. Probability that three or more of the items are defective =',round(P4,2))"
   ]
  },
  {
   "cell_type": "markdown",
   "metadata": {},
   "source": [
    "***\n",
    "#### <span style=\"color:#9400D3\"> **3. Question.**\n",
    "\n",
    "  A car salesman sells on an average 3 cars per week.\n",
    "   \n",
    "&emsp;   A. Probability that in a given week he will sell some cars.\n",
    "   \n",
    "&emsp;   B. Probability that in a given week he will sell 2 or more but less than 5 cars.\n",
    "   \n",
    "&emsp;   C. Plot the poisson distribution function for cumulative probability of cars sold per-week vs number of cars sold per-week."
   ]
  },
  {
   "cell_type": "code",
   "execution_count": 4,
   "metadata": {},
   "outputs": [
    {
     "name": "stdout",
     "output_type": "stream",
     "text": [
      "#Answers:-\n",
      "\n",
      " A. Probability that in a given week he will sell some cars                      = 0.95\n",
      "\n",
      " B. Probability that in a given week he will sell 2 or more but less than 5 cars = 0.62\n",
      " \n",
      " C. Plot showing Poisson distribution function for cumulative probability of cars sold \n",
      "    per-week vs number of cars sold per-week:-\n"
     ]
    },
    {
     "data": {
      "image/png": "[encoded data removed]",
      "text/plain": [
       "<Figure size 864x432 with 1 Axes>"
      ]
     },
     "metadata": {
      "needs_background": "light"
     },
     "output_type": "display_data"
    }
   ],
   "source": [
    "# Solution:-\n",
    "\n",
    "# The concept of Poisson distribution is used to solve this problem.\n",
    "m = 3    # Average OR Mean\n",
    "\n",
    "# Sell some cars, which means \"1 or more\". i.e P(k>0) = 1 - P(k=0)\n",
    "P1 = 1 - stats.poisson.pmf(0,m)\n",
    "\n",
    "# Sell 2 or more but less than 5 cars, i.e P(2<=k<5)\n",
    "P2 = 0\n",
    "for i in range(2,5):\n",
    "    P2 += stats.poisson.pmf(i,m)\n",
    "\n",
    "print('#Answers:-\\n\\n A. Probability that in a given week he will sell some cars                      =',\n",
    "      round(P1,2))\n",
    "print('\\n B. Probability that in a given week he will sell 2 or more but less than 5 cars =',round(P2,2))\n",
    "print(''' \\n C. Plot showing Poisson distribution function for cumulative probability of cars sold \n",
    "    per-week vs number of cars sold per-week:-''') \n",
    "\n",
    "# Plotting the poisson distribution function for cumulative probability    \n",
    "x = range(0,5)   \n",
    "y = stats.poisson.cdf(x,m)\n",
    "\n",
    "plt.figure(figsize=(12,6))\n",
    "plt.plot(y,'o-')\n",
    "plt.title('Poisson: $\\lambda$ = %i ' % m)\n",
    "plt.xlabel('Number of cars sold per-week')\n",
    "plt.ylabel('Cumulative probability of cars sold per-week ')\n",
    "plt.show()\n"
   ]
  },
  {
   "cell_type": "markdown",
   "metadata": {},
   "source": [
    "***\n",
    "#### <span style=\"color:#9400D3\">**4. Question:**\n",
    "\n",
    "Accuracy in understanding orders for a speech based bot at a restaurant is important for the\n",
    "Company X which has designed, marketed and launched the product for a contactless delivery due to the\n",
    "COVID-19 pandemic. Recognition accuracy that measures the percentage of orders that are taken correctly is\n",
    "86.8%. Suppose that you place order with the bot and two friends of yours independently place orders with\n",
    "the same bot. Answer the following questions.\n",
    "\n",
    "&emsp;A. What is the probability that all three orders will be recognised correctly?\n",
    "\n",
    "&emsp;B. What is the probability that none of the three orders will be recognised correctly?\n",
    "\n",
    "&emsp;C. What is the probability that at least two of the three orders will be recognised correctly?"
   ]
  },
  {
   "cell_type": "code",
   "execution_count": 5,
   "metadata": {},
   "outputs": [
    {
     "name": "stdout",
     "output_type": "stream",
     "text": [
      "Answers:-\n",
      "\n",
      " A. Probability that all three orders will be recognised correctly                 = 0.654\n",
      " B. Probability that none of the three orders will be recognised correctly         = 0.002\n",
      " C. Probability that at least two of the three orders will be recognised correctly = 0.952\n"
     ]
    }
   ],
   "source": [
    "# Solution:-\n",
    "\n",
    "# The concept of Binomial Distribution is used to solve this problem.\n",
    "p_crt = 0.868\n",
    "p_incrt = 1 - p_crt \n",
    "\n",
    "\n",
    "# All three orders will be recognised correctly\n",
    "P1 = stats.binom.pmf(3,3,p_crt)\n",
    "\n",
    "# None of the three orders will be recognised correctly\n",
    "P2 = stats.binom.pmf(3,3,p_incrt)\n",
    "\n",
    "# At least two of the three orders will be recognised correctly\n",
    "P3 = stats.binom.pmf(2,3,p_crt) + stats.binom.pmf(3,3,p_crt)\n",
    "\n",
    "print('Answers:-\\n\\n A. Probability that all three orders will be recognised correctly                 =',\n",
    "      round(P1,3))\n",
    "print(' B. Probability that none of the three orders will be recognised correctly         =',round(P2,3))\n",
    "print(' C. Probability that at least two of the three orders will be recognised correctly =',round(P3,3))"
   ]
  },
  {
   "cell_type": "markdown",
   "metadata": {},
   "source": [
    "***\n",
    "#### <span style=\"color:#9400D3\">**5. Question.**\n",
    "A group of 300 professionals sat for a competitive exam. The results show the information of\n",
    "marks obtained by them have a mean of 60 and a standard deviation of 12. The pattern of marks follows a\n",
    "normal distribution. Answer the following questions.\n",
    "\n",
    "&emsp;A. What is the percentage of students who score more than 80.\n",
    "\n",
    "&emsp;B. What is the percentage of students who score less than 50.\n",
    "\n",
    "&emsp;C. What should be the distinction mark if the highest 10% of students are to be awarded distinction?"
   ]
  },
  {
   "cell_type": "code",
   "execution_count": 6,
   "metadata": {},
   "outputs": [
    {
     "name": "stdout",
     "output_type": "stream",
     "text": [
      "Answers:-\n",
      "\n",
      " A. Percentage of students who score more than 80                             = 4.78 %\n",
      " B. Percentage of students who score less than 50                             = 20.23 %\n",
      " C. Distinction mark if highest 10% of students are to be awarded distinction = 75\n"
     ]
    }
   ],
   "source": [
    "# Solution:-\n",
    "\n",
    "# The concept of Normal Distribution is used to solve this problem.\n",
    "mean = 60\n",
    "sd = 12\n",
    "\n",
    "# Percentage of students who score more than 80\n",
    "\n",
    "z = (80-mean)/sd            # Z score\n",
    "\n",
    "P1 = (1-stats.norm.cdf(z))*100   # Calculating Percentage\n",
    "\n",
    "# Percentage of students who score less than 50\n",
    "\n",
    "z = (50-mean)/sd\n",
    "\n",
    "P2 = (stats.norm.cdf(z))*100\n",
    "\n",
    "# highest 10% of students are to be awarded distinction\n",
    "\n",
    "z = abs(stats.norm.ppf(0.10))   # Z score obtained by probability\n",
    "\n",
    "x = z*sd + mean\n",
    "\n",
    "print('Answers:-\\n\\n A. Percentage of students who score more than 80                             =',\n",
    "      round(P1,2),'%')\n",
    "print(' B. Percentage of students who score less than 50                             =',round(P2,2),'%')\n",
    "print(' C. Distinction mark if highest 10% of students are to be awarded distinction =',round(x))"
   ]
  },
  {
   "cell_type": "markdown",
   "metadata": {},
   "source": [
    "***\n",
    "#### <span style=\"color:#9400D3\">**6. Question.**\n",
    "\n",
    "Explain 1 real life industry scenario [other than the ones mentioned above] where you can use the\n",
    "concepts learnt in this module of Applied statistics to get a data driven business solution."
   ]
  },
  {
   "cell_type": "markdown",
   "metadata": {},
   "source": [
    "#### **Answer:-**\n",
    "<br>\n",
    "<b>Industry Scenario:- Transportation Industry</b>\n",
    "<br><br>\n",
    "\n",
    "&emsp; *In transportation industry we have concept of Data Science being used with the help of Statistics, to make transportation more efficient and easy.* \n",
    "<br><br>\n",
    "&emsp;   *Let’s take 'Uber' as an example here. Uber has 8 million users, with 160,000+ people driving for Uber across 449 cities in 66 countries and has done more than 1 billion Uber trips.*\n",
    "<br><br>\n",
    "&emsp;   *Looking at this data we can say Uber generates and uses a huge amount of data regarding drivers, their vehicles, locations, every trip from every vehicle, etc. All this data is analyzed and then used to predict supply, demand, location of drivers, and fares that will be set for every trip.*\n",
    "<br><br>\n",
    "&emsp;   *Usage of Concept of Descriptive Statistics:- For example when we choose a route to save fuel and time, based on our knowledge of having taken that particular route sometime in the past. In this case, we analyzed and made use of the data that we had previously acquired on account of our experience, and then we used it to make a smart decision.*\n",
    "<br><br>\n",
    " &emsp;  *Lets take a standard approaches in statistics, such as regression analysis, are concerned with quantifying how changes in X are associated with changes in Y. This concept is used in Uber like looking at identify customer pain points, inform product development, and provide a more personalized experience. For example, if we know that users are submitting customer support tickets due to a lack of clarity around how to use a new feature and not dissatisfaction with the feature itself, we can focus on improving the communications around how to use this feature rather than updating or decommissioning the feature.*\n",
    "<br><br>\n",
    "&emsp;   *In this way transportation industry uses varius statistical methods to provide a good service to the customers!*\n",
    "   \n",
    "***"
   ]
  },
  {
   "cell_type": "markdown",
   "metadata": {},
   "source": [
    "### <span style=\"color:#9400D3\">-------------------------------------------------- End of Part ONE -------------------------------------------------------"
   ]
  },
  {
   "cell_type": "markdown",
   "metadata": {},
   "source": [
    "***\n",
    "# <span style=\"color:#9400D3\">Part TWO - **Project Based**\n",
    "***"
   ]
  },
  {
   "cell_type": "markdown",
   "metadata": {},
   "source": [
    "**DOMAIN:** Sports\n",
    "<br><br>\n",
    "**CONTEXT:** Company X manages the men's top professional basketball division of the American league system.\n",
    "The dataset contains information on all the teams that have participated in all the past tournaments. It has data\n",
    "about how many baskets each team scored, conceded, how many times they came within the first 2 positions,\n",
    "how many tournaments they have qualified, their best position in the past, etc.\n",
    "<br><br>\n",
    "**DATA DESCRIPTION:** Basketball.csv - The data set contains information on all the teams so far participated in\n",
    "all the past tournaments.\n",
    "<br><br>\n",
    "**ATTRIBUTE INFORMATION:**\n",
    "1. Team: Team’s name\n",
    "2. Tournament: Number of played tournaments.\n",
    "3. Score: Team’s score so far.\n",
    "4. PlayedGames: Games played by the team so far.\n",
    "5. WonGames: Games won by the team so far.\n",
    "6. DrawnGames: Games drawn by the team so far.\n",
    "7. LostGames: Games lost by the team so far.\n",
    "8. BasketScored: Basket scored by the team so far.\n",
    "9. BasketGiven: Basket scored against the team so far.\n",
    "10. TournamentChampion: How many times the team was a champion of the tournaments so far.\n",
    "11. Runner-up: How many times the team was a runners-up of the tournaments so far.\n",
    "12. TeamLaunch: Year the team was launched on professional basketball.\n",
    "13. HighestPositionHeld: Highest position held by the team amongst all the tournaments played.\n",
    "<br><br>\n",
    "**PROJECT OBJECTIVE:** Company’s management wants to invest on proposal on managing some of the best\n",
    "teams in the league. The analytics department has been assigned with a task of creating a report on the\n",
    "performance shown by the teams. Some of the older teams are already in contract with competitors. Hence\n",
    "Company X wants to understand which teams they can approach which will be a deal win for them.\n",
    "<br><br>\n",
    "**Steps and tasks:**\n",
    "1. Read the data set, clean the data and prepare a final dataset to be used for analysis.\n",
    "2. Perform detailed statistical analysis and EDA using univariate, bi-variate and multivariate EDA techniques to get a data\n",
    "driven insights on recommending which teams they can approach which will be a deal win for them.. Also as a data\n",
    "and statistics expert you have to develop a detailed performance report using this data.\n",
    "\n",
    "    *Hint: Use statistical techniques and visualisation techniques to come up with useful metrics and reporting. Find out\n",
    "    the best performing team, oldest team, team with highest goals, team with lowest performance etc. and many more.\n",
    "    These are just random examples please use your best analytical approach to build this report. You can mix match\n",
    "    columns to create new ones which can be used for better analysis. Create your own features if required. Be highly\n",
    "    experimental and analytical here to find hidden patterns. Use graphical interactive libraries to enable you to publish\n",
    "    interactive plots in python.*\n",
    "\n",
    "3. Please include any improvements or suggestions to the association management on quality, quantity, variety, velocity,\n",
    "veracity etc. on the data points collected by the association to perform a better data analysis in future."
   ]
  },
  {
   "cell_type": "markdown",
   "metadata": {},
   "source": [
    "***\n",
    "# <span style=\"color:#9400D3\">1. Read the Data set, clean the data and prepare a final dataset to be used for analysis.\n",
    "***"
   ]
  },
  {
   "cell_type": "markdown",
   "metadata": {},
   "source": [
    "## <span style=\"color:#9400D3\">Reading data set as a Dataframe and Cleaning the data"
   ]
  },
  {
   "cell_type": "code",
   "execution_count": 7,
   "metadata": {},
   "outputs": [
    {
     "name": "stdout",
     "output_type": "stream",
     "text": [
      "Loaded data consist:-\n",
      " Number of Rows    = 61 \n",
      " Number of Columns = 13\n"
     ]
    }
   ],
   "source": [
    "# Loading data file to a variable and creating dataframe\n",
    "data = pd.read_csv('Basketball.csv')\n",
    "\n",
    "# Getting Shape in terms of Rows and Columns\n",
    "print('Loaded data consist:-\\n Number of Rows    =',data.shape[0],'\\n Number of Columns =',data.shape[1])"
   ]
  },
  {
   "cell_type": "code",
   "execution_count": 8,
   "metadata": {
    "scrolled": true
   },
   "outputs": [
    {
     "name": "stdout",
     "output_type": "stream",
     "text": [
      "Brief information about the data:-\n",
      "\n",
      "<class 'pandas.core.frame.DataFrame'>\n",
      "RangeIndex: 61 entries, 0 to 60\n",
      "Data columns (total 13 columns):\n",
      " #   Column               Non-Null Count  Dtype \n",
      "---  ------               --------------  ----- \n",
      " 0   Team                 61 non-null     object\n",
      " 1   Tournament           61 non-null     int64 \n",
      " 2   Score                61 non-null     object\n",
      " 3   PlayedGames          61 non-null     object\n",
      " 4   WonGames             61 non-null     object\n",
      " 5   DrawnGames           61 non-null     object\n",
      " 6   LostGames            61 non-null     object\n",
      " 7   BasketScored         61 non-null     object\n",
      " 8   BasketGiven          61 non-null     object\n",
      " 9   TournamentChampion   61 non-null     object\n",
      " 10  Runner-up            61 non-null     object\n",
      " 11  TeamLaunch           61 non-null     object\n",
      " 12  HighestPositionHeld  61 non-null     int64 \n",
      "dtypes: int64(2), object(11)\n",
      "memory usage: 6.3+ KB\n"
     ]
    }
   ],
   "source": [
    "# Getting brief information regarding data class, index range, column names, non-null counts and data types of \n",
    "# each column of the dataframe\n",
    "\n",
    "print('Brief information about the data:-\\n')\n",
    "data.info()"
   ]
  },
  {
   "cell_type": "code",
   "execution_count": 9,
   "metadata": {},
   "outputs": [
    {
     "data": {
      "text/html": [
       "<div>\n",
       "<style scoped>\n",
       "    .dataframe tbody tr th:only-of-type {\n",
       "        vertical-align: middle;\n",
       "    }\n",
       "\n",
       "    .dataframe tbody tr th {\n",
       "        vertical-align: top;\n",
       "    }\n",
       "\n",
       "    .dataframe thead th {\n",
       "        text-align: right;\n",
       "    }\n",
       "</style>\n",
       "<table border=\"1\" class=\"dataframe\">\n",
       "  <thead>\n",
       "    <tr style=\"text-align: right;\">\n",
       "      <th></th>\n",
       "      <th>Team</th>\n",
       "      <th>Tournament</th>\n",
       "      <th>Score</th>\n",
       "      <th>PlayedGames</th>\n",
       "      <th>WonGames</th>\n",
       "      <th>DrawnGames</th>\n",
       "      <th>LostGames</th>\n",
       "      <th>BasketScored</th>\n",
       "      <th>BasketGiven</th>\n",
       "      <th>TournamentChampion</th>\n",
       "      <th>Runner-up</th>\n",
       "      <th>TeamLaunch</th>\n",
       "      <th>HighestPositionHeld</th>\n",
       "    </tr>\n",
       "  </thead>\n",
       "  <tbody>\n",
       "    <tr>\n",
       "      <th>0</th>\n",
       "      <td>Team 1</td>\n",
       "      <td>86</td>\n",
       "      <td>4385</td>\n",
       "      <td>2762</td>\n",
       "      <td>1647</td>\n",
       "      <td>552</td>\n",
       "      <td>563</td>\n",
       "      <td>5947</td>\n",
       "      <td>3140</td>\n",
       "      <td>33</td>\n",
       "      <td>23</td>\n",
       "      <td>1929</td>\n",
       "      <td>1</td>\n",
       "    </tr>\n",
       "    <tr>\n",
       "      <th>1</th>\n",
       "      <td>Team 2</td>\n",
       "      <td>86</td>\n",
       "      <td>4262</td>\n",
       "      <td>2762</td>\n",
       "      <td>1581</td>\n",
       "      <td>573</td>\n",
       "      <td>608</td>\n",
       "      <td>5900</td>\n",
       "      <td>3114</td>\n",
       "      <td>25</td>\n",
       "      <td>25</td>\n",
       "      <td>1929</td>\n",
       "      <td>1</td>\n",
       "    </tr>\n",
       "    <tr>\n",
       "      <th>2</th>\n",
       "      <td>Team 3</td>\n",
       "      <td>80</td>\n",
       "      <td>3442</td>\n",
       "      <td>2614</td>\n",
       "      <td>1241</td>\n",
       "      <td>598</td>\n",
       "      <td>775</td>\n",
       "      <td>4534</td>\n",
       "      <td>3309</td>\n",
       "      <td>10</td>\n",
       "      <td>8</td>\n",
       "      <td>1929</td>\n",
       "      <td>1</td>\n",
       "    </tr>\n",
       "    <tr>\n",
       "      <th>3</th>\n",
       "      <td>Team 4</td>\n",
       "      <td>82</td>\n",
       "      <td>3386</td>\n",
       "      <td>2664</td>\n",
       "      <td>1187</td>\n",
       "      <td>616</td>\n",
       "      <td>861</td>\n",
       "      <td>4398</td>\n",
       "      <td>3469</td>\n",
       "      <td>6</td>\n",
       "      <td>6</td>\n",
       "      <td>1931to32</td>\n",
       "      <td>1</td>\n",
       "    </tr>\n",
       "    <tr>\n",
       "      <th>4</th>\n",
       "      <td>Team 5</td>\n",
       "      <td>86</td>\n",
       "      <td>3368</td>\n",
       "      <td>2762</td>\n",
       "      <td>1209</td>\n",
       "      <td>633</td>\n",
       "      <td>920</td>\n",
       "      <td>4631</td>\n",
       "      <td>3700</td>\n",
       "      <td>8</td>\n",
       "      <td>7</td>\n",
       "      <td>1929</td>\n",
       "      <td>1</td>\n",
       "    </tr>\n",
       "    <tr>\n",
       "      <th>5</th>\n",
       "      <td>Team 6</td>\n",
       "      <td>73</td>\n",
       "      <td>2819</td>\n",
       "      <td>2408</td>\n",
       "      <td>990</td>\n",
       "      <td>531</td>\n",
       "      <td>887</td>\n",
       "      <td>3680</td>\n",
       "      <td>3373</td>\n",
       "      <td>1</td>\n",
       "      <td>4</td>\n",
       "      <td>1934-35</td>\n",
       "      <td>1</td>\n",
       "    </tr>\n",
       "    <tr>\n",
       "      <th>6</th>\n",
       "      <td>Team 7</td>\n",
       "      <td>82</td>\n",
       "      <td>2792</td>\n",
       "      <td>2626</td>\n",
       "      <td>948</td>\n",
       "      <td>608</td>\n",
       "      <td>1070</td>\n",
       "      <td>3609</td>\n",
       "      <td>3889</td>\n",
       "      <td>-</td>\n",
       "      <td>-</td>\n",
       "      <td>1929</td>\n",
       "      <td>3</td>\n",
       "    </tr>\n",
       "    <tr>\n",
       "      <th>7</th>\n",
       "      <td>Team 8</td>\n",
       "      <td>70</td>\n",
       "      <td>2573</td>\n",
       "      <td>2302</td>\n",
       "      <td>864</td>\n",
       "      <td>577</td>\n",
       "      <td>861</td>\n",
       "      <td>3228</td>\n",
       "      <td>3230</td>\n",
       "      <td>2</td>\n",
       "      <td>3</td>\n",
       "      <td>1929</td>\n",
       "      <td>1</td>\n",
       "    </tr>\n",
       "    <tr>\n",
       "      <th>8</th>\n",
       "      <td>Team 9</td>\n",
       "      <td>58</td>\n",
       "      <td>2109</td>\n",
       "      <td>1986</td>\n",
       "      <td>698</td>\n",
       "      <td>522</td>\n",
       "      <td>766</td>\n",
       "      <td>2683</td>\n",
       "      <td>2847</td>\n",
       "      <td>-</td>\n",
       "      <td>1</td>\n",
       "      <td>1939-40</td>\n",
       "      <td>2</td>\n",
       "    </tr>\n",
       "    <tr>\n",
       "      <th>9</th>\n",
       "      <td>Team 10</td>\n",
       "      <td>51</td>\n",
       "      <td>1884</td>\n",
       "      <td>1728</td>\n",
       "      <td>606</td>\n",
       "      <td>440</td>\n",
       "      <td>682</td>\n",
       "      <td>2159</td>\n",
       "      <td>2492</td>\n",
       "      <td>1</td>\n",
       "      <td>-</td>\n",
       "      <td>1932-33</td>\n",
       "      <td>1</td>\n",
       "    </tr>\n",
       "  </tbody>\n",
       "</table>\n",
       "</div>"
      ],
      "text/plain": [
       "      Team  Tournament Score PlayedGames WonGames DrawnGames LostGames  \\\n",
       "0   Team 1          86  4385        2762     1647        552       563   \n",
       "1   Team 2          86  4262        2762     1581        573       608   \n",
       "2   Team 3          80  3442        2614     1241        598       775   \n",
       "3   Team 4          82  3386        2664     1187        616       861   \n",
       "4   Team 5          86  3368        2762     1209        633       920   \n",
       "5   Team 6          73  2819        2408      990        531       887   \n",
       "6   Team 7          82  2792        2626      948        608      1070   \n",
       "7   Team 8          70  2573        2302      864        577       861   \n",
       "8   Team 9          58  2109        1986      698        522       766   \n",
       "9  Team 10          51  1884        1728      606        440       682   \n",
       "\n",
       "  BasketScored BasketGiven TournamentChampion Runner-up TeamLaunch  \\\n",
       "0         5947        3140                 33        23       1929   \n",
       "1         5900        3114                 25        25       1929   \n",
       "2         4534        3309                 10         8       1929   \n",
       "3         4398        3469                  6         6   1931to32   \n",
       "4         4631        3700                  8         7       1929   \n",
       "5         3680        3373                  1         4    1934-35   \n",
       "6         3609        3889                  -         -       1929   \n",
       "7         3228        3230                  2         3       1929   \n",
       "8         2683        2847                  -         1    1939-40   \n",
       "9         2159        2492                  1         -    1932-33   \n",
       "\n",
       "   HighestPositionHeld  \n",
       "0                    1  \n",
       "1                    1  \n",
       "2                    1  \n",
       "3                    1  \n",
       "4                    1  \n",
       "5                    1  \n",
       "6                    3  \n",
       "7                    1  \n",
       "8                    2  \n",
       "9                    1  "
      ]
     },
     "execution_count": 9,
     "metadata": {},
     "output_type": "execute_result"
    }
   ],
   "source": [
    "# Analysing the dataframe to do cleaning operations on it if required!\n",
    "\n",
    "data.head(10)  # Gives top 10 rows of the dataframe"
   ]
  },
  {
   "cell_type": "markdown",
   "metadata": {},
   "source": [
    "**Comments:-**\n",
    "\n",
    " &emsp;&emsp; *By observing the above data we can say that the data has empty values denoted by symbol '-'. So such empty values should be cleaned. But the empty values in the colums **'TournamentChampion'** and **'Runner-up'** are required for the analysis.<br>\n",
    "      <br>&emsp;&emsp;So except these columns, all the empty values should be cleaned and the empty values of those required colums should be filled with '0'. Also the column **'TeamLaunch'** is not proper format, so it should be made in proper format.*\n"
   ]
  },
  {
   "cell_type": "code",
   "execution_count": 10,
   "metadata": {},
   "outputs": [
    {
     "name": "stdout",
     "output_type": "stream",
     "text": [
      "Shape of Data:- (61, 11) \n",
      "\n",
      "Number of rows that have NaN Values = 1\n"
     ]
    },
    {
     "data": {
      "text/html": [
       "<div>\n",
       "<style scoped>\n",
       "    .dataframe tbody tr th:only-of-type {\n",
       "        vertical-align: middle;\n",
       "    }\n",
       "\n",
       "    .dataframe tbody tr th {\n",
       "        vertical-align: top;\n",
       "    }\n",
       "\n",
       "    .dataframe thead th {\n",
       "        text-align: right;\n",
       "    }\n",
       "</style>\n",
       "<table border=\"1\" class=\"dataframe\">\n",
       "  <thead>\n",
       "    <tr style=\"text-align: right;\">\n",
       "      <th></th>\n",
       "      <th>Team</th>\n",
       "      <th>Tournament</th>\n",
       "      <th>Score</th>\n",
       "      <th>PlayedGames</th>\n",
       "      <th>WonGames</th>\n",
       "      <th>DrawnGames</th>\n",
       "      <th>LostGames</th>\n",
       "      <th>BasketScored</th>\n",
       "      <th>BasketGiven</th>\n",
       "      <th>TeamLaunch</th>\n",
       "      <th>HighestPositionHeld</th>\n",
       "    </tr>\n",
       "  </thead>\n",
       "  <tbody>\n",
       "    <tr>\n",
       "      <th>60</th>\n",
       "      <td>Team 61</td>\n",
       "      <td>1</td>\n",
       "      <td>NaN</td>\n",
       "      <td>NaN</td>\n",
       "      <td>NaN</td>\n",
       "      <td>NaN</td>\n",
       "      <td>NaN</td>\n",
       "      <td>NaN</td>\n",
       "      <td>NaN</td>\n",
       "      <td>2017~18</td>\n",
       "      <td>9</td>\n",
       "    </tr>\n",
       "  </tbody>\n",
       "</table>\n",
       "</div>"
      ],
      "text/plain": [
       "       Team  Tournament Score PlayedGames WonGames DrawnGames LostGames  \\\n",
       "60  Team 61           1   NaN         NaN      NaN        NaN       NaN   \n",
       "\n",
       "   BasketScored BasketGiven TeamLaunch  HighestPositionHeld  \n",
       "60          NaN         NaN    2017~18                    9  "
      ]
     },
     "execution_count": 10,
     "metadata": {},
     "output_type": "execute_result"
    }
   ],
   "source": [
    "# Step 1. Removing the required colums.\n",
    "\n",
    "data1 = data.drop(['TournamentChampion','Runner-up'],axis=1) \n",
    "# Required Colums are dropped and remaing data is assigned to variable a\n",
    "\n",
    "print('Shape of Data:-',data1.shape,'\\n')  # Now shape should be 61x11\n",
    "\n",
    "\n",
    "# Step 2. Coverting all empty values('-') to NaN values if any!\n",
    "\n",
    "data1 = data1[data1 != '-']    # Empty values ('-') are coverted to NaN values\n",
    "\n",
    "\n",
    "# Step 3. Getting all rows where NaN values are Present.\n",
    "\n",
    "data1 = data1[data1.isna().any(axis=1)]     # Getting rows that have NaN values\n",
    "print('Number of rows that have NaN Values =',len(data1))\n",
    "data1"
   ]
  },
  {
   "cell_type": "markdown",
   "metadata": {},
   "source": [
    "<br>*Now we have rows which have NaN values and these rows should be cleaned off.*"
   ]
  },
  {
   "cell_type": "code",
   "execution_count": 11,
   "metadata": {},
   "outputs": [],
   "source": [
    "# Cleaning the dataframe having NaN values in it\n",
    "\n",
    "data.drop(data1.index,inplace=True)   # Dropping the rows with NaN values"
   ]
  },
  {
   "cell_type": "code",
   "execution_count": 12,
   "metadata": {},
   "outputs": [],
   "source": [
    "# Replacing empty values('-') of Required Coolumns by '0'\n",
    "\n",
    "data.replace('-',0,inplace=True)"
   ]
  },
  {
   "cell_type": "code",
   "execution_count": 13,
   "metadata": {},
   "outputs": [],
   "source": [
    "# Converting column 'TeamLaunch' to string to make it proper\n",
    "\n",
    "data['TeamLaunch']=data['TeamLaunch'].astype('string')  # Converting to string\n",
    "\n",
    "data['TeamLaunch']=data['TeamLaunch'].str[:4]   # Getting the year of launch upto 4 places"
   ]
  },
  {
   "cell_type": "markdown",
   "metadata": {},
   "source": [
    "***\n",
    "## <span style=\"color:#9400D3\">Preparing a Final Dataset to be used for Analysis"
   ]
  },
  {
   "cell_type": "code",
   "execution_count": 14,
   "metadata": {},
   "outputs": [
    {
     "name": "stdout",
     "output_type": "stream",
     "text": [
      "Data types Before Conversion:-\n"
     ]
    },
    {
     "data": {
      "text/html": [
       "<div>\n",
       "<style scoped>\n",
       "    .dataframe tbody tr th:only-of-type {\n",
       "        vertical-align: middle;\n",
       "    }\n",
       "\n",
       "    .dataframe tbody tr th {\n",
       "        vertical-align: top;\n",
       "    }\n",
       "\n",
       "    .dataframe thead th {\n",
       "        text-align: right;\n",
       "    }\n",
       "</style>\n",
       "<table border=\"1\" class=\"dataframe\">\n",
       "  <thead>\n",
       "    <tr style=\"text-align: right;\">\n",
       "      <th></th>\n",
       "      <th>Data Types</th>\n",
       "    </tr>\n",
       "  </thead>\n",
       "  <tbody>\n",
       "    <tr>\n",
       "      <th>Team</th>\n",
       "      <td>object</td>\n",
       "    </tr>\n",
       "    <tr>\n",
       "      <th>Tournament</th>\n",
       "      <td>int64</td>\n",
       "    </tr>\n",
       "    <tr>\n",
       "      <th>Score</th>\n",
       "      <td>object</td>\n",
       "    </tr>\n",
       "    <tr>\n",
       "      <th>PlayedGames</th>\n",
       "      <td>object</td>\n",
       "    </tr>\n",
       "    <tr>\n",
       "      <th>WonGames</th>\n",
       "      <td>object</td>\n",
       "    </tr>\n",
       "    <tr>\n",
       "      <th>DrawnGames</th>\n",
       "      <td>object</td>\n",
       "    </tr>\n",
       "    <tr>\n",
       "      <th>LostGames</th>\n",
       "      <td>object</td>\n",
       "    </tr>\n",
       "    <tr>\n",
       "      <th>BasketScored</th>\n",
       "      <td>object</td>\n",
       "    </tr>\n",
       "    <tr>\n",
       "      <th>BasketGiven</th>\n",
       "      <td>object</td>\n",
       "    </tr>\n",
       "    <tr>\n",
       "      <th>TournamentChampion</th>\n",
       "      <td>object</td>\n",
       "    </tr>\n",
       "    <tr>\n",
       "      <th>Runner-up</th>\n",
       "      <td>object</td>\n",
       "    </tr>\n",
       "    <tr>\n",
       "      <th>TeamLaunch</th>\n",
       "      <td>string</td>\n",
       "    </tr>\n",
       "    <tr>\n",
       "      <th>HighestPositionHeld</th>\n",
       "      <td>int64</td>\n",
       "    </tr>\n",
       "  </tbody>\n",
       "</table>\n",
       "</div>"
      ],
      "text/plain": [
       "                    Data Types\n",
       "Team                    object\n",
       "Tournament               int64\n",
       "Score                   object\n",
       "PlayedGames             object\n",
       "WonGames                object\n",
       "DrawnGames              object\n",
       "LostGames               object\n",
       "BasketScored            object\n",
       "BasketGiven             object\n",
       "TournamentChampion      object\n",
       "Runner-up               object\n",
       "TeamLaunch              string\n",
       "HighestPositionHeld      int64"
      ]
     },
     "execution_count": 14,
     "metadata": {},
     "output_type": "execute_result"
    }
   ],
   "source": [
    "# Analysing Data types of the dataframe\n",
    "print('Data types Before Conversion:-')\n",
    "data.dtypes.to_frame(name = 'Data Types')"
   ]
  },
  {
   "cell_type": "code",
   "execution_count": 15,
   "metadata": {},
   "outputs": [
    {
     "name": "stdout",
     "output_type": "stream",
     "text": [
      "Data types After Conversion:-\n"
     ]
    },
    {
     "data": {
      "text/html": [
       "<div>\n",
       "<style scoped>\n",
       "    .dataframe tbody tr th:only-of-type {\n",
       "        vertical-align: middle;\n",
       "    }\n",
       "\n",
       "    .dataframe tbody tr th {\n",
       "        vertical-align: top;\n",
       "    }\n",
       "\n",
       "    .dataframe thead th {\n",
       "        text-align: right;\n",
       "    }\n",
       "</style>\n",
       "<table border=\"1\" class=\"dataframe\">\n",
       "  <thead>\n",
       "    <tr style=\"text-align: right;\">\n",
       "      <th></th>\n",
       "      <th>Data Types</th>\n",
       "    </tr>\n",
       "  </thead>\n",
       "  <tbody>\n",
       "    <tr>\n",
       "      <th>Team</th>\n",
       "      <td>string</td>\n",
       "    </tr>\n",
       "    <tr>\n",
       "      <th>Tournament</th>\n",
       "      <td>int64</td>\n",
       "    </tr>\n",
       "    <tr>\n",
       "      <th>Score</th>\n",
       "      <td>int32</td>\n",
       "    </tr>\n",
       "    <tr>\n",
       "      <th>PlayedGames</th>\n",
       "      <td>int32</td>\n",
       "    </tr>\n",
       "    <tr>\n",
       "      <th>WonGames</th>\n",
       "      <td>int32</td>\n",
       "    </tr>\n",
       "    <tr>\n",
       "      <th>DrawnGames</th>\n",
       "      <td>int32</td>\n",
       "    </tr>\n",
       "    <tr>\n",
       "      <th>LostGames</th>\n",
       "      <td>int32</td>\n",
       "    </tr>\n",
       "    <tr>\n",
       "      <th>BasketScored</th>\n",
       "      <td>int32</td>\n",
       "    </tr>\n",
       "    <tr>\n",
       "      <th>BasketGiven</th>\n",
       "      <td>int32</td>\n",
       "    </tr>\n",
       "    <tr>\n",
       "      <th>TournamentChampion</th>\n",
       "      <td>int32</td>\n",
       "    </tr>\n",
       "    <tr>\n",
       "      <th>Runner-up</th>\n",
       "      <td>int32</td>\n",
       "    </tr>\n",
       "    <tr>\n",
       "      <th>TeamLaunch</th>\n",
       "      <td>int32</td>\n",
       "    </tr>\n",
       "    <tr>\n",
       "      <th>HighestPositionHeld</th>\n",
       "      <td>int64</td>\n",
       "    </tr>\n",
       "  </tbody>\n",
       "</table>\n",
       "</div>"
      ],
      "text/plain": [
       "                    Data Types\n",
       "Team                    string\n",
       "Tournament               int64\n",
       "Score                    int32\n",
       "PlayedGames              int32\n",
       "WonGames                 int32\n",
       "DrawnGames               int32\n",
       "LostGames                int32\n",
       "BasketScored             int32\n",
       "BasketGiven              int32\n",
       "TournamentChampion       int32\n",
       "Runner-up                int32\n",
       "TeamLaunch               int32\n",
       "HighestPositionHeld      int64"
      ]
     },
     "execution_count": 15,
     "metadata": {},
     "output_type": "execute_result"
    }
   ],
   "source": [
    "# Converting the Objects to relevant Datatypes\n",
    "\n",
    "data['Team']=data['Team'].astype('string')  # Converting Teams to String\n",
    "\n",
    "clm = ['Score','PlayedGames','WonGames','DrawnGames','LostGames','BasketScored','BasketGiven',\n",
    "       'TournamentChampion','Runner-up','TeamLaunch']    # List of Columns to be converted to integer data type\n",
    "\n",
    "data[clm]=data[clm].astype(int)  # Converting rest columns to integer values\n",
    "\n",
    "print('Data types After Conversion:-')\n",
    "data.dtypes.to_frame(name = 'Data Types')\n"
   ]
  },
  {
   "cell_type": "code",
   "execution_count": 16,
   "metadata": {},
   "outputs": [
    {
     "name": "stdout",
     "output_type": "stream",
     "text": [
      "Final Dataset for Analysis:-\n",
      "Loaded data consist:-\n",
      " Number of Rows    = 60 \n",
      " Number of Columns = 13\n"
     ]
    },
    {
     "data": {
      "text/html": [
       "<div>\n",
       "<style scoped>\n",
       "    .dataframe tbody tr th:only-of-type {\n",
       "        vertical-align: middle;\n",
       "    }\n",
       "\n",
       "    .dataframe tbody tr th {\n",
       "        vertical-align: top;\n",
       "    }\n",
       "\n",
       "    .dataframe thead th {\n",
       "        text-align: right;\n",
       "    }\n",
       "</style>\n",
       "<table border=\"1\" class=\"dataframe\">\n",
       "  <thead>\n",
       "    <tr style=\"text-align: right;\">\n",
       "      <th></th>\n",
       "      <th>Team</th>\n",
       "      <th>Tournament</th>\n",
       "      <th>Score</th>\n",
       "      <th>PlayedGames</th>\n",
       "      <th>WonGames</th>\n",
       "      <th>DrawnGames</th>\n",
       "      <th>LostGames</th>\n",
       "      <th>BasketScored</th>\n",
       "      <th>BasketGiven</th>\n",
       "      <th>TournamentChampion</th>\n",
       "      <th>Runner-up</th>\n",
       "      <th>TeamLaunch</th>\n",
       "      <th>HighestPositionHeld</th>\n",
       "    </tr>\n",
       "  </thead>\n",
       "  <tbody>\n",
       "    <tr>\n",
       "      <th>0</th>\n",
       "      <td>Team 1</td>\n",
       "      <td>86</td>\n",
       "      <td>4385</td>\n",
       "      <td>2762</td>\n",
       "      <td>1647</td>\n",
       "      <td>552</td>\n",
       "      <td>563</td>\n",
       "      <td>5947</td>\n",
       "      <td>3140</td>\n",
       "      <td>33</td>\n",
       "      <td>23</td>\n",
       "      <td>1929</td>\n",
       "      <td>1</td>\n",
       "    </tr>\n",
       "    <tr>\n",
       "      <th>1</th>\n",
       "      <td>Team 2</td>\n",
       "      <td>86</td>\n",
       "      <td>4262</td>\n",
       "      <td>2762</td>\n",
       "      <td>1581</td>\n",
       "      <td>573</td>\n",
       "      <td>608</td>\n",
       "      <td>5900</td>\n",
       "      <td>3114</td>\n",
       "      <td>25</td>\n",
       "      <td>25</td>\n",
       "      <td>1929</td>\n",
       "      <td>1</td>\n",
       "    </tr>\n",
       "    <tr>\n",
       "      <th>2</th>\n",
       "      <td>Team 3</td>\n",
       "      <td>80</td>\n",
       "      <td>3442</td>\n",
       "      <td>2614</td>\n",
       "      <td>1241</td>\n",
       "      <td>598</td>\n",
       "      <td>775</td>\n",
       "      <td>4534</td>\n",
       "      <td>3309</td>\n",
       "      <td>10</td>\n",
       "      <td>8</td>\n",
       "      <td>1929</td>\n",
       "      <td>1</td>\n",
       "    </tr>\n",
       "    <tr>\n",
       "      <th>3</th>\n",
       "      <td>Team 4</td>\n",
       "      <td>82</td>\n",
       "      <td>3386</td>\n",
       "      <td>2664</td>\n",
       "      <td>1187</td>\n",
       "      <td>616</td>\n",
       "      <td>861</td>\n",
       "      <td>4398</td>\n",
       "      <td>3469</td>\n",
       "      <td>6</td>\n",
       "      <td>6</td>\n",
       "      <td>1931</td>\n",
       "      <td>1</td>\n",
       "    </tr>\n",
       "    <tr>\n",
       "      <th>4</th>\n",
       "      <td>Team 5</td>\n",
       "      <td>86</td>\n",
       "      <td>3368</td>\n",
       "      <td>2762</td>\n",
       "      <td>1209</td>\n",
       "      <td>633</td>\n",
       "      <td>920</td>\n",
       "      <td>4631</td>\n",
       "      <td>3700</td>\n",
       "      <td>8</td>\n",
       "      <td>7</td>\n",
       "      <td>1929</td>\n",
       "      <td>1</td>\n",
       "    </tr>\n",
       "    <tr>\n",
       "      <th>5</th>\n",
       "      <td>Team 6</td>\n",
       "      <td>73</td>\n",
       "      <td>2819</td>\n",
       "      <td>2408</td>\n",
       "      <td>990</td>\n",
       "      <td>531</td>\n",
       "      <td>887</td>\n",
       "      <td>3680</td>\n",
       "      <td>3373</td>\n",
       "      <td>1</td>\n",
       "      <td>4</td>\n",
       "      <td>1934</td>\n",
       "      <td>1</td>\n",
       "    </tr>\n",
       "    <tr>\n",
       "      <th>6</th>\n",
       "      <td>Team 7</td>\n",
       "      <td>82</td>\n",
       "      <td>2792</td>\n",
       "      <td>2626</td>\n",
       "      <td>948</td>\n",
       "      <td>608</td>\n",
       "      <td>1070</td>\n",
       "      <td>3609</td>\n",
       "      <td>3889</td>\n",
       "      <td>0</td>\n",
       "      <td>0</td>\n",
       "      <td>1929</td>\n",
       "      <td>3</td>\n",
       "    </tr>\n",
       "    <tr>\n",
       "      <th>7</th>\n",
       "      <td>Team 8</td>\n",
       "      <td>70</td>\n",
       "      <td>2573</td>\n",
       "      <td>2302</td>\n",
       "      <td>864</td>\n",
       "      <td>577</td>\n",
       "      <td>861</td>\n",
       "      <td>3228</td>\n",
       "      <td>3230</td>\n",
       "      <td>2</td>\n",
       "      <td>3</td>\n",
       "      <td>1929</td>\n",
       "      <td>1</td>\n",
       "    </tr>\n",
       "    <tr>\n",
       "      <th>8</th>\n",
       "      <td>Team 9</td>\n",
       "      <td>58</td>\n",
       "      <td>2109</td>\n",
       "      <td>1986</td>\n",
       "      <td>698</td>\n",
       "      <td>522</td>\n",
       "      <td>766</td>\n",
       "      <td>2683</td>\n",
       "      <td>2847</td>\n",
       "      <td>0</td>\n",
       "      <td>1</td>\n",
       "      <td>1939</td>\n",
       "      <td>2</td>\n",
       "    </tr>\n",
       "    <tr>\n",
       "      <th>9</th>\n",
       "      <td>Team 10</td>\n",
       "      <td>51</td>\n",
       "      <td>1884</td>\n",
       "      <td>1728</td>\n",
       "      <td>606</td>\n",
       "      <td>440</td>\n",
       "      <td>682</td>\n",
       "      <td>2159</td>\n",
       "      <td>2492</td>\n",
       "      <td>1</td>\n",
       "      <td>0</td>\n",
       "      <td>1932</td>\n",
       "      <td>1</td>\n",
       "    </tr>\n",
       "  </tbody>\n",
       "</table>\n",
       "</div>"
      ],
      "text/plain": [
       "      Team  Tournament  Score  PlayedGames  WonGames  DrawnGames  LostGames  \\\n",
       "0   Team 1          86   4385         2762      1647         552        563   \n",
       "1   Team 2          86   4262         2762      1581         573        608   \n",
       "2   Team 3          80   3442         2614      1241         598        775   \n",
       "3   Team 4          82   3386         2664      1187         616        861   \n",
       "4   Team 5          86   3368         2762      1209         633        920   \n",
       "5   Team 6          73   2819         2408       990         531        887   \n",
       "6   Team 7          82   2792         2626       948         608       1070   \n",
       "7   Team 8          70   2573         2302       864         577        861   \n",
       "8   Team 9          58   2109         1986       698         522        766   \n",
       "9  Team 10          51   1884         1728       606         440        682   \n",
       "\n",
       "   BasketScored  BasketGiven  TournamentChampion  Runner-up  TeamLaunch  \\\n",
       "0          5947         3140                  33         23        1929   \n",
       "1          5900         3114                  25         25        1929   \n",
       "2          4534         3309                  10          8        1929   \n",
       "3          4398         3469                   6          6        1931   \n",
       "4          4631         3700                   8          7        1929   \n",
       "5          3680         3373                   1          4        1934   \n",
       "6          3609         3889                   0          0        1929   \n",
       "7          3228         3230                   2          3        1929   \n",
       "8          2683         2847                   0          1        1939   \n",
       "9          2159         2492                   1          0        1932   \n",
       "\n",
       "   HighestPositionHeld  \n",
       "0                    1  \n",
       "1                    1  \n",
       "2                    1  \n",
       "3                    1  \n",
       "4                    1  \n",
       "5                    1  \n",
       "6                    3  \n",
       "7                    1  \n",
       "8                    2  \n",
       "9                    1  "
      ]
     },
     "execution_count": 16,
     "metadata": {},
     "output_type": "execute_result"
    }
   ],
   "source": [
    "# Final Dataset for Analysis\n",
    "print('Final Dataset for Analysis:-')\n",
    "print('Loaded data consist:-\\n Number of Rows    =',data.shape[0],'\\n Number of Columns =',data.shape[1])\n",
    "data.head(10)"
   ]
  },
  {
   "cell_type": "markdown",
   "metadata": {},
   "source": [
    "<br> *Now our dataset is ready to perform statistical analysis.*"
   ]
  },
  {
   "cell_type": "markdown",
   "metadata": {},
   "source": [
    "***\n",
    "## <span style=\"color:#9400D3\">2. Perform detailed statistical analysis and EDA using univariate, bi-variate and multivariate EDA techniques to get a datadriven insights on recommending which teams they can approach which will be a deal win for them.\n",
    "***"
   ]
  },
  {
   "cell_type": "markdown",
   "metadata": {},
   "source": [
    "## <span style=\"color:#9400D3\"> Performing Statistical Analysis and EDA on the Data"
   ]
  },
  {
   "cell_type": "code",
   "execution_count": 17,
   "metadata": {},
   "outputs": [
    {
     "name": "stdout",
     "output_type": "stream",
     "text": [
      "Brief Summary of Dataset:-\n"
     ]
    },
    {
     "data": {
      "text/html": [
       "<div>\n",
       "<style scoped>\n",
       "    .dataframe tbody tr th:only-of-type {\n",
       "        vertical-align: middle;\n",
       "    }\n",
       "\n",
       "    .dataframe tbody tr th {\n",
       "        vertical-align: top;\n",
       "    }\n",
       "\n",
       "    .dataframe thead th {\n",
       "        text-align: right;\n",
       "    }\n",
       "</style>\n",
       "<table border=\"1\" class=\"dataframe\">\n",
       "  <thead>\n",
       "    <tr style=\"text-align: right;\">\n",
       "      <th></th>\n",
       "      <th>Tournament</th>\n",
       "      <th>Score</th>\n",
       "      <th>PlayedGames</th>\n",
       "      <th>WonGames</th>\n",
       "      <th>DrawnGames</th>\n",
       "      <th>LostGames</th>\n",
       "      <th>BasketScored</th>\n",
       "      <th>BasketGiven</th>\n",
       "      <th>TournamentChampion</th>\n",
       "      <th>Runner-up</th>\n",
       "      <th>TeamLaunch</th>\n",
       "      <th>HighestPositionHeld</th>\n",
       "    </tr>\n",
       "  </thead>\n",
       "  <tbody>\n",
       "    <tr>\n",
       "      <th>count</th>\n",
       "      <td>60.000000</td>\n",
       "      <td>60.000000</td>\n",
       "      <td>60.000000</td>\n",
       "      <td>60.000000</td>\n",
       "      <td>60.000000</td>\n",
       "      <td>60.000000</td>\n",
       "      <td>60.000000</td>\n",
       "      <td>60.000000</td>\n",
       "      <td>60.00000</td>\n",
       "      <td>60.000000</td>\n",
       "      <td>60.000000</td>\n",
       "      <td>60.000000</td>\n",
       "    </tr>\n",
       "    <tr>\n",
       "      <th>mean</th>\n",
       "      <td>24.383333</td>\n",
       "      <td>916.450000</td>\n",
       "      <td>810.100000</td>\n",
       "      <td>309.033333</td>\n",
       "      <td>192.083333</td>\n",
       "      <td>308.816667</td>\n",
       "      <td>1159.350000</td>\n",
       "      <td>1159.233333</td>\n",
       "      <td>1.45000</td>\n",
       "      <td>1.433333</td>\n",
       "      <td>1957.950000</td>\n",
       "      <td>7.050000</td>\n",
       "    </tr>\n",
       "    <tr>\n",
       "      <th>std</th>\n",
       "      <td>26.884620</td>\n",
       "      <td>1138.342899</td>\n",
       "      <td>877.465393</td>\n",
       "      <td>408.481395</td>\n",
       "      <td>201.985508</td>\n",
       "      <td>294.508639</td>\n",
       "      <td>1512.063948</td>\n",
       "      <td>1163.946914</td>\n",
       "      <td>5.51554</td>\n",
       "      <td>4.574679</td>\n",
       "      <td>26.646732</td>\n",
       "      <td>5.315232</td>\n",
       "    </tr>\n",
       "    <tr>\n",
       "      <th>min</th>\n",
       "      <td>1.000000</td>\n",
       "      <td>14.000000</td>\n",
       "      <td>30.000000</td>\n",
       "      <td>5.000000</td>\n",
       "      <td>4.000000</td>\n",
       "      <td>15.000000</td>\n",
       "      <td>34.000000</td>\n",
       "      <td>55.000000</td>\n",
       "      <td>0.00000</td>\n",
       "      <td>0.000000</td>\n",
       "      <td>1929.000000</td>\n",
       "      <td>1.000000</td>\n",
       "    </tr>\n",
       "    <tr>\n",
       "      <th>25%</th>\n",
       "      <td>4.000000</td>\n",
       "      <td>104.250000</td>\n",
       "      <td>115.500000</td>\n",
       "      <td>34.750000</td>\n",
       "      <td>26.250000</td>\n",
       "      <td>62.750000</td>\n",
       "      <td>154.500000</td>\n",
       "      <td>236.000000</td>\n",
       "      <td>0.00000</td>\n",
       "      <td>0.000000</td>\n",
       "      <td>1934.750000</td>\n",
       "      <td>3.000000</td>\n",
       "    </tr>\n",
       "    <tr>\n",
       "      <th>50%</th>\n",
       "      <td>12.000000</td>\n",
       "      <td>395.500000</td>\n",
       "      <td>424.500000</td>\n",
       "      <td>124.000000</td>\n",
       "      <td>98.500000</td>\n",
       "      <td>197.500000</td>\n",
       "      <td>444.000000</td>\n",
       "      <td>632.500000</td>\n",
       "      <td>0.00000</td>\n",
       "      <td>0.000000</td>\n",
       "      <td>1950.500000</td>\n",
       "      <td>6.000000</td>\n",
       "    </tr>\n",
       "    <tr>\n",
       "      <th>75%</th>\n",
       "      <td>39.000000</td>\n",
       "      <td>1360.500000</td>\n",
       "      <td>1345.500000</td>\n",
       "      <td>432.750000</td>\n",
       "      <td>331.500000</td>\n",
       "      <td>563.500000</td>\n",
       "      <td>1669.750000</td>\n",
       "      <td>2001.250000</td>\n",
       "      <td>0.00000</td>\n",
       "      <td>0.000000</td>\n",
       "      <td>1977.250000</td>\n",
       "      <td>10.000000</td>\n",
       "    </tr>\n",
       "    <tr>\n",
       "      <th>max</th>\n",
       "      <td>86.000000</td>\n",
       "      <td>4385.000000</td>\n",
       "      <td>2762.000000</td>\n",
       "      <td>1647.000000</td>\n",
       "      <td>633.000000</td>\n",
       "      <td>1070.000000</td>\n",
       "      <td>5947.000000</td>\n",
       "      <td>3889.000000</td>\n",
       "      <td>33.00000</td>\n",
       "      <td>25.000000</td>\n",
       "      <td>2016.000000</td>\n",
       "      <td>20.000000</td>\n",
       "    </tr>\n",
       "  </tbody>\n",
       "</table>\n",
       "</div>"
      ],
      "text/plain": [
       "       Tournament        Score  PlayedGames     WonGames  DrawnGames  \\\n",
       "count   60.000000    60.000000    60.000000    60.000000   60.000000   \n",
       "mean    24.383333   916.450000   810.100000   309.033333  192.083333   \n",
       "std     26.884620  1138.342899   877.465393   408.481395  201.985508   \n",
       "min      1.000000    14.000000    30.000000     5.000000    4.000000   \n",
       "25%      4.000000   104.250000   115.500000    34.750000   26.250000   \n",
       "50%     12.000000   395.500000   424.500000   124.000000   98.500000   \n",
       "75%     39.000000  1360.500000  1345.500000   432.750000  331.500000   \n",
       "max     86.000000  4385.000000  2762.000000  1647.000000  633.000000   \n",
       "\n",
       "         LostGames  BasketScored  BasketGiven  TournamentChampion  Runner-up  \\\n",
       "count    60.000000     60.000000    60.000000            60.00000  60.000000   \n",
       "mean    308.816667   1159.350000  1159.233333             1.45000   1.433333   \n",
       "std     294.508639   1512.063948  1163.946914             5.51554   4.574679   \n",
       "min      15.000000     34.000000    55.000000             0.00000   0.000000   \n",
       "25%      62.750000    154.500000   236.000000             0.00000   0.000000   \n",
       "50%     197.500000    444.000000   632.500000             0.00000   0.000000   \n",
       "75%     563.500000   1669.750000  2001.250000             0.00000   0.000000   \n",
       "max    1070.000000   5947.000000  3889.000000            33.00000  25.000000   \n",
       "\n",
       "        TeamLaunch  HighestPositionHeld  \n",
       "count    60.000000            60.000000  \n",
       "mean   1957.950000             7.050000  \n",
       "std      26.646732             5.315232  \n",
       "min    1929.000000             1.000000  \n",
       "25%    1934.750000             3.000000  \n",
       "50%    1950.500000             6.000000  \n",
       "75%    1977.250000            10.000000  \n",
       "max    2016.000000            20.000000  "
      ]
     },
     "execution_count": 17,
     "metadata": {},
     "output_type": "execute_result"
    }
   ],
   "source": [
    "# Describing the data interms of count, mean, standard deviation, and 5 point summary\n",
    "\n",
    "print('Brief Summary of Dataset:-')\n",
    "\n",
    "data.describe()  \n",
    "\n",
    "# Here we can know count, mean, standard deviation and 5 point summary of each cloumn of our dataset"
   ]
  },
  {
   "cell_type": "code",
   "execution_count": 18,
   "metadata": {},
   "outputs": [
    {
     "name": "stdout",
     "output_type": "stream",
     "text": [
      "Skewness of all attributes:-\n"
     ]
    },
    {
     "data": {
      "text/html": [
       "<div>\n",
       "<style scoped>\n",
       "    .dataframe tbody tr th:only-of-type {\n",
       "        vertical-align: middle;\n",
       "    }\n",
       "\n",
       "    .dataframe tbody tr th {\n",
       "        vertical-align: top;\n",
       "    }\n",
       "\n",
       "    .dataframe thead th {\n",
       "        text-align: right;\n",
       "    }\n",
       "</style>\n",
       "<table border=\"1\" class=\"dataframe\">\n",
       "  <thead>\n",
       "    <tr style=\"text-align: right;\">\n",
       "      <th></th>\n",
       "      <th>Skewness</th>\n",
       "    </tr>\n",
       "  </thead>\n",
       "  <tbody>\n",
       "    <tr>\n",
       "      <th>Tournament</th>\n",
       "      <td>1.197176</td>\n",
       "    </tr>\n",
       "    <tr>\n",
       "      <th>Score</th>\n",
       "      <td>1.574104</td>\n",
       "    </tr>\n",
       "    <tr>\n",
       "      <th>PlayedGames</th>\n",
       "      <td>1.123454</td>\n",
       "    </tr>\n",
       "    <tr>\n",
       "      <th>WonGames</th>\n",
       "      <td>1.786067</td>\n",
       "    </tr>\n",
       "    <tr>\n",
       "      <th>DrawnGames</th>\n",
       "      <td>0.984899</td>\n",
       "    </tr>\n",
       "    <tr>\n",
       "      <th>LostGames</th>\n",
       "      <td>0.880596</td>\n",
       "    </tr>\n",
       "    <tr>\n",
       "      <th>BasketScored</th>\n",
       "      <td>1.758058</td>\n",
       "    </tr>\n",
       "    <tr>\n",
       "      <th>BasketGiven</th>\n",
       "      <td>0.958164</td>\n",
       "    </tr>\n",
       "    <tr>\n",
       "      <th>TournamentChampion</th>\n",
       "      <td>4.734845</td>\n",
       "    </tr>\n",
       "    <tr>\n",
       "      <th>Runner-up</th>\n",
       "      <td>4.321794</td>\n",
       "    </tr>\n",
       "    <tr>\n",
       "      <th>TeamLaunch</th>\n",
       "      <td>0.682570</td>\n",
       "    </tr>\n",
       "    <tr>\n",
       "      <th>HighestPositionHeld</th>\n",
       "      <td>0.832164</td>\n",
       "    </tr>\n",
       "  </tbody>\n",
       "</table>\n",
       "</div>"
      ],
      "text/plain": [
       "                     Skewness\n",
       "Tournament           1.197176\n",
       "Score                1.574104\n",
       "PlayedGames          1.123454\n",
       "WonGames             1.786067\n",
       "DrawnGames           0.984899\n",
       "LostGames            0.880596\n",
       "BasketScored         1.758058\n",
       "BasketGiven          0.958164\n",
       "TournamentChampion   4.734845\n",
       "Runner-up            4.321794\n",
       "TeamLaunch           0.682570\n",
       "HighestPositionHeld  0.832164"
      ]
     },
     "execution_count": 18,
     "metadata": {},
     "output_type": "execute_result"
    }
   ],
   "source": [
    "# Checking skewness of the data attributes\n",
    "\n",
    "print('Skewness of all attributes:-')  \n",
    "data.skew().to_frame(name='Skewness')  # Gives skewness of all attributes"
   ]
  },
  {
   "cell_type": "code",
   "execution_count": 19,
   "metadata": {},
   "outputs": [
    {
     "name": "stdout",
     "output_type": "stream",
     "text": [
      "IQR of all attributes:-\n"
     ]
    },
    {
     "data": {
      "text/html": [
       "<div>\n",
       "<style scoped>\n",
       "    .dataframe tbody tr th:only-of-type {\n",
       "        vertical-align: middle;\n",
       "    }\n",
       "\n",
       "    .dataframe tbody tr th {\n",
       "        vertical-align: top;\n",
       "    }\n",
       "\n",
       "    .dataframe thead th {\n",
       "        text-align: right;\n",
       "    }\n",
       "</style>\n",
       "<table border=\"1\" class=\"dataframe\">\n",
       "  <thead>\n",
       "    <tr style=\"text-align: right;\">\n",
       "      <th></th>\n",
       "      <th>Interquartile Range</th>\n",
       "    </tr>\n",
       "  </thead>\n",
       "  <tbody>\n",
       "    <tr>\n",
       "      <th>Tournament</th>\n",
       "      <td>35.00</td>\n",
       "    </tr>\n",
       "    <tr>\n",
       "      <th>Score</th>\n",
       "      <td>1256.25</td>\n",
       "    </tr>\n",
       "    <tr>\n",
       "      <th>PlayedGames</th>\n",
       "      <td>1230.00</td>\n",
       "    </tr>\n",
       "    <tr>\n",
       "      <th>WonGames</th>\n",
       "      <td>398.00</td>\n",
       "    </tr>\n",
       "    <tr>\n",
       "      <th>DrawnGames</th>\n",
       "      <td>305.25</td>\n",
       "    </tr>\n",
       "    <tr>\n",
       "      <th>LostGames</th>\n",
       "      <td>500.75</td>\n",
       "    </tr>\n",
       "    <tr>\n",
       "      <th>BasketScored</th>\n",
       "      <td>1515.25</td>\n",
       "    </tr>\n",
       "    <tr>\n",
       "      <th>BasketGiven</th>\n",
       "      <td>1765.25</td>\n",
       "    </tr>\n",
       "    <tr>\n",
       "      <th>TournamentChampion</th>\n",
       "      <td>0.00</td>\n",
       "    </tr>\n",
       "    <tr>\n",
       "      <th>Runner-up</th>\n",
       "      <td>0.00</td>\n",
       "    </tr>\n",
       "    <tr>\n",
       "      <th>TeamLaunch</th>\n",
       "      <td>42.50</td>\n",
       "    </tr>\n",
       "    <tr>\n",
       "      <th>HighestPositionHeld</th>\n",
       "      <td>7.00</td>\n",
       "    </tr>\n",
       "  </tbody>\n",
       "</table>\n",
       "</div>"
      ],
      "text/plain": [
       "                     Interquartile Range\n",
       "Tournament                         35.00\n",
       "Score                            1256.25\n",
       "PlayedGames                      1230.00\n",
       "WonGames                          398.00\n",
       "DrawnGames                        305.25\n",
       "LostGames                         500.75\n",
       "BasketScored                     1515.25\n",
       "BasketGiven                      1765.25\n",
       "TournamentChampion                  0.00\n",
       "Runner-up                           0.00\n",
       "TeamLaunch                         42.50\n",
       "HighestPositionHeld                 7.00"
      ]
     },
     "execution_count": 19,
     "metadata": {},
     "output_type": "execute_result"
    }
   ],
   "source": [
    "# Getting Interquartile Range of data attributes\n",
    "\n",
    "print('IQR of all attributes:-')\n",
    "(data.quantile(0.75) - data.quantile(0.25)).to_frame(name='Interquartile Range')  # Gives IQR"
   ]
  },
  {
   "cell_type": "code",
   "execution_count": 20,
   "metadata": {},
   "outputs": [
    {
     "name": "stdout",
     "output_type": "stream",
     "text": [
      "Variance of all attributes:-\n"
     ]
    },
    {
     "data": {
      "text/html": [
       "<div>\n",
       "<style scoped>\n",
       "    .dataframe tbody tr th:only-of-type {\n",
       "        vertical-align: middle;\n",
       "    }\n",
       "\n",
       "    .dataframe tbody tr th {\n",
       "        vertical-align: top;\n",
       "    }\n",
       "\n",
       "    .dataframe thead th {\n",
       "        text-align: right;\n",
       "    }\n",
       "</style>\n",
       "<table border=\"1\" class=\"dataframe\">\n",
       "  <thead>\n",
       "    <tr style=\"text-align: right;\">\n",
       "      <th></th>\n",
       "      <th>Variance</th>\n",
       "    </tr>\n",
       "  </thead>\n",
       "  <tbody>\n",
       "    <tr>\n",
       "      <th>Tournament</th>\n",
       "      <td>7.227828e+02</td>\n",
       "    </tr>\n",
       "    <tr>\n",
       "      <th>Score</th>\n",
       "      <td>1.295825e+06</td>\n",
       "    </tr>\n",
       "    <tr>\n",
       "      <th>PlayedGames</th>\n",
       "      <td>7.699455e+05</td>\n",
       "    </tr>\n",
       "    <tr>\n",
       "      <th>WonGames</th>\n",
       "      <td>1.668570e+05</td>\n",
       "    </tr>\n",
       "    <tr>\n",
       "      <th>DrawnGames</th>\n",
       "      <td>4.079815e+04</td>\n",
       "    </tr>\n",
       "    <tr>\n",
       "      <th>LostGames</th>\n",
       "      <td>8.673534e+04</td>\n",
       "    </tr>\n",
       "    <tr>\n",
       "      <th>BasketScored</th>\n",
       "      <td>2.286337e+06</td>\n",
       "    </tr>\n",
       "    <tr>\n",
       "      <th>BasketGiven</th>\n",
       "      <td>1.354772e+06</td>\n",
       "    </tr>\n",
       "    <tr>\n",
       "      <th>TournamentChampion</th>\n",
       "      <td>3.042119e+01</td>\n",
       "    </tr>\n",
       "    <tr>\n",
       "      <th>Runner-up</th>\n",
       "      <td>2.092768e+01</td>\n",
       "    </tr>\n",
       "    <tr>\n",
       "      <th>TeamLaunch</th>\n",
       "      <td>7.100483e+02</td>\n",
       "    </tr>\n",
       "    <tr>\n",
       "      <th>HighestPositionHeld</th>\n",
       "      <td>2.825169e+01</td>\n",
       "    </tr>\n",
       "  </tbody>\n",
       "</table>\n",
       "</div>"
      ],
      "text/plain": [
       "                         Variance\n",
       "Tournament           7.227828e+02\n",
       "Score                1.295825e+06\n",
       "PlayedGames          7.699455e+05\n",
       "WonGames             1.668570e+05\n",
       "DrawnGames           4.079815e+04\n",
       "LostGames            8.673534e+04\n",
       "BasketScored         2.286337e+06\n",
       "BasketGiven          1.354772e+06\n",
       "TournamentChampion   3.042119e+01\n",
       "Runner-up            2.092768e+01\n",
       "TeamLaunch           7.100483e+02\n",
       "HighestPositionHeld  2.825169e+01"
      ]
     },
     "execution_count": 20,
     "metadata": {},
     "output_type": "execute_result"
    }
   ],
   "source": [
    "# Checking Variance data attributes\n",
    "\n",
    "print('Variance of all attributes:-')  \n",
    "data.var().to_frame(name='Variance')  # Gives Variance of all colums of dataset"
   ]
  },
  {
   "cell_type": "code",
   "execution_count": 21,
   "metadata": {},
   "outputs": [
    {
     "name": "stdout",
     "output_type": "stream",
     "text": [
      "Covariance between all attributes:-\n"
     ]
    },
    {
     "data": {
      "text/html": [
       "<div>\n",
       "<style scoped>\n",
       "    .dataframe tbody tr th:only-of-type {\n",
       "        vertical-align: middle;\n",
       "    }\n",
       "\n",
       "    .dataframe tbody tr th {\n",
       "        vertical-align: top;\n",
       "    }\n",
       "\n",
       "    .dataframe thead th {\n",
       "        text-align: right;\n",
       "    }\n",
       "</style>\n",
       "<table border=\"1\" class=\"dataframe\">\n",
       "  <thead>\n",
       "    <tr style=\"text-align: right;\">\n",
       "      <th></th>\n",
       "      <th>Tournament</th>\n",
       "      <th>Score</th>\n",
       "      <th>PlayedGames</th>\n",
       "      <th>WonGames</th>\n",
       "      <th>DrawnGames</th>\n",
       "      <th>LostGames</th>\n",
       "      <th>BasketScored</th>\n",
       "      <th>BasketGiven</th>\n",
       "      <th>TournamentChampion</th>\n",
       "      <th>Runner-up</th>\n",
       "      <th>TeamLaunch</th>\n",
       "      <th>HighestPositionHeld</th>\n",
       "    </tr>\n",
       "  </thead>\n",
       "  <tbody>\n",
       "    <tr>\n",
       "      <th>Tournament</th>\n",
       "      <td>722.782768</td>\n",
       "      <td>3.003033e+04</td>\n",
       "      <td>2.355925e+04</td>\n",
       "      <td>10671.614124</td>\n",
       "      <td>5372.170904</td>\n",
       "      <td>7516.715537</td>\n",
       "      <td>3.962956e+04</td>\n",
       "      <td>3.090991e+04</td>\n",
       "      <td>87.383898</td>\n",
       "      <td>79.441243</td>\n",
       "      <td>-429.234746</td>\n",
       "      <td>-101.172034</td>\n",
       "    </tr>\n",
       "    <tr>\n",
       "      <th>Score</th>\n",
       "      <td>30030.333051</td>\n",
       "      <td>1.295825e+06</td>\n",
       "      <td>9.785666e+05</td>\n",
       "      <td>463704.696610</td>\n",
       "      <td>220292.385593</td>\n",
       "      <td>294612.626271</td>\n",
       "      <td>1.715454e+06</td>\n",
       "      <td>1.250509e+06</td>\n",
       "      <td>4489.268644</td>\n",
       "      <td>3982.835593</td>\n",
       "      <td>-16335.672034</td>\n",
       "      <td>-4049.124576</td>\n",
       "    </tr>\n",
       "    <tr>\n",
       "      <th>PlayedGames</th>\n",
       "      <td>23559.249153</td>\n",
       "      <td>9.785666e+05</td>\n",
       "      <td>7.699455e+05</td>\n",
       "      <td>346774.216949</td>\n",
       "      <td>176166.940678</td>\n",
       "      <td>247031.154237</td>\n",
       "      <td>1.286941e+06</td>\n",
       "      <td>1.011131e+06</td>\n",
       "      <td>2783.174576</td>\n",
       "      <td>2541.345763</td>\n",
       "      <td>-13590.384746</td>\n",
       "      <td>-3316.361017</td>\n",
       "    </tr>\n",
       "    <tr>\n",
       "      <th>WonGames</th>\n",
       "      <td>10671.614124</td>\n",
       "      <td>4.637047e+05</td>\n",
       "      <td>3.467742e+05</td>\n",
       "      <td>166857.049718</td>\n",
       "      <td>77508.658192</td>\n",
       "      <td>102428.853672</td>\n",
       "      <td>6.172252e+05</td>\n",
       "      <td>4.401460e+05</td>\n",
       "      <td>1696.289831</td>\n",
       "      <td>1490.917514</td>\n",
       "      <td>-5882.320339</td>\n",
       "      <td>-1406.527119</td>\n",
       "    </tr>\n",
       "    <tr>\n",
       "      <th>DrawnGames</th>\n",
       "      <td>5372.170904</td>\n",
       "      <td>2.202924e+05</td>\n",
       "      <td>1.761669e+05</td>\n",
       "      <td>77508.658192</td>\n",
       "      <td>40798.145480</td>\n",
       "      <td>57867.608757</td>\n",
       "      <td>2.877725e+05</td>\n",
       "      <td>2.333322e+05</td>\n",
       "      <td>560.792373</td>\n",
       "      <td>523.014124</td>\n",
       "      <td>-3068.826271</td>\n",
       "      <td>-773.258475</td>\n",
       "    </tr>\n",
       "    <tr>\n",
       "      <th>LostGames</th>\n",
       "      <td>7516.715537</td>\n",
       "      <td>2.946126e+05</td>\n",
       "      <td>2.470312e+05</td>\n",
       "      <td>102428.853672</td>\n",
       "      <td>57867.608757</td>\n",
       "      <td>86735.338701</td>\n",
       "      <td>3.820110e+05</td>\n",
       "      <td>3.376645e+05</td>\n",
       "      <td>526.338136</td>\n",
       "      <td>527.657062</td>\n",
       "      <td>-4642.466949</td>\n",
       "      <td>-1136.736441</td>\n",
       "    </tr>\n",
       "    <tr>\n",
       "      <th>BasketScored</th>\n",
       "      <td>39629.558475</td>\n",
       "      <td>1.715454e+06</td>\n",
       "      <td>1.286941e+06</td>\n",
       "      <td>617225.191525</td>\n",
       "      <td>287772.461864</td>\n",
       "      <td>382010.997458</td>\n",
       "      <td>2.286337e+06</td>\n",
       "      <td>1.638664e+06</td>\n",
       "      <td>6203.568644</td>\n",
       "      <td>5471.794915</td>\n",
       "      <td>-22166.405932</td>\n",
       "      <td>-5213.356780</td>\n",
       "    </tr>\n",
       "    <tr>\n",
       "      <th>BasketGiven</th>\n",
       "      <td>30909.909040</td>\n",
       "      <td>1.250509e+06</td>\n",
       "      <td>1.011131e+06</td>\n",
       "      <td>440145.958192</td>\n",
       "      <td>233332.166667</td>\n",
       "      <td>337664.535028</td>\n",
       "      <td>1.638664e+06</td>\n",
       "      <td>1.354772e+06</td>\n",
       "      <td>3027.689831</td>\n",
       "      <td>2840.439548</td>\n",
       "      <td>-18885.327119</td>\n",
       "      <td>-4499.689831</td>\n",
       "    </tr>\n",
       "    <tr>\n",
       "      <th>TournamentChampion</th>\n",
       "      <td>87.383898</td>\n",
       "      <td>4.489269e+03</td>\n",
       "      <td>2.783175e+03</td>\n",
       "      <td>1696.289831</td>\n",
       "      <td>560.792373</td>\n",
       "      <td>526.338136</td>\n",
       "      <td>6.203569e+03</td>\n",
       "      <td>3.027690e+03</td>\n",
       "      <td>30.421186</td>\n",
       "      <td>24.513559</td>\n",
       "      <td>-42.146610</td>\n",
       "      <td>-8.921186</td>\n",
       "    </tr>\n",
       "    <tr>\n",
       "      <th>Runner-up</th>\n",
       "      <td>79.441243</td>\n",
       "      <td>3.982836e+03</td>\n",
       "      <td>2.541346e+03</td>\n",
       "      <td>1490.917514</td>\n",
       "      <td>523.014124</td>\n",
       "      <td>527.657062</td>\n",
       "      <td>5.471795e+03</td>\n",
       "      <td>2.840440e+03</td>\n",
       "      <td>24.513559</td>\n",
       "      <td>20.927684</td>\n",
       "      <td>-38.672881</td>\n",
       "      <td>-8.733898</td>\n",
       "    </tr>\n",
       "    <tr>\n",
       "      <th>TeamLaunch</th>\n",
       "      <td>-429.234746</td>\n",
       "      <td>-1.633567e+04</td>\n",
       "      <td>-1.359038e+04</td>\n",
       "      <td>-5882.320339</td>\n",
       "      <td>-3068.826271</td>\n",
       "      <td>-4642.466949</td>\n",
       "      <td>-2.216641e+04</td>\n",
       "      <td>-1.888533e+04</td>\n",
       "      <td>-42.146610</td>\n",
       "      <td>-38.672881</td>\n",
       "      <td>710.048305</td>\n",
       "      <td>84.934746</td>\n",
       "    </tr>\n",
       "    <tr>\n",
       "      <th>HighestPositionHeld</th>\n",
       "      <td>-101.172034</td>\n",
       "      <td>-4.049125e+03</td>\n",
       "      <td>-3.316361e+03</td>\n",
       "      <td>-1406.527119</td>\n",
       "      <td>-773.258475</td>\n",
       "      <td>-1136.736441</td>\n",
       "      <td>-5.213357e+03</td>\n",
       "      <td>-4.499690e+03</td>\n",
       "      <td>-8.921186</td>\n",
       "      <td>-8.733898</td>\n",
       "      <td>84.934746</td>\n",
       "      <td>28.251695</td>\n",
       "    </tr>\n",
       "  </tbody>\n",
       "</table>\n",
       "</div>"
      ],
      "text/plain": [
       "                       Tournament         Score   PlayedGames       WonGames  \\\n",
       "Tournament             722.782768  3.003033e+04  2.355925e+04   10671.614124   \n",
       "Score                30030.333051  1.295825e+06  9.785666e+05  463704.696610   \n",
       "PlayedGames          23559.249153  9.785666e+05  7.699455e+05  346774.216949   \n",
       "WonGames             10671.614124  4.637047e+05  3.467742e+05  166857.049718   \n",
       "DrawnGames            5372.170904  2.202924e+05  1.761669e+05   77508.658192   \n",
       "LostGames             7516.715537  2.946126e+05  2.470312e+05  102428.853672   \n",
       "BasketScored         39629.558475  1.715454e+06  1.286941e+06  617225.191525   \n",
       "BasketGiven          30909.909040  1.250509e+06  1.011131e+06  440145.958192   \n",
       "TournamentChampion      87.383898  4.489269e+03  2.783175e+03    1696.289831   \n",
       "Runner-up               79.441243  3.982836e+03  2.541346e+03    1490.917514   \n",
       "TeamLaunch            -429.234746 -1.633567e+04 -1.359038e+04   -5882.320339   \n",
       "HighestPositionHeld   -101.172034 -4.049125e+03 -3.316361e+03   -1406.527119   \n",
       "\n",
       "                        DrawnGames      LostGames  BasketScored   BasketGiven  \\\n",
       "Tournament             5372.170904    7516.715537  3.962956e+04  3.090991e+04   \n",
       "Score                220292.385593  294612.626271  1.715454e+06  1.250509e+06   \n",
       "PlayedGames          176166.940678  247031.154237  1.286941e+06  1.011131e+06   \n",
       "WonGames              77508.658192  102428.853672  6.172252e+05  4.401460e+05   \n",
       "DrawnGames            40798.145480   57867.608757  2.877725e+05  2.333322e+05   \n",
       "LostGames             57867.608757   86735.338701  3.820110e+05  3.376645e+05   \n",
       "BasketScored         287772.461864  382010.997458  2.286337e+06  1.638664e+06   \n",
       "BasketGiven          233332.166667  337664.535028  1.638664e+06  1.354772e+06   \n",
       "TournamentChampion      560.792373     526.338136  6.203569e+03  3.027690e+03   \n",
       "Runner-up               523.014124     527.657062  5.471795e+03  2.840440e+03   \n",
       "TeamLaunch            -3068.826271   -4642.466949 -2.216641e+04 -1.888533e+04   \n",
       "HighestPositionHeld    -773.258475   -1136.736441 -5.213357e+03 -4.499690e+03   \n",
       "\n",
       "                     TournamentChampion    Runner-up    TeamLaunch  \\\n",
       "Tournament                    87.383898    79.441243   -429.234746   \n",
       "Score                       4489.268644  3982.835593 -16335.672034   \n",
       "PlayedGames                 2783.174576  2541.345763 -13590.384746   \n",
       "WonGames                    1696.289831  1490.917514  -5882.320339   \n",
       "DrawnGames                   560.792373   523.014124  -3068.826271   \n",
       "LostGames                    526.338136   527.657062  -4642.466949   \n",
       "BasketScored                6203.568644  5471.794915 -22166.405932   \n",
       "BasketGiven                 3027.689831  2840.439548 -18885.327119   \n",
       "TournamentChampion            30.421186    24.513559    -42.146610   \n",
       "Runner-up                     24.513559    20.927684    -38.672881   \n",
       "TeamLaunch                   -42.146610   -38.672881    710.048305   \n",
       "HighestPositionHeld           -8.921186    -8.733898     84.934746   \n",
       "\n",
       "                     HighestPositionHeld  \n",
       "Tournament                   -101.172034  \n",
       "Score                       -4049.124576  \n",
       "PlayedGames                 -3316.361017  \n",
       "WonGames                    -1406.527119  \n",
       "DrawnGames                   -773.258475  \n",
       "LostGames                   -1136.736441  \n",
       "BasketScored                -5213.356780  \n",
       "BasketGiven                 -4499.689831  \n",
       "TournamentChampion             -8.921186  \n",
       "Runner-up                      -8.733898  \n",
       "TeamLaunch                     84.934746  \n",
       "HighestPositionHeld            28.251695  "
      ]
     },
     "execution_count": 21,
     "metadata": {},
     "output_type": "execute_result"
    }
   ],
   "source": [
    "# Checking Covariance related with all attributes\n",
    "\n",
    "print('Covariance between all attributes:-')\n",
    "data.cov() # Gives Covariance of the dataset"
   ]
  },
  {
   "cell_type": "code",
   "execution_count": 22,
   "metadata": {},
   "outputs": [
    {
     "name": "stdout",
     "output_type": "stream",
     "text": [
      "Heatmap showing Correlation of data attributes:-\n"
     ]
    },
    {
     "data": {
      "image/png": "[encoded data removed]",
      "text/plain": [
       "<Figure size 1008x720 with 2 Axes>"
      ]
     },
     "metadata": {
      "needs_background": "light"
     },
     "output_type": "display_data"
    }
   ],
   "source": [
    "# Plotting heatmap for checking Correlation\n",
    "\n",
    "print('Heatmap showing Correlation of data attributes:-')\n",
    "plt.figure(figsize=(14,10))\n",
    "sns.heatmap(data.corr(), annot=True, fmt= '.2f',cmap=\"magma\")\n",
    "plt.show()"
   ]
  },
  {
   "cell_type": "markdown",
   "metadata": {},
   "source": [
    "*By Observing above analytics we can say,*\n",
    "* *Based on skewness, most of the attributes are Highly Skewed(skewness greater that +/- 1). This makes data to be one sided!*\n",
    "* *Variance of the data shows that most of data is highly spread.*\n",
    "* *Heatmap shows that most of the data is positively correlated.*"
   ]
  },
  {
   "cell_type": "markdown",
   "metadata": {},
   "source": [
    "***\n",
    "## <span style=\"color:#9400D3\">Analysing Scores and Score Rates of Teams"
   ]
  },
  {
   "cell_type": "code",
   "execution_count": 23,
   "metadata": {},
   "outputs": [
    {
     "data": {
      "text/html": [
       "<div>\n",
       "<style scoped>\n",
       "    .dataframe tbody tr th:only-of-type {\n",
       "        vertical-align: middle;\n",
       "    }\n",
       "\n",
       "    .dataframe tbody tr th {\n",
       "        vertical-align: top;\n",
       "    }\n",
       "\n",
       "    .dataframe thead th {\n",
       "        text-align: right;\n",
       "    }\n",
       "</style>\n",
       "<table border=\"1\" class=\"dataframe\">\n",
       "  <thead>\n",
       "    <tr style=\"text-align: right;\">\n",
       "      <th></th>\n",
       "      <th>Team</th>\n",
       "      <th>Score</th>\n",
       "    </tr>\n",
       "  </thead>\n",
       "  <tbody>\n",
       "    <tr>\n",
       "      <th>0</th>\n",
       "      <td>Team 1</td>\n",
       "      <td>4385</td>\n",
       "    </tr>\n",
       "    <tr>\n",
       "      <th>1</th>\n",
       "      <td>Team 2</td>\n",
       "      <td>4262</td>\n",
       "    </tr>\n",
       "    <tr>\n",
       "      <th>2</th>\n",
       "      <td>Team 3</td>\n",
       "      <td>3442</td>\n",
       "    </tr>\n",
       "    <tr>\n",
       "      <th>3</th>\n",
       "      <td>Team 4</td>\n",
       "      <td>3386</td>\n",
       "    </tr>\n",
       "    <tr>\n",
       "      <th>4</th>\n",
       "      <td>Team 5</td>\n",
       "      <td>3368</td>\n",
       "    </tr>\n",
       "    <tr>\n",
       "      <th>5</th>\n",
       "      <td>Team 6</td>\n",
       "      <td>2819</td>\n",
       "    </tr>\n",
       "    <tr>\n",
       "      <th>6</th>\n",
       "      <td>Team 7</td>\n",
       "      <td>2792</td>\n",
       "    </tr>\n",
       "    <tr>\n",
       "      <th>7</th>\n",
       "      <td>Team 8</td>\n",
       "      <td>2573</td>\n",
       "    </tr>\n",
       "    <tr>\n",
       "      <th>8</th>\n",
       "      <td>Team 9</td>\n",
       "      <td>2109</td>\n",
       "    </tr>\n",
       "    <tr>\n",
       "      <th>9</th>\n",
       "      <td>Team 10</td>\n",
       "      <td>1884</td>\n",
       "    </tr>\n",
       "  </tbody>\n",
       "</table>\n",
       "</div>"
      ],
      "text/plain": [
       "      Team  Score\n",
       "0   Team 1   4385\n",
       "1   Team 2   4262\n",
       "2   Team 3   3442\n",
       "3   Team 4   3386\n",
       "4   Team 5   3368\n",
       "5   Team 6   2819\n",
       "6   Team 7   2792\n",
       "7   Team 8   2573\n",
       "8   Team 9   2109\n",
       "9  Team 10   1884"
      ]
     },
     "execution_count": 23,
     "metadata": {},
     "output_type": "execute_result"
    }
   ],
   "source": [
    "# Scores of Teams\n",
    "\n",
    "data[['Team','Score']].head(10)"
   ]
  },
  {
   "cell_type": "code",
   "execution_count": 24,
   "metadata": {},
   "outputs": [
    {
     "name": "stdout",
     "output_type": "stream",
     "text": [
      "Team with Highest Score:-\n"
     ]
    },
    {
     "data": {
      "text/html": [
       "<div>\n",
       "<style scoped>\n",
       "    .dataframe tbody tr th:only-of-type {\n",
       "        vertical-align: middle;\n",
       "    }\n",
       "\n",
       "    .dataframe tbody tr th {\n",
       "        vertical-align: top;\n",
       "    }\n",
       "\n",
       "    .dataframe thead th {\n",
       "        text-align: right;\n",
       "    }\n",
       "</style>\n",
       "<table border=\"1\" class=\"dataframe\">\n",
       "  <thead>\n",
       "    <tr style=\"text-align: right;\">\n",
       "      <th></th>\n",
       "      <th>Team</th>\n",
       "      <th>Tournament</th>\n",
       "      <th>Score</th>\n",
       "      <th>PlayedGames</th>\n",
       "      <th>WonGames</th>\n",
       "      <th>DrawnGames</th>\n",
       "      <th>LostGames</th>\n",
       "      <th>BasketScored</th>\n",
       "      <th>BasketGiven</th>\n",
       "      <th>TournamentChampion</th>\n",
       "      <th>Runner-up</th>\n",
       "      <th>TeamLaunch</th>\n",
       "      <th>HighestPositionHeld</th>\n",
       "    </tr>\n",
       "  </thead>\n",
       "  <tbody>\n",
       "    <tr>\n",
       "      <th>0</th>\n",
       "      <td>Team 1</td>\n",
       "      <td>86</td>\n",
       "      <td>4385</td>\n",
       "      <td>2762</td>\n",
       "      <td>1647</td>\n",
       "      <td>552</td>\n",
       "      <td>563</td>\n",
       "      <td>5947</td>\n",
       "      <td>3140</td>\n",
       "      <td>33</td>\n",
       "      <td>23</td>\n",
       "      <td>1929</td>\n",
       "      <td>1</td>\n",
       "    </tr>\n",
       "  </tbody>\n",
       "</table>\n",
       "</div>"
      ],
      "text/plain": [
       "     Team  Tournament  Score  PlayedGames  WonGames  DrawnGames  LostGames  \\\n",
       "0  Team 1          86   4385         2762      1647         552        563   \n",
       "\n",
       "   BasketScored  BasketGiven  TournamentChampion  Runner-up  TeamLaunch  \\\n",
       "0          5947         3140                  33         23        1929   \n",
       "\n",
       "   HighestPositionHeld  \n",
       "0                    1  "
      ]
     },
     "execution_count": 24,
     "metadata": {},
     "output_type": "execute_result"
    }
   ],
   "source": [
    "# To find Team with Highest Score\n",
    "\n",
    "print('Team with Highest Score:-')\n",
    "data[data['Score']==data['Score'].max()]"
   ]
  },
  {
   "cell_type": "code",
   "execution_count": 25,
   "metadata": {},
   "outputs": [
    {
     "name": "stdout",
     "output_type": "stream",
     "text": [
      "Team with Lowest Score:-\n"
     ]
    },
    {
     "data": {
      "text/html": [
       "<div>\n",
       "<style scoped>\n",
       "    .dataframe tbody tr th:only-of-type {\n",
       "        vertical-align: middle;\n",
       "    }\n",
       "\n",
       "    .dataframe tbody tr th {\n",
       "        vertical-align: top;\n",
       "    }\n",
       "\n",
       "    .dataframe thead th {\n",
       "        text-align: right;\n",
       "    }\n",
       "</style>\n",
       "<table border=\"1\" class=\"dataframe\">\n",
       "  <thead>\n",
       "    <tr style=\"text-align: right;\">\n",
       "      <th></th>\n",
       "      <th>Team</th>\n",
       "      <th>Tournament</th>\n",
       "      <th>Score</th>\n",
       "      <th>PlayedGames</th>\n",
       "      <th>WonGames</th>\n",
       "      <th>DrawnGames</th>\n",
       "      <th>LostGames</th>\n",
       "      <th>BasketScored</th>\n",
       "      <th>BasketGiven</th>\n",
       "      <th>TournamentChampion</th>\n",
       "      <th>Runner-up</th>\n",
       "      <th>TeamLaunch</th>\n",
       "      <th>HighestPositionHeld</th>\n",
       "    </tr>\n",
       "  </thead>\n",
       "  <tbody>\n",
       "    <tr>\n",
       "      <th>59</th>\n",
       "      <td>Team 60</td>\n",
       "      <td>1</td>\n",
       "      <td>14</td>\n",
       "      <td>30</td>\n",
       "      <td>5</td>\n",
       "      <td>4</td>\n",
       "      <td>21</td>\n",
       "      <td>34</td>\n",
       "      <td>65</td>\n",
       "      <td>0</td>\n",
       "      <td>0</td>\n",
       "      <td>1955</td>\n",
       "      <td>15</td>\n",
       "    </tr>\n",
       "  </tbody>\n",
       "</table>\n",
       "</div>"
      ],
      "text/plain": [
       "       Team  Tournament  Score  PlayedGames  WonGames  DrawnGames  LostGames  \\\n",
       "59  Team 60           1     14           30         5           4         21   \n",
       "\n",
       "    BasketScored  BasketGiven  TournamentChampion  Runner-up  TeamLaunch  \\\n",
       "59            34           65                   0          0        1955   \n",
       "\n",
       "    HighestPositionHeld  \n",
       "59                   15  "
      ]
     },
     "execution_count": 25,
     "metadata": {},
     "output_type": "execute_result"
    }
   ],
   "source": [
    "# To find Team with Lowest Score\n",
    "\n",
    "print('Team with Lowest Score:-')\n",
    "data[data['Score']==data['Score'].min()]"
   ]
  },
  {
   "cell_type": "code",
   "execution_count": 26,
   "metadata": {},
   "outputs": [
    {
     "name": "stdout",
     "output_type": "stream",
     "text": [
      "Mean   = 916.45 \n",
      "Median = 395.5 \n",
      "Mode   = 188 \n",
      "IQR    = 1256.25\n"
     ]
    },
    {
     "data": {
      "image/png": "[encoded data removed]",
      "text/plain": [
       "<Figure size 864x432 with 1 Axes>"
      ]
     },
     "metadata": {
      "needs_background": "light"
     },
     "output_type": "display_data"
    },
    {
     "data": {
      "image/png": "[encoded data removed]",
      "text/plain": [
       "<Figure size 576x576 with 1 Axes>"
      ]
     },
     "metadata": {
      "needs_background": "light"
     },
     "output_type": "display_data"
    }
   ],
   "source": [
    "# Getting Mean, Median, Mode and IQR for Score\n",
    "\n",
    "mean = data['Score'].mean()    \n",
    "median = data['Score'].median()\n",
    "mode = data['Score'].mode()\n",
    "iqr = data['Score'].quantile(0.75) - data['Score'].quantile(0.25)\n",
    "\n",
    "print('Mean   =',mean,'\\nMedian =',median,'\\nMode   =',mode[20],'\\nIQR    =',iqr)\n",
    "\n",
    "# Plotting histogram for Score \n",
    "plt.figure(figsize=(12,6))\n",
    "plt.axvline(mean,color='green',label='Mean',linestyle='--', linewidth=1.8) \n",
    "plt.axvline(median,color='blue',label='Median',linestyle='--', linewidth=1.8)\n",
    "plt.axvline(mode[20],color='red',label='Mode1',linestyle='--', linewidth=1.8)\n",
    "\n",
    "sns.histplot(data=data,x='Score', color=\"#9400D3\").set_title('Teams');\n",
    "plt.legend()\n",
    "plt.show()\n",
    "\n",
    "# Plotting box plot for better understanding and to know about extreme values \n",
    "data.boxplot(column='Score',figsize=(8,8),color='black');\n",
    "plt.text(x=0.75,y=1360.5, s=\"3rd Quartile\",size=14)\n",
    "plt.text(x=0.8, y=395.5 , s=\"Median\")\n",
    "plt.text(x=0.75, y=104.25, s=\"1st Quartile\",size=12)\n",
    "plt.text(x=0.9, y=14, s=\"Min\",size=12)\n",
    "plt.text(x=0.9, y=4385, s=\"Max\")\n",
    "plt.text(x=0.7, y=550, s=\"IQR\", rotation=90, size=25)\n",
    "plt.show()\n",
    "\n"
   ]
  },
  {
   "cell_type": "code",
   "execution_count": 27,
   "metadata": {},
   "outputs": [
    {
     "name": "stdout",
     "output_type": "stream",
     "text": [
      "Table Showing Score Rates of Teams:-\n"
     ]
    },
    {
     "data": {
      "text/html": [
       "<div>\n",
       "<style scoped>\n",
       "    .dataframe tbody tr th:only-of-type {\n",
       "        vertical-align: middle;\n",
       "    }\n",
       "\n",
       "    .dataframe tbody tr th {\n",
       "        vertical-align: top;\n",
       "    }\n",
       "\n",
       "    .dataframe thead th {\n",
       "        text-align: right;\n",
       "    }\n",
       "</style>\n",
       "<table border=\"1\" class=\"dataframe\">\n",
       "  <thead>\n",
       "    <tr style=\"text-align: right;\">\n",
       "      <th></th>\n",
       "      <th>Team</th>\n",
       "      <th>Score Rate</th>\n",
       "    </tr>\n",
       "  </thead>\n",
       "  <tbody>\n",
       "    <tr>\n",
       "      <th>0</th>\n",
       "      <td>Team 1</td>\n",
       "      <td>1.59</td>\n",
       "    </tr>\n",
       "    <tr>\n",
       "      <th>1</th>\n",
       "      <td>Team 2</td>\n",
       "      <td>1.54</td>\n",
       "    </tr>\n",
       "    <tr>\n",
       "      <th>2</th>\n",
       "      <td>Team 3</td>\n",
       "      <td>1.32</td>\n",
       "    </tr>\n",
       "    <tr>\n",
       "      <th>3</th>\n",
       "      <td>Team 4</td>\n",
       "      <td>1.27</td>\n",
       "    </tr>\n",
       "    <tr>\n",
       "      <th>4</th>\n",
       "      <td>Team 5</td>\n",
       "      <td>1.22</td>\n",
       "    </tr>\n",
       "    <tr>\n",
       "      <th>5</th>\n",
       "      <td>Team 6</td>\n",
       "      <td>1.17</td>\n",
       "    </tr>\n",
       "    <tr>\n",
       "      <th>6</th>\n",
       "      <td>Team 7</td>\n",
       "      <td>1.06</td>\n",
       "    </tr>\n",
       "    <tr>\n",
       "      <th>7</th>\n",
       "      <td>Team 8</td>\n",
       "      <td>1.12</td>\n",
       "    </tr>\n",
       "    <tr>\n",
       "      <th>8</th>\n",
       "      <td>Team 9</td>\n",
       "      <td>1.06</td>\n",
       "    </tr>\n",
       "    <tr>\n",
       "      <th>9</th>\n",
       "      <td>Team 10</td>\n",
       "      <td>1.09</td>\n",
       "    </tr>\n",
       "  </tbody>\n",
       "</table>\n",
       "</div>"
      ],
      "text/plain": [
       "      Team  Score Rate\n",
       "0   Team 1        1.59\n",
       "1   Team 2        1.54\n",
       "2   Team 3        1.32\n",
       "3   Team 4        1.27\n",
       "4   Team 5        1.22\n",
       "5   Team 6        1.17\n",
       "6   Team 7        1.06\n",
       "7   Team 8        1.12\n",
       "8   Team 9        1.06\n",
       "9  Team 10        1.09"
      ]
     },
     "execution_count": 27,
     "metadata": {},
     "output_type": "execute_result"
    }
   ],
   "source": [
    "# To find Score Rate of Teams played in games\n",
    "\n",
    "srate = round(data['Score']/data['PlayedGames'],2)\n",
    "srate = pd.DataFrame(srate,columns=['Score Rate'])\n",
    "team = pd.DataFrame(data['Team'])\n",
    "\n",
    "# Score Rates of All Teams\n",
    "print('Table Showing Score Rates of Teams:-')\n",
    "srt = team.join(srate)\n",
    "srt.head(10)"
   ]
  },
  {
   "cell_type": "code",
   "execution_count": 28,
   "metadata": {},
   "outputs": [
    {
     "name": "stdout",
     "output_type": "stream",
     "text": [
      "Team with Highest Score Rate:-\n"
     ]
    },
    {
     "data": {
      "text/html": [
       "<div>\n",
       "<style scoped>\n",
       "    .dataframe tbody tr th:only-of-type {\n",
       "        vertical-align: middle;\n",
       "    }\n",
       "\n",
       "    .dataframe tbody tr th {\n",
       "        vertical-align: top;\n",
       "    }\n",
       "\n",
       "    .dataframe thead th {\n",
       "        text-align: right;\n",
       "    }\n",
       "</style>\n",
       "<table border=\"1\" class=\"dataframe\">\n",
       "  <thead>\n",
       "    <tr style=\"text-align: right;\">\n",
       "      <th></th>\n",
       "      <th>Team</th>\n",
       "      <th>Score Rate</th>\n",
       "    </tr>\n",
       "  </thead>\n",
       "  <tbody>\n",
       "    <tr>\n",
       "      <th>0</th>\n",
       "      <td>Team 1</td>\n",
       "      <td>1.59</td>\n",
       "    </tr>\n",
       "  </tbody>\n",
       "</table>\n",
       "</div>"
      ],
      "text/plain": [
       "     Team  Score Rate\n",
       "0  Team 1        1.59"
      ]
     },
     "execution_count": 28,
     "metadata": {},
     "output_type": "execute_result"
    }
   ],
   "source": [
    "# Team with Highest Score Rate\n",
    "\n",
    "print('Team with Highest Score Rate:-')\n",
    "srt[srt['Score Rate']==srt['Score Rate'].max()]"
   ]
  },
  {
   "cell_type": "code",
   "execution_count": 29,
   "metadata": {},
   "outputs": [
    {
     "name": "stdout",
     "output_type": "stream",
     "text": [
      "Team with Lowest Score Rate:-\n"
     ]
    },
    {
     "data": {
      "text/html": [
       "<div>\n",
       "<style scoped>\n",
       "    .dataframe tbody tr th:only-of-type {\n",
       "        vertical-align: middle;\n",
       "    }\n",
       "\n",
       "    .dataframe tbody tr th {\n",
       "        vertical-align: top;\n",
       "    }\n",
       "\n",
       "    .dataframe thead th {\n",
       "        text-align: right;\n",
       "    }\n",
       "</style>\n",
       "<table border=\"1\" class=\"dataframe\">\n",
       "  <thead>\n",
       "    <tr style=\"text-align: right;\">\n",
       "      <th></th>\n",
       "      <th>Team</th>\n",
       "      <th>Score Rate</th>\n",
       "    </tr>\n",
       "  </thead>\n",
       "  <tbody>\n",
       "    <tr>\n",
       "      <th>59</th>\n",
       "      <td>Team 60</td>\n",
       "      <td>0.47</td>\n",
       "    </tr>\n",
       "  </tbody>\n",
       "</table>\n",
       "</div>"
      ],
      "text/plain": [
       "       Team  Score Rate\n",
       "59  Team 60        0.47"
      ]
     },
     "execution_count": 29,
     "metadata": {},
     "output_type": "execute_result"
    }
   ],
   "source": [
    "# Team with Lowest Score Rate\n",
    "\n",
    "print('Team with Lowest Score Rate:-')\n",
    "srt[srt['Score Rate']==srt['Score Rate'].min()]"
   ]
  },
  {
   "cell_type": "code",
   "execution_count": 30,
   "metadata": {},
   "outputs": [
    {
     "data": {
      "image/png": "[encoded data removed]",
      "text/plain": [
       "<Figure size 864x432 with 1 Axes>"
      ]
     },
     "metadata": {
      "needs_background": "light"
     },
     "output_type": "display_data"
    }
   ],
   "source": [
    "# Plotting Distribution plot to know skewness of Score Rate\n",
    "\n",
    "plt.figure(figsize=(12,6))\n",
    "sns.distplot(srate,color='#9400D3',axlabel='Score Rates');\n",
    "plt.show()"
   ]
  },
  {
   "cell_type": "markdown",
   "metadata": {},
   "source": [
    "*Looking at the plots we can notice,*\n",
    "* *The skewness of Score is positive or right skewed distribution. And also Mean > Median.*\n",
    "* *When we look at distribution of Score Rates, we can notice that score rate are little skewed or almost equally distributed.*\n",
    "* *Most of the score made by each teams is less than 1000, since the maximum observations lies between 0 and 1000.*\n",
    "* *There are very few teams who scored above 2000.*\n",
    "* *There are some extreme values / outliers, which increases variability and hence we say that the data is not equally distributed.*\n",
    "* *Looking at the heatmap we can say Score has highest positive correlation with all the attributes.*"
   ]
  },
  {
   "cell_type": "markdown",
   "metadata": {},
   "source": [
    "***\n",
    "## <span style=\"color:#9400D3\">Analysing Winning Percentages of Teams"
   ]
  },
  {
   "cell_type": "code",
   "execution_count": 31,
   "metadata": {},
   "outputs": [
    {
     "name": "stdout",
     "output_type": "stream",
     "text": [
      "Below table showing Winning Percentages of Teams\n"
     ]
    },
    {
     "data": {
      "text/html": [
       "<div>\n",
       "<style scoped>\n",
       "    .dataframe tbody tr th:only-of-type {\n",
       "        vertical-align: middle;\n",
       "    }\n",
       "\n",
       "    .dataframe tbody tr th {\n",
       "        vertical-align: top;\n",
       "    }\n",
       "\n",
       "    .dataframe thead th {\n",
       "        text-align: right;\n",
       "    }\n",
       "</style>\n",
       "<table border=\"1\" class=\"dataframe\">\n",
       "  <thead>\n",
       "    <tr style=\"text-align: right;\">\n",
       "      <th></th>\n",
       "      <th>Team</th>\n",
       "      <th>Winning_Percentage(%)</th>\n",
       "    </tr>\n",
       "  </thead>\n",
       "  <tbody>\n",
       "    <tr>\n",
       "      <th>0</th>\n",
       "      <td>Team 1</td>\n",
       "      <td>69.62</td>\n",
       "    </tr>\n",
       "    <tr>\n",
       "      <th>1</th>\n",
       "      <td>Team 2</td>\n",
       "      <td>67.61</td>\n",
       "    </tr>\n",
       "    <tr>\n",
       "      <th>2</th>\n",
       "      <td>Team 3</td>\n",
       "      <td>58.91</td>\n",
       "    </tr>\n",
       "    <tr>\n",
       "      <th>3</th>\n",
       "      <td>Team 4</td>\n",
       "      <td>56.12</td>\n",
       "    </tr>\n",
       "    <tr>\n",
       "      <th>4</th>\n",
       "      <td>Team 5</td>\n",
       "      <td>55.23</td>\n",
       "    </tr>\n",
       "    <tr>\n",
       "      <th>5</th>\n",
       "      <td>Team 6</td>\n",
       "      <td>52.14</td>\n",
       "    </tr>\n",
       "    <tr>\n",
       "      <th>6</th>\n",
       "      <td>Team 7</td>\n",
       "      <td>47.68</td>\n",
       "    </tr>\n",
       "    <tr>\n",
       "      <th>7</th>\n",
       "      <td>Team 8</td>\n",
       "      <td>50.07</td>\n",
       "    </tr>\n",
       "    <tr>\n",
       "      <th>8</th>\n",
       "      <td>Team 9</td>\n",
       "      <td>48.29</td>\n",
       "    </tr>\n",
       "    <tr>\n",
       "      <th>9</th>\n",
       "      <td>Team 10</td>\n",
       "      <td>47.80</td>\n",
       "    </tr>\n",
       "    <tr>\n",
       "      <th>10</th>\n",
       "      <td>Team 11</td>\n",
       "      <td>49.61</td>\n",
       "    </tr>\n",
       "    <tr>\n",
       "      <th>11</th>\n",
       "      <td>Team 12</td>\n",
       "      <td>45.97</td>\n",
       "    </tr>\n",
       "    <tr>\n",
       "      <th>12</th>\n",
       "      <td>Team 13</td>\n",
       "      <td>44.68</td>\n",
       "    </tr>\n",
       "    <tr>\n",
       "      <th>13</th>\n",
       "      <td>Team 14</td>\n",
       "      <td>43.49</td>\n",
       "    </tr>\n",
       "    <tr>\n",
       "      <th>14</th>\n",
       "      <td>Team 15</td>\n",
       "      <td>44.58</td>\n",
       "    </tr>\n",
       "  </tbody>\n",
       "</table>\n",
       "</div>"
      ],
      "text/plain": [
       "       Team  Winning_Percentage(%)\n",
       "0    Team 1                  69.62\n",
       "1    Team 2                  67.61\n",
       "2    Team 3                  58.91\n",
       "3    Team 4                  56.12\n",
       "4    Team 5                  55.23\n",
       "5    Team 6                  52.14\n",
       "6    Team 7                  47.68\n",
       "7    Team 8                  50.07\n",
       "8    Team 9                  48.29\n",
       "9   Team 10                  47.80\n",
       "10  Team 11                  49.61\n",
       "11  Team 12                  45.97\n",
       "12  Team 13                  44.68\n",
       "13  Team 14                  43.49\n",
       "14  Team 15                  44.58"
      ]
     },
     "execution_count": 31,
     "metadata": {},
     "output_type": "execute_result"
    }
   ],
   "source": [
    "# Calculating Winning Percentage of all Teams\n",
    "\n",
    "# Here the claculation consist of the number of games win, number of games draw and total played games\n",
    "\n",
    "win_percent = round(((data['WonGames']+data['DrawnGames']*0.5)/data['PlayedGames'])*100,2)\n",
    "WP = pd.DataFrame(win_percent,columns=['Winning_Percentage(%)'])\n",
    "team = pd.DataFrame(data['Team'])\n",
    "win_team = team.join(WP)\n",
    "\n",
    "print('Below table showing Winning Percentages of Teams')\n",
    "win_team.head(15)"
   ]
  },
  {
   "cell_type": "code",
   "execution_count": 32,
   "metadata": {},
   "outputs": [
    {
     "name": "stdout",
     "output_type": "stream",
     "text": [
      "Highest Winning Team is:-\n"
     ]
    },
    {
     "data": {
      "text/html": [
       "<div>\n",
       "<style scoped>\n",
       "    .dataframe tbody tr th:only-of-type {\n",
       "        vertical-align: middle;\n",
       "    }\n",
       "\n",
       "    .dataframe tbody tr th {\n",
       "        vertical-align: top;\n",
       "    }\n",
       "\n",
       "    .dataframe thead th {\n",
       "        text-align: right;\n",
       "    }\n",
       "</style>\n",
       "<table border=\"1\" class=\"dataframe\">\n",
       "  <thead>\n",
       "    <tr style=\"text-align: right;\">\n",
       "      <th></th>\n",
       "      <th>Team</th>\n",
       "      <th>Winning_Percentage(%)</th>\n",
       "    </tr>\n",
       "  </thead>\n",
       "  <tbody>\n",
       "    <tr>\n",
       "      <th>0</th>\n",
       "      <td>Team 1</td>\n",
       "      <td>69.62</td>\n",
       "    </tr>\n",
       "  </tbody>\n",
       "</table>\n",
       "</div>"
      ],
      "text/plain": [
       "     Team  Winning_Percentage(%)\n",
       "0  Team 1                  69.62"
      ]
     },
     "execution_count": 32,
     "metadata": {},
     "output_type": "execute_result"
    }
   ],
   "source": [
    "# To find the Team which has highest winning percentage\n",
    "\n",
    "print('Highest Winning Team is:-')\n",
    "win_team[win_team['Winning_Percentage(%)']==win_team['Winning_Percentage(%)'].max()]"
   ]
  },
  {
   "cell_type": "code",
   "execution_count": 33,
   "metadata": {},
   "outputs": [
    {
     "name": "stdout",
     "output_type": "stream",
     "text": [
      "Lowest Winning Team is:-\n"
     ]
    },
    {
     "data": {
      "text/html": [
       "<div>\n",
       "<style scoped>\n",
       "    .dataframe tbody tr th:only-of-type {\n",
       "        vertical-align: middle;\n",
       "    }\n",
       "\n",
       "    .dataframe tbody tr th {\n",
       "        vertical-align: top;\n",
       "    }\n",
       "\n",
       "    .dataframe thead th {\n",
       "        text-align: right;\n",
       "    }\n",
       "</style>\n",
       "<table border=\"1\" class=\"dataframe\">\n",
       "  <thead>\n",
       "    <tr style=\"text-align: right;\">\n",
       "      <th></th>\n",
       "      <th>Team</th>\n",
       "      <th>Winning_Percentage(%)</th>\n",
       "    </tr>\n",
       "  </thead>\n",
       "  <tbody>\n",
       "    <tr>\n",
       "      <th>59</th>\n",
       "      <td>Team 60</td>\n",
       "      <td>23.33</td>\n",
       "    </tr>\n",
       "  </tbody>\n",
       "</table>\n",
       "</div>"
      ],
      "text/plain": [
       "       Team  Winning_Percentage(%)\n",
       "59  Team 60                  23.33"
      ]
     },
     "execution_count": 33,
     "metadata": {},
     "output_type": "execute_result"
    }
   ],
   "source": [
    "# To find the Team which has lowest percentage\n",
    "\n",
    "print('Lowest Winning Team is:-')\n",
    "win_team[win_team['Winning_Percentage(%)']==win_team['Winning_Percentage(%)'].min()]"
   ]
  },
  {
   "cell_type": "code",
   "execution_count": 34,
   "metadata": {},
   "outputs": [
    {
     "name": "stdout",
     "output_type": "stream",
     "text": [
      "Average winning percentage = 43.17 %\n"
     ]
    }
   ],
   "source": [
    "# To find the Average winning percentage\n",
    "\n",
    "mean = round(win_team['Winning_Percentage(%)'].mean(),2)\n",
    "print('Average winning percentage =',mean,'%')"
   ]
  },
  {
   "cell_type": "code",
   "execution_count": 35,
   "metadata": {},
   "outputs": [
    {
     "name": "stdout",
     "output_type": "stream",
     "text": [
      "Top 10 Teams having High Winning Percentage are:-\n"
     ]
    },
    {
     "data": {
      "text/html": [
       "<div>\n",
       "<style scoped>\n",
       "    .dataframe tbody tr th:only-of-type {\n",
       "        vertical-align: middle;\n",
       "    }\n",
       "\n",
       "    .dataframe tbody tr th {\n",
       "        vertical-align: top;\n",
       "    }\n",
       "\n",
       "    .dataframe thead th {\n",
       "        text-align: right;\n",
       "    }\n",
       "</style>\n",
       "<table border=\"1\" class=\"dataframe\">\n",
       "  <thead>\n",
       "    <tr style=\"text-align: right;\">\n",
       "      <th></th>\n",
       "      <th>Team</th>\n",
       "      <th>Winning_Percentage(%)</th>\n",
       "    </tr>\n",
       "  </thead>\n",
       "  <tbody>\n",
       "    <tr>\n",
       "      <th>0</th>\n",
       "      <td>Team 1</td>\n",
       "      <td>69.62</td>\n",
       "    </tr>\n",
       "    <tr>\n",
       "      <th>1</th>\n",
       "      <td>Team 2</td>\n",
       "      <td>67.61</td>\n",
       "    </tr>\n",
       "    <tr>\n",
       "      <th>2</th>\n",
       "      <td>Team 3</td>\n",
       "      <td>58.91</td>\n",
       "    </tr>\n",
       "    <tr>\n",
       "      <th>3</th>\n",
       "      <td>Team 4</td>\n",
       "      <td>56.12</td>\n",
       "    </tr>\n",
       "    <tr>\n",
       "      <th>4</th>\n",
       "      <td>Team 5</td>\n",
       "      <td>55.23</td>\n",
       "    </tr>\n",
       "    <tr>\n",
       "      <th>20</th>\n",
       "      <td>Team 21</td>\n",
       "      <td>54.49</td>\n",
       "    </tr>\n",
       "    <tr>\n",
       "      <th>5</th>\n",
       "      <td>Team 6</td>\n",
       "      <td>52.14</td>\n",
       "    </tr>\n",
       "    <tr>\n",
       "      <th>7</th>\n",
       "      <td>Team 8</td>\n",
       "      <td>50.07</td>\n",
       "    </tr>\n",
       "    <tr>\n",
       "      <th>10</th>\n",
       "      <td>Team 11</td>\n",
       "      <td>49.61</td>\n",
       "    </tr>\n",
       "    <tr>\n",
       "      <th>8</th>\n",
       "      <td>Team 9</td>\n",
       "      <td>48.29</td>\n",
       "    </tr>\n",
       "  </tbody>\n",
       "</table>\n",
       "</div>"
      ],
      "text/plain": [
       "       Team  Winning_Percentage(%)\n",
       "0    Team 1                  69.62\n",
       "1    Team 2                  67.61\n",
       "2    Team 3                  58.91\n",
       "3    Team 4                  56.12\n",
       "4    Team 5                  55.23\n",
       "20  Team 21                  54.49\n",
       "5    Team 6                  52.14\n",
       "7    Team 8                  50.07\n",
       "10  Team 11                  49.61\n",
       "8    Team 9                  48.29"
      ]
     },
     "execution_count": 35,
     "metadata": {},
     "output_type": "execute_result"
    }
   ],
   "source": [
    "# To find top 10 teams having high winning percentage compared to other teams\n",
    "Top_teams = win_team.sort_values(by=['Winning_Percentage(%)'],ascending=False)\n",
    "print('Top 10 Teams having High Winning Percentage are:-')\n",
    "t10win = Top_teams.head(10)\n",
    "t10win"
   ]
  },
  {
   "cell_type": "code",
   "execution_count": 36,
   "metadata": {},
   "outputs": [
    {
     "name": "stdout",
     "output_type": "stream",
     "text": [
      "Table showing number of Teams falls under given Range of Winning Percentage\n"
     ]
    },
    {
     "data": {
      "text/html": [
       "<div>\n",
       "<style scoped>\n",
       "    .dataframe tbody tr th:only-of-type {\n",
       "        vertical-align: middle;\n",
       "    }\n",
       "\n",
       "    .dataframe tbody tr th {\n",
       "        vertical-align: top;\n",
       "    }\n",
       "\n",
       "    .dataframe thead th {\n",
       "        text-align: right;\n",
       "    }\n",
       "</style>\n",
       "<table border=\"1\" class=\"dataframe\">\n",
       "  <thead>\n",
       "    <tr style=\"text-align: right;\">\n",
       "      <th></th>\n",
       "      <th>Range of Winning Percentage (%)</th>\n",
       "      <th>Number of Teams</th>\n",
       "    </tr>\n",
       "  </thead>\n",
       "  <tbody>\n",
       "    <tr>\n",
       "      <th>0</th>\n",
       "      <td>0-10</td>\n",
       "      <td>0</td>\n",
       "    </tr>\n",
       "    <tr>\n",
       "      <th>1</th>\n",
       "      <td>10-20</td>\n",
       "      <td>0</td>\n",
       "    </tr>\n",
       "    <tr>\n",
       "      <th>2</th>\n",
       "      <td>20-30</td>\n",
       "      <td>2</td>\n",
       "    </tr>\n",
       "    <tr>\n",
       "      <th>3</th>\n",
       "      <td>30-40</td>\n",
       "      <td>18</td>\n",
       "    </tr>\n",
       "    <tr>\n",
       "      <th>4</th>\n",
       "      <td>40-50</td>\n",
       "      <td>32</td>\n",
       "    </tr>\n",
       "    <tr>\n",
       "      <th>5</th>\n",
       "      <td>50-60</td>\n",
       "      <td>6</td>\n",
       "    </tr>\n",
       "    <tr>\n",
       "      <th>6</th>\n",
       "      <td>60-70</td>\n",
       "      <td>2</td>\n",
       "    </tr>\n",
       "    <tr>\n",
       "      <th>7</th>\n",
       "      <td>70-80</td>\n",
       "      <td>0</td>\n",
       "    </tr>\n",
       "    <tr>\n",
       "      <th>8</th>\n",
       "      <td>80-90</td>\n",
       "      <td>0</td>\n",
       "    </tr>\n",
       "    <tr>\n",
       "      <th>9</th>\n",
       "      <td>90-100</td>\n",
       "      <td>0</td>\n",
       "    </tr>\n",
       "    <tr>\n",
       "      <th>10</th>\n",
       "      <td>----------------------------------------------</td>\n",
       "      <td>-------------------------------</td>\n",
       "    </tr>\n",
       "    <tr>\n",
       "      <th>11</th>\n",
       "      <td>TOTAL</td>\n",
       "      <td>60</td>\n",
       "    </tr>\n",
       "  </tbody>\n",
       "</table>\n",
       "</div>"
      ],
      "text/plain": [
       "                   Range of Winning Percentage (%)  \\\n",
       "0                                             0-10   \n",
       "1                                            10-20   \n",
       "2                                            20-30   \n",
       "3                                            30-40   \n",
       "4                                            40-50   \n",
       "5                                            50-60   \n",
       "6                                            60-70   \n",
       "7                                            70-80   \n",
       "8                                            80-90   \n",
       "9                                           90-100   \n",
       "10  ----------------------------------------------   \n",
       "11                                           TOTAL   \n",
       "\n",
       "                    Number of Teams  \n",
       "0                                 0  \n",
       "1                                 0  \n",
       "2                                 2  \n",
       "3                                18  \n",
       "4                                32  \n",
       "5                                 6  \n",
       "6                                 2  \n",
       "7                                 0  \n",
       "8                                 0  \n",
       "9                                 0  \n",
       "10  -------------------------------  \n",
       "11                               60  "
      ]
     },
     "execution_count": 36,
     "metadata": {},
     "output_type": "execute_result"
    }
   ],
   "source": [
    "# To find Number of Teams falls under given Range of Winning Percentage\n",
    "\n",
    "# Getting data\n",
    "wp_data = win_team['Winning_Percentage(%)']\n",
    "\n",
    "# Creating function that counts values in range\n",
    "def count(percent_list,lower_limit,upper_limit):\n",
    "    counter = 0 \n",
    "    for i in percent_list:\n",
    "        if i>= lower_limit and i< upper_limit:\n",
    "            counter+= 1 \n",
    "    return counter\n",
    "\n",
    "# Creating dataframe\n",
    "range_counts = pd.DataFrame(data=['0-10','10-20','20-30','30-40','40-50','50-60','60-70','70-80','80-90',\n",
    "                                  '90-100','----------------------------------------------','TOTAL'],\n",
    "                            columns=['Range of Winning Percentage (%)'])\n",
    "\n",
    "range_counts['Number of Teams'] = [count(wp_data,0,10),count(wp_data,10,20),count(wp_data,20,30),\n",
    "                                   count(wp_data,30,40),count(wp_data,40,50),count(wp_data,50,60),\n",
    "                                   count(wp_data,60,70),count(wp_data,70,80),count(wp_data,80,90),\n",
    "                                   count(wp_data,90,100),'-------------------------------',len(wp_data)]\n",
    "\n",
    "print('Table showing number of Teams falls under given Range of Winning Percentage')\n",
    "range_counts"
   ]
  },
  {
   "cell_type": "code",
   "execution_count": 37,
   "metadata": {},
   "outputs": [
    {
     "name": "stdout",
     "output_type": "stream",
     "text": [
      "Plot Showing Winning Percentages of Teams:-\n"
     ]
    },
    {
     "data": {
      "image/png": "[encoded data removed]",
      "text/plain": [
       "<Figure size 864x432 with 1 Axes>"
      ]
     },
     "metadata": {
      "needs_background": "light"
     },
     "output_type": "display_data"
    }
   ],
   "source": [
    "# Plotting histogram for winning percentages of teams\n",
    "\n",
    "print('Plot Showing Winning Percentages of Teams:-')\n",
    "plt.figure(figsize=(12,6))\n",
    "plt.axvline(mean,color='red',label='Mean', linewidth=2.8)\n",
    "plt.legend()\n",
    "sns.histplot(win_team['Winning_Percentage(%)'], color='#9400D3');"
   ]
  },
  {
   "cell_type": "markdown",
   "metadata": {},
   "source": [
    "*By observing the above datas we can say,*\n",
    "* *'Team 1' has highest winning rate and can perform well when compared to other teams.*\n",
    "* *'Team 60' has lowest winning rate with only 23.33% which says that its performance is poor compared to other teams.*\n",
    "* *By observing the plot, maximum of winning percentages of the teams lies between 30-50%.*\n",
    "* *All the teams has an average of 43.17% winning percentage which means on an average the teams has lost more matches than winnig it.*\n",
    "* If Company wants to choose top best teams based on Winnings of the teams, then list of Top 10 best teams are provided above."
   ]
  },
  {
   "cell_type": "markdown",
   "metadata": {},
   "source": [
    "***\n",
    "## <span style=\"color:#9400D3\"> Analysing Tournament-Champions and Runner-ups of Teams"
   ]
  },
  {
   "cell_type": "code",
   "execution_count": 38,
   "metadata": {},
   "outputs": [
    {
     "name": "stdout",
     "output_type": "stream",
     "text": [
      "Total teams who won Tournaments = 9\n",
      "\n",
      "Teams who won the Tournaments are:-\n"
     ]
    },
    {
     "data": {
      "text/html": [
       "<div>\n",
       "<style scoped>\n",
       "    .dataframe tbody tr th:only-of-type {\n",
       "        vertical-align: middle;\n",
       "    }\n",
       "\n",
       "    .dataframe tbody tr th {\n",
       "        vertical-align: top;\n",
       "    }\n",
       "\n",
       "    .dataframe thead th {\n",
       "        text-align: right;\n",
       "    }\n",
       "</style>\n",
       "<table border=\"1\" class=\"dataframe\">\n",
       "  <thead>\n",
       "    <tr style=\"text-align: right;\">\n",
       "      <th></th>\n",
       "      <th>Team</th>\n",
       "      <th>TournamentChampion</th>\n",
       "    </tr>\n",
       "  </thead>\n",
       "  <tbody>\n",
       "    <tr>\n",
       "      <th>0</th>\n",
       "      <td>Team 1</td>\n",
       "      <td>33</td>\n",
       "    </tr>\n",
       "    <tr>\n",
       "      <th>1</th>\n",
       "      <td>Team 2</td>\n",
       "      <td>25</td>\n",
       "    </tr>\n",
       "    <tr>\n",
       "      <th>2</th>\n",
       "      <td>Team 3</td>\n",
       "      <td>10</td>\n",
       "    </tr>\n",
       "    <tr>\n",
       "      <th>3</th>\n",
       "      <td>Team 4</td>\n",
       "      <td>6</td>\n",
       "    </tr>\n",
       "    <tr>\n",
       "      <th>4</th>\n",
       "      <td>Team 5</td>\n",
       "      <td>8</td>\n",
       "    </tr>\n",
       "    <tr>\n",
       "      <th>5</th>\n",
       "      <td>Team 6</td>\n",
       "      <td>1</td>\n",
       "    </tr>\n",
       "    <tr>\n",
       "      <th>7</th>\n",
       "      <td>Team 8</td>\n",
       "      <td>2</td>\n",
       "    </tr>\n",
       "    <tr>\n",
       "      <th>9</th>\n",
       "      <td>Team 10</td>\n",
       "      <td>1</td>\n",
       "    </tr>\n",
       "    <tr>\n",
       "      <th>10</th>\n",
       "      <td>Team 11</td>\n",
       "      <td>1</td>\n",
       "    </tr>\n",
       "  </tbody>\n",
       "</table>\n",
       "</div>"
      ],
      "text/plain": [
       "       Team  TournamentChampion\n",
       "0    Team 1                  33\n",
       "1    Team 2                  25\n",
       "2    Team 3                  10\n",
       "3    Team 4                   6\n",
       "4    Team 5                   8\n",
       "5    Team 6                   1\n",
       "7    Team 8                   2\n",
       "9   Team 10                   1\n",
       "10  Team 11                   1"
      ]
     },
     "execution_count": 38,
     "metadata": {},
     "output_type": "execute_result"
    }
   ],
   "source": [
    "# To find the teams who won the Tournaments at least one time.\n",
    "\n",
    "Twon = data[data['TournamentChampion']!=0]\n",
    "print('Total teams who won Tournaments =',len(Twon['Team']))\n",
    "print('\\nTeams who won the Tournaments are:-')\n",
    "Twon[['Team','TournamentChampion']]"
   ]
  },
  {
   "cell_type": "code",
   "execution_count": 39,
   "metadata": {},
   "outputs": [
    {
     "name": "stdout",
     "output_type": "stream",
     "text": [
      "\n",
      "The team who won the Tournament most of the time is -->\n"
     ]
    },
    {
     "data": {
      "text/html": [
       "<div>\n",
       "<style scoped>\n",
       "    .dataframe tbody tr th:only-of-type {\n",
       "        vertical-align: middle;\n",
       "    }\n",
       "\n",
       "    .dataframe tbody tr th {\n",
       "        vertical-align: top;\n",
       "    }\n",
       "\n",
       "    .dataframe thead th {\n",
       "        text-align: right;\n",
       "    }\n",
       "</style>\n",
       "<table border=\"1\" class=\"dataframe\">\n",
       "  <thead>\n",
       "    <tr style=\"text-align: right;\">\n",
       "      <th></th>\n",
       "      <th>Team</th>\n",
       "      <th>TournamentChampion</th>\n",
       "    </tr>\n",
       "  </thead>\n",
       "  <tbody>\n",
       "    <tr>\n",
       "      <th>0</th>\n",
       "      <td>Team 1</td>\n",
       "      <td>33</td>\n",
       "    </tr>\n",
       "  </tbody>\n",
       "</table>\n",
       "</div>"
      ],
      "text/plain": [
       "     Team  TournamentChampion\n",
       "0  Team 1                  33"
      ]
     },
     "execution_count": 39,
     "metadata": {},
     "output_type": "execute_result"
    }
   ],
   "source": [
    "# To find the team who won the Tournament highest number of time\n",
    "\n",
    "print('\\nThe team who won the Tournament most of the time is -->')\n",
    "mwt = Twon[Twon['TournamentChampion']==Twon['TournamentChampion'].max()]\n",
    "mwt[['Team','TournamentChampion']]"
   ]
  },
  {
   "cell_type": "code",
   "execution_count": 40,
   "metadata": {},
   "outputs": [
    {
     "name": "stdout",
     "output_type": "stream",
     "text": [
      "Total teams who stood as Runner-up = 13\n",
      "\n",
      "Teams who stood as Runner-up are:-\n"
     ]
    },
    {
     "data": {
      "text/html": [
       "<div>\n",
       "<style scoped>\n",
       "    .dataframe tbody tr th:only-of-type {\n",
       "        vertical-align: middle;\n",
       "    }\n",
       "\n",
       "    .dataframe tbody tr th {\n",
       "        vertical-align: top;\n",
       "    }\n",
       "\n",
       "    .dataframe thead th {\n",
       "        text-align: right;\n",
       "    }\n",
       "</style>\n",
       "<table border=\"1\" class=\"dataframe\">\n",
       "  <thead>\n",
       "    <tr style=\"text-align: right;\">\n",
       "      <th></th>\n",
       "      <th>Team</th>\n",
       "      <th>Runner-up</th>\n",
       "    </tr>\n",
       "  </thead>\n",
       "  <tbody>\n",
       "    <tr>\n",
       "      <th>0</th>\n",
       "      <td>Team 1</td>\n",
       "      <td>23</td>\n",
       "    </tr>\n",
       "    <tr>\n",
       "      <th>1</th>\n",
       "      <td>Team 2</td>\n",
       "      <td>25</td>\n",
       "    </tr>\n",
       "    <tr>\n",
       "      <th>2</th>\n",
       "      <td>Team 3</td>\n",
       "      <td>8</td>\n",
       "    </tr>\n",
       "    <tr>\n",
       "      <th>3</th>\n",
       "      <td>Team 4</td>\n",
       "      <td>6</td>\n",
       "    </tr>\n",
       "    <tr>\n",
       "      <th>4</th>\n",
       "      <td>Team 5</td>\n",
       "      <td>7</td>\n",
       "    </tr>\n",
       "    <tr>\n",
       "      <th>5</th>\n",
       "      <td>Team 6</td>\n",
       "      <td>4</td>\n",
       "    </tr>\n",
       "    <tr>\n",
       "      <th>7</th>\n",
       "      <td>Team 8</td>\n",
       "      <td>3</td>\n",
       "    </tr>\n",
       "    <tr>\n",
       "      <th>8</th>\n",
       "      <td>Team 9</td>\n",
       "      <td>1</td>\n",
       "    </tr>\n",
       "    <tr>\n",
       "      <th>10</th>\n",
       "      <td>Team 11</td>\n",
       "      <td>5</td>\n",
       "    </tr>\n",
       "    <tr>\n",
       "      <th>13</th>\n",
       "      <td>Team 14</td>\n",
       "      <td>1</td>\n",
       "    </tr>\n",
       "    <tr>\n",
       "      <th>14</th>\n",
       "      <td>Team 15</td>\n",
       "      <td>1</td>\n",
       "    </tr>\n",
       "    <tr>\n",
       "      <th>19</th>\n",
       "      <td>Team 20</td>\n",
       "      <td>1</td>\n",
       "    </tr>\n",
       "    <tr>\n",
       "      <th>20</th>\n",
       "      <td>Team 21</td>\n",
       "      <td>1</td>\n",
       "    </tr>\n",
       "  </tbody>\n",
       "</table>\n",
       "</div>"
      ],
      "text/plain": [
       "       Team  Runner-up\n",
       "0    Team 1         23\n",
       "1    Team 2         25\n",
       "2    Team 3          8\n",
       "3    Team 4          6\n",
       "4    Team 5          7\n",
       "5    Team 6          4\n",
       "7    Team 8          3\n",
       "8    Team 9          1\n",
       "10  Team 11          5\n",
       "13  Team 14          1\n",
       "14  Team 15          1\n",
       "19  Team 20          1\n",
       "20  Team 21          1"
      ]
     },
     "execution_count": 40,
     "metadata": {},
     "output_type": "execute_result"
    }
   ],
   "source": [
    "# To find the teams who stood as Runner-up\n",
    "\n",
    "Trp = data[data['Runner-up']!=0]\n",
    "print('Total teams who stood as Runner-up =',len(Trp['Team']))\n",
    "print('\\nTeams who stood as Runner-up are:-')\n",
    "Trp[['Team','Runner-up']]"
   ]
  },
  {
   "cell_type": "code",
   "execution_count": 41,
   "metadata": {},
   "outputs": [
    {
     "name": "stdout",
     "output_type": "stream",
     "text": [
      "\n",
      "The team who stood as Runner-up most of the time is -->\n"
     ]
    },
    {
     "data": {
      "text/html": [
       "<div>\n",
       "<style scoped>\n",
       "    .dataframe tbody tr th:only-of-type {\n",
       "        vertical-align: middle;\n",
       "    }\n",
       "\n",
       "    .dataframe tbody tr th {\n",
       "        vertical-align: top;\n",
       "    }\n",
       "\n",
       "    .dataframe thead th {\n",
       "        text-align: right;\n",
       "    }\n",
       "</style>\n",
       "<table border=\"1\" class=\"dataframe\">\n",
       "  <thead>\n",
       "    <tr style=\"text-align: right;\">\n",
       "      <th></th>\n",
       "      <th>Team</th>\n",
       "      <th>Runner-up</th>\n",
       "    </tr>\n",
       "  </thead>\n",
       "  <tbody>\n",
       "    <tr>\n",
       "      <th>1</th>\n",
       "      <td>Team 2</td>\n",
       "      <td>25</td>\n",
       "    </tr>\n",
       "  </tbody>\n",
       "</table>\n",
       "</div>"
      ],
      "text/plain": [
       "     Team  Runner-up\n",
       "1  Team 2         25"
      ]
     },
     "execution_count": 41,
     "metadata": {},
     "output_type": "execute_result"
    }
   ],
   "source": [
    "# To find the team who stood as Runner-up highest number of time\n",
    "\n",
    "print('\\nThe team who stood as Runner-up most of the time is -->')\n",
    "mtr = Trp[Trp['Runner-up']==Trp['Runner-up'].max()]\n",
    "mtr[['Team','Runner-up']]"
   ]
  },
  {
   "cell_type": "code",
   "execution_count": 42,
   "metadata": {},
   "outputs": [
    {
     "name": "stdout",
     "output_type": "stream",
     "text": [
      "Total Teams who won/Runner-up = 14\n",
      "\n",
      "Teams who have either won the Tournament or stood as Runner-up are:-\n"
     ]
    },
    {
     "data": {
      "text/html": [
       "<div>\n",
       "<style scoped>\n",
       "    .dataframe tbody tr th:only-of-type {\n",
       "        vertical-align: middle;\n",
       "    }\n",
       "\n",
       "    .dataframe tbody tr th {\n",
       "        vertical-align: top;\n",
       "    }\n",
       "\n",
       "    .dataframe thead th {\n",
       "        text-align: right;\n",
       "    }\n",
       "</style>\n",
       "<table border=\"1\" class=\"dataframe\">\n",
       "  <thead>\n",
       "    <tr style=\"text-align: right;\">\n",
       "      <th></th>\n",
       "      <th>Team</th>\n",
       "      <th>TournamentChampion</th>\n",
       "      <th>Runner-up</th>\n",
       "    </tr>\n",
       "  </thead>\n",
       "  <tbody>\n",
       "    <tr>\n",
       "      <th>0</th>\n",
       "      <td>Team 1</td>\n",
       "      <td>33</td>\n",
       "      <td>23</td>\n",
       "    </tr>\n",
       "    <tr>\n",
       "      <th>1</th>\n",
       "      <td>Team 2</td>\n",
       "      <td>25</td>\n",
       "      <td>25</td>\n",
       "    </tr>\n",
       "    <tr>\n",
       "      <th>2</th>\n",
       "      <td>Team 3</td>\n",
       "      <td>10</td>\n",
       "      <td>8</td>\n",
       "    </tr>\n",
       "    <tr>\n",
       "      <th>3</th>\n",
       "      <td>Team 4</td>\n",
       "      <td>6</td>\n",
       "      <td>6</td>\n",
       "    </tr>\n",
       "    <tr>\n",
       "      <th>4</th>\n",
       "      <td>Team 5</td>\n",
       "      <td>8</td>\n",
       "      <td>7</td>\n",
       "    </tr>\n",
       "    <tr>\n",
       "      <th>5</th>\n",
       "      <td>Team 6</td>\n",
       "      <td>1</td>\n",
       "      <td>4</td>\n",
       "    </tr>\n",
       "    <tr>\n",
       "      <th>6</th>\n",
       "      <td>Team 8</td>\n",
       "      <td>2</td>\n",
       "      <td>3</td>\n",
       "    </tr>\n",
       "    <tr>\n",
       "      <th>7</th>\n",
       "      <td>Team 10</td>\n",
       "      <td>1</td>\n",
       "      <td>0</td>\n",
       "    </tr>\n",
       "    <tr>\n",
       "      <th>8</th>\n",
       "      <td>Team 11</td>\n",
       "      <td>1</td>\n",
       "      <td>5</td>\n",
       "    </tr>\n",
       "    <tr>\n",
       "      <th>9</th>\n",
       "      <td>Team 9</td>\n",
       "      <td>0</td>\n",
       "      <td>1</td>\n",
       "    </tr>\n",
       "    <tr>\n",
       "      <th>10</th>\n",
       "      <td>Team 14</td>\n",
       "      <td>0</td>\n",
       "      <td>1</td>\n",
       "    </tr>\n",
       "    <tr>\n",
       "      <th>11</th>\n",
       "      <td>Team 15</td>\n",
       "      <td>0</td>\n",
       "      <td>1</td>\n",
       "    </tr>\n",
       "    <tr>\n",
       "      <th>12</th>\n",
       "      <td>Team 20</td>\n",
       "      <td>0</td>\n",
       "      <td>1</td>\n",
       "    </tr>\n",
       "    <tr>\n",
       "      <th>13</th>\n",
       "      <td>Team 21</td>\n",
       "      <td>0</td>\n",
       "      <td>1</td>\n",
       "    </tr>\n",
       "  </tbody>\n",
       "</table>\n",
       "</div>"
      ],
      "text/plain": [
       "       Team  TournamentChampion  Runner-up\n",
       "0    Team 1                  33         23\n",
       "1    Team 2                  25         25\n",
       "2    Team 3                  10          8\n",
       "3    Team 4                   6          6\n",
       "4    Team 5                   8          7\n",
       "5    Team 6                   1          4\n",
       "6    Team 8                   2          3\n",
       "7   Team 10                   1          0\n",
       "8   Team 11                   1          5\n",
       "9    Team 9                   0          1\n",
       "10  Team 14                   0          1\n",
       "11  Team 15                   0          1\n",
       "12  Team 20                   0          1\n",
       "13  Team 21                   0          1"
      ]
     },
     "execution_count": 42,
     "metadata": {},
     "output_type": "execute_result"
    }
   ],
   "source": [
    "# To find the teams who have either won the Tournament or stood as Runner-up \n",
    "\n",
    "print('Total Teams who won/Runner-up =',len(Twon.merge(Trp ,how='outer')))\n",
    "print('\\nTeams who have either won the Tournament or stood as Runner-up are:-')\n",
    "wteam = Twon.merge(Trp ,how='outer')\n",
    "wteam[['Team','TournamentChampion','Runner-up']]"
   ]
  },
  {
   "cell_type": "code",
   "execution_count": 43,
   "metadata": {},
   "outputs": [
    {
     "name": "stdout",
     "output_type": "stream",
     "text": [
      "Total Teams who won and also Runner-up = 8\n",
      "\n",
      "Teams who have won the Tournament and aslo stood as Runner-up are:-\n"
     ]
    },
    {
     "data": {
      "text/html": [
       "<div>\n",
       "<style scoped>\n",
       "    .dataframe tbody tr th:only-of-type {\n",
       "        vertical-align: middle;\n",
       "    }\n",
       "\n",
       "    .dataframe tbody tr th {\n",
       "        vertical-align: top;\n",
       "    }\n",
       "\n",
       "    .dataframe thead th {\n",
       "        text-align: right;\n",
       "    }\n",
       "</style>\n",
       "<table border=\"1\" class=\"dataframe\">\n",
       "  <thead>\n",
       "    <tr style=\"text-align: right;\">\n",
       "      <th></th>\n",
       "      <th>Team</th>\n",
       "      <th>TournamentChampion</th>\n",
       "      <th>Runner-up</th>\n",
       "    </tr>\n",
       "  </thead>\n",
       "  <tbody>\n",
       "    <tr>\n",
       "      <th>0</th>\n",
       "      <td>Team 1</td>\n",
       "      <td>33</td>\n",
       "      <td>23</td>\n",
       "    </tr>\n",
       "    <tr>\n",
       "      <th>1</th>\n",
       "      <td>Team 2</td>\n",
       "      <td>25</td>\n",
       "      <td>25</td>\n",
       "    </tr>\n",
       "    <tr>\n",
       "      <th>2</th>\n",
       "      <td>Team 3</td>\n",
       "      <td>10</td>\n",
       "      <td>8</td>\n",
       "    </tr>\n",
       "    <tr>\n",
       "      <th>3</th>\n",
       "      <td>Team 4</td>\n",
       "      <td>6</td>\n",
       "      <td>6</td>\n",
       "    </tr>\n",
       "    <tr>\n",
       "      <th>4</th>\n",
       "      <td>Team 5</td>\n",
       "      <td>8</td>\n",
       "      <td>7</td>\n",
       "    </tr>\n",
       "    <tr>\n",
       "      <th>5</th>\n",
       "      <td>Team 6</td>\n",
       "      <td>1</td>\n",
       "      <td>4</td>\n",
       "    </tr>\n",
       "    <tr>\n",
       "      <th>6</th>\n",
       "      <td>Team 8</td>\n",
       "      <td>2</td>\n",
       "      <td>3</td>\n",
       "    </tr>\n",
       "    <tr>\n",
       "      <th>7</th>\n",
       "      <td>Team 11</td>\n",
       "      <td>1</td>\n",
       "      <td>5</td>\n",
       "    </tr>\n",
       "  </tbody>\n",
       "</table>\n",
       "</div>"
      ],
      "text/plain": [
       "      Team  TournamentChampion  Runner-up\n",
       "0   Team 1                  33         23\n",
       "1   Team 2                  25         25\n",
       "2   Team 3                  10          8\n",
       "3   Team 4                   6          6\n",
       "4   Team 5                   8          7\n",
       "5   Team 6                   1          4\n",
       "6   Team 8                   2          3\n",
       "7  Team 11                   1          5"
      ]
     },
     "execution_count": 43,
     "metadata": {},
     "output_type": "execute_result"
    }
   ],
   "source": [
    "# To find the teams who have won the Tournament and aslo stood as Runner-up \n",
    "\n",
    "print('Total Teams who won and also Runner-up =',len(Twon.merge(Trp)))\n",
    "print('\\nTeams who have won the Tournament and aslo stood as Runner-up are:-')\n",
    "teams = Twon.merge(Trp)\n",
    "teams[['Team','TournamentChampion','Runner-up']]"
   ]
  },
  {
   "cell_type": "code",
   "execution_count": 44,
   "metadata": {},
   "outputs": [
    {
     "name": "stdout",
     "output_type": "stream",
     "text": [
      "Plot Showing TournamentChampion and Runner-up:-\n"
     ]
    },
    {
     "data": {
      "image/png": "[encoded data removed]",
      "text/plain": [
       "<Figure size 864x432 with 1 Axes>"
      ]
     },
     "metadata": {
      "needs_background": "light"
     },
     "output_type": "display_data"
    }
   ],
   "source": [
    "# To plot Histogram showing TournamentChampion and Runner-up\n",
    "\n",
    "wor = wteam[['TournamentChampion','Runner-up']]\n",
    "\n",
    "print('Plot Showing TournamentChampion and Runner-up:-')\n",
    "plt.figure(figsize=(12,6))\n",
    "sns.histplot(wor,bins=15);"
   ]
  },
  {
   "cell_type": "code",
   "execution_count": 45,
   "metadata": {},
   "outputs": [
    {
     "name": "stdout",
     "output_type": "stream",
     "text": [
      "Table showing Tournament Performance Percentage:-\n"
     ]
    },
    {
     "data": {
      "text/html": [
       "<div>\n",
       "<style scoped>\n",
       "    .dataframe tbody tr th:only-of-type {\n",
       "        vertical-align: middle;\n",
       "    }\n",
       "\n",
       "    .dataframe tbody tr th {\n",
       "        vertical-align: top;\n",
       "    }\n",
       "\n",
       "    .dataframe thead th {\n",
       "        text-align: right;\n",
       "    }\n",
       "</style>\n",
       "<table border=\"1\" class=\"dataframe\">\n",
       "  <thead>\n",
       "    <tr style=\"text-align: right;\">\n",
       "      <th></th>\n",
       "      <th>Team</th>\n",
       "      <th>Tournament Performance %</th>\n",
       "    </tr>\n",
       "  </thead>\n",
       "  <tbody>\n",
       "    <tr>\n",
       "      <th>0</th>\n",
       "      <td>Team 1</td>\n",
       "      <td>65.12</td>\n",
       "    </tr>\n",
       "    <tr>\n",
       "      <th>1</th>\n",
       "      <td>Team 2</td>\n",
       "      <td>58.14</td>\n",
       "    </tr>\n",
       "    <tr>\n",
       "      <th>2</th>\n",
       "      <td>Team 3</td>\n",
       "      <td>22.50</td>\n",
       "    </tr>\n",
       "    <tr>\n",
       "      <th>3</th>\n",
       "      <td>Team 4</td>\n",
       "      <td>14.63</td>\n",
       "    </tr>\n",
       "    <tr>\n",
       "      <th>4</th>\n",
       "      <td>Team 5</td>\n",
       "      <td>17.44</td>\n",
       "    </tr>\n",
       "    <tr>\n",
       "      <th>5</th>\n",
       "      <td>Team 6</td>\n",
       "      <td>6.85</td>\n",
       "    </tr>\n",
       "    <tr>\n",
       "      <th>6</th>\n",
       "      <td>Team 8</td>\n",
       "      <td>7.14</td>\n",
       "    </tr>\n",
       "    <tr>\n",
       "      <th>7</th>\n",
       "      <td>Team 11</td>\n",
       "      <td>13.33</td>\n",
       "    </tr>\n",
       "  </tbody>\n",
       "</table>\n",
       "</div>"
      ],
      "text/plain": [
       "      Team  Tournament Performance %\n",
       "0   Team 1                     65.12\n",
       "1   Team 2                     58.14\n",
       "2   Team 3                     22.50\n",
       "3   Team 4                     14.63\n",
       "4   Team 5                     17.44\n",
       "5   Team 6                      6.85\n",
       "6   Team 8                      7.14\n",
       "7  Team 11                     13.33"
      ]
     },
     "execution_count": 45,
     "metadata": {},
     "output_type": "execute_result"
    }
   ],
   "source": [
    "# To find Performance Percentage based on Tournament\n",
    "\n",
    "PP = round(((teams['TournamentChampion']+teams['Runner-up'])/teams['Tournament']*100),2)\n",
    "TP = pd.DataFrame(PP,columns=['Tournament Performance %'])\n",
    "team = pd.DataFrame(teams['Team'])\n",
    "tp_team = team.join(TP)\n",
    "\n",
    "print('Table showing Tournament Performance Percentage:-')\n",
    "tp_team"
   ]
  },
  {
   "cell_type": "code",
   "execution_count": 46,
   "metadata": {},
   "outputs": [
    {
     "name": "stdout",
     "output_type": "stream",
     "text": [
      "Team with best performance in Tournaments is,\n"
     ]
    },
    {
     "data": {
      "text/html": [
       "<div>\n",
       "<style scoped>\n",
       "    .dataframe tbody tr th:only-of-type {\n",
       "        vertical-align: middle;\n",
       "    }\n",
       "\n",
       "    .dataframe tbody tr th {\n",
       "        vertical-align: top;\n",
       "    }\n",
       "\n",
       "    .dataframe thead th {\n",
       "        text-align: right;\n",
       "    }\n",
       "</style>\n",
       "<table border=\"1\" class=\"dataframe\">\n",
       "  <thead>\n",
       "    <tr style=\"text-align: right;\">\n",
       "      <th></th>\n",
       "      <th>Team</th>\n",
       "      <th>Tournament Performance %</th>\n",
       "    </tr>\n",
       "  </thead>\n",
       "  <tbody>\n",
       "    <tr>\n",
       "      <th>0</th>\n",
       "      <td>Team 1</td>\n",
       "      <td>65.12</td>\n",
       "    </tr>\n",
       "  </tbody>\n",
       "</table>\n",
       "</div>"
      ],
      "text/plain": [
       "     Team  Tournament Performance %\n",
       "0  Team 1                     65.12"
      ]
     },
     "execution_count": 46,
     "metadata": {},
     "output_type": "execute_result"
    }
   ],
   "source": [
    "# To find Team with best performance in Tournaments\n",
    "\n",
    "print('Team with best performance in Tournaments is,')\n",
    "tp_team[tp_team['Tournament Performance %']==tp_team['Tournament Performance %'].max()]"
   ]
  },
  {
   "cell_type": "code",
   "execution_count": 47,
   "metadata": {},
   "outputs": [
    {
     "name": "stdout",
     "output_type": "stream",
     "text": [
      "Plot Showing Tournament Performance Percentages:-\n"
     ]
    },
    {
     "data": {
      "image/png": "[encoded data removed]",
      "text/plain": [
       "<Figure size 864x432 with 1 Axes>"
      ]
     },
     "metadata": {
      "needs_background": "light"
     },
     "output_type": "display_data"
    }
   ],
   "source": [
    "# Plotting Distribution plot for Performance percentages based on Tournaments\n",
    "\n",
    "Tp = tp_team.sort_values(by=['Tournament Performance %'],ascending=False)\n",
    "mean = round(tp_team['Tournament Performance %'].mean(),2)\n",
    "\n",
    "print('Plot Showing Tournament Performance Percentages:-')\n",
    "plt.figure(figsize=(12,6))\n",
    "plt.axvline(mean,color='red',label='Mean', linewidth=2.3) \n",
    "plt.legend()\n",
    "sns.distplot(Tp['Tournament Performance %'],bins=8, color='#9400D3');"
   ]
  },
  {
   "cell_type": "markdown",
   "metadata": {},
   "source": [
    "*By observing above analytics we can say,*\n",
    "* *Only few teams are able to win or be runner-up in the tournaments*\n",
    "* *'Team 1' has won Tournaments highest number of times and 'Team 2' stood as Runner-up for maximum number of times.*\n",
    "* *There are 8 teams who won the Tournament and aslo stood as Runner-up and among these teams company can choose based on Tournament Performance*"
   ]
  },
  {
   "cell_type": "markdown",
   "metadata": {},
   "source": [
    "***\n",
    "## <span style=\"color:#9400D3\">Analysing Basket Scored and Given by the Teams"
   ]
  },
  {
   "cell_type": "code",
   "execution_count": 48,
   "metadata": {},
   "outputs": [
    {
     "data": {
      "text/html": [
       "<div>\n",
       "<style scoped>\n",
       "    .dataframe tbody tr th:only-of-type {\n",
       "        vertical-align: middle;\n",
       "    }\n",
       "\n",
       "    .dataframe tbody tr th {\n",
       "        vertical-align: top;\n",
       "    }\n",
       "\n",
       "    .dataframe thead th {\n",
       "        text-align: right;\n",
       "    }\n",
       "</style>\n",
       "<table border=\"1\" class=\"dataframe\">\n",
       "  <thead>\n",
       "    <tr style=\"text-align: right;\">\n",
       "      <th></th>\n",
       "      <th>Team</th>\n",
       "      <th>PlayedGames</th>\n",
       "      <th>BasketScored</th>\n",
       "      <th>BasketGiven</th>\n",
       "    </tr>\n",
       "  </thead>\n",
       "  <tbody>\n",
       "    <tr>\n",
       "      <th>0</th>\n",
       "      <td>Team 1</td>\n",
       "      <td>2762</td>\n",
       "      <td>5947</td>\n",
       "      <td>3140</td>\n",
       "    </tr>\n",
       "    <tr>\n",
       "      <th>1</th>\n",
       "      <td>Team 2</td>\n",
       "      <td>2762</td>\n",
       "      <td>5900</td>\n",
       "      <td>3114</td>\n",
       "    </tr>\n",
       "    <tr>\n",
       "      <th>2</th>\n",
       "      <td>Team 3</td>\n",
       "      <td>2614</td>\n",
       "      <td>4534</td>\n",
       "      <td>3309</td>\n",
       "    </tr>\n",
       "    <tr>\n",
       "      <th>3</th>\n",
       "      <td>Team 4</td>\n",
       "      <td>2664</td>\n",
       "      <td>4398</td>\n",
       "      <td>3469</td>\n",
       "    </tr>\n",
       "    <tr>\n",
       "      <th>4</th>\n",
       "      <td>Team 5</td>\n",
       "      <td>2762</td>\n",
       "      <td>4631</td>\n",
       "      <td>3700</td>\n",
       "    </tr>\n",
       "  </tbody>\n",
       "</table>\n",
       "</div>"
      ],
      "text/plain": [
       "     Team  PlayedGames  BasketScored  BasketGiven\n",
       "0  Team 1         2762          5947         3140\n",
       "1  Team 2         2762          5900         3114\n",
       "2  Team 3         2614          4534         3309\n",
       "3  Team 4         2664          4398         3469\n",
       "4  Team 5         2762          4631         3700"
      ]
     },
     "execution_count": 48,
     "metadata": {},
     "output_type": "execute_result"
    }
   ],
   "source": [
    "# Make data more efficient to use\n",
    "basket = data[['Team','PlayedGames','BasketScored','BasketGiven']]\n",
    "basket.head()"
   ]
  },
  {
   "cell_type": "code",
   "execution_count": 49,
   "metadata": {},
   "outputs": [
    {
     "name": "stdout",
     "output_type": "stream",
     "text": [
      "Team with highest number of Basket Scored is:-\n"
     ]
    },
    {
     "data": {
      "text/html": [
       "<div>\n",
       "<style scoped>\n",
       "    .dataframe tbody tr th:only-of-type {\n",
       "        vertical-align: middle;\n",
       "    }\n",
       "\n",
       "    .dataframe tbody tr th {\n",
       "        vertical-align: top;\n",
       "    }\n",
       "\n",
       "    .dataframe thead th {\n",
       "        text-align: right;\n",
       "    }\n",
       "</style>\n",
       "<table border=\"1\" class=\"dataframe\">\n",
       "  <thead>\n",
       "    <tr style=\"text-align: right;\">\n",
       "      <th></th>\n",
       "      <th>Team</th>\n",
       "      <th>PlayedGames</th>\n",
       "      <th>BasketScored</th>\n",
       "      <th>BasketGiven</th>\n",
       "    </tr>\n",
       "  </thead>\n",
       "  <tbody>\n",
       "    <tr>\n",
       "      <th>0</th>\n",
       "      <td>Team 1</td>\n",
       "      <td>2762</td>\n",
       "      <td>5947</td>\n",
       "      <td>3140</td>\n",
       "    </tr>\n",
       "  </tbody>\n",
       "</table>\n",
       "</div>"
      ],
      "text/plain": [
       "     Team  PlayedGames  BasketScored  BasketGiven\n",
       "0  Team 1         2762          5947         3140"
      ]
     },
     "execution_count": 49,
     "metadata": {},
     "output_type": "execute_result"
    }
   ],
   "source": [
    "# To find Team with highest number of Basket Scored\n",
    "\n",
    "print('Team with highest number of Basket Scored is:-')\n",
    "basket[basket['BasketScored']==basket['BasketScored'].max()]"
   ]
  },
  {
   "cell_type": "code",
   "execution_count": 50,
   "metadata": {},
   "outputs": [
    {
     "name": "stdout",
     "output_type": "stream",
     "text": [
      "Team with lowest number of Basket Scored is:-\n"
     ]
    },
    {
     "data": {
      "text/html": [
       "<div>\n",
       "<style scoped>\n",
       "    .dataframe tbody tr th:only-of-type {\n",
       "        vertical-align: middle;\n",
       "    }\n",
       "\n",
       "    .dataframe tbody tr th {\n",
       "        vertical-align: top;\n",
       "    }\n",
       "\n",
       "    .dataframe thead th {\n",
       "        text-align: right;\n",
       "    }\n",
       "</style>\n",
       "<table border=\"1\" class=\"dataframe\">\n",
       "  <thead>\n",
       "    <tr style=\"text-align: right;\">\n",
       "      <th></th>\n",
       "      <th>Team</th>\n",
       "      <th>PlayedGames</th>\n",
       "      <th>BasketScored</th>\n",
       "      <th>BasketGiven</th>\n",
       "    </tr>\n",
       "  </thead>\n",
       "  <tbody>\n",
       "    <tr>\n",
       "      <th>59</th>\n",
       "      <td>Team 60</td>\n",
       "      <td>30</td>\n",
       "      <td>34</td>\n",
       "      <td>65</td>\n",
       "    </tr>\n",
       "  </tbody>\n",
       "</table>\n",
       "</div>"
      ],
      "text/plain": [
       "       Team  PlayedGames  BasketScored  BasketGiven\n",
       "59  Team 60           30            34           65"
      ]
     },
     "execution_count": 50,
     "metadata": {},
     "output_type": "execute_result"
    }
   ],
   "source": [
    "# To find Team with lowest number of Basket Scored\n",
    "\n",
    "print('Team with lowest number of Basket Scored is:-')\n",
    "basket[basket['BasketScored']==basket['BasketScored'].min()]"
   ]
  },
  {
   "cell_type": "code",
   "execution_count": 51,
   "metadata": {},
   "outputs": [
    {
     "name": "stdout",
     "output_type": "stream",
     "text": [
      "Team with highest number of Basket Given is:-\n"
     ]
    },
    {
     "data": {
      "text/html": [
       "<div>\n",
       "<style scoped>\n",
       "    .dataframe tbody tr th:only-of-type {\n",
       "        vertical-align: middle;\n",
       "    }\n",
       "\n",
       "    .dataframe tbody tr th {\n",
       "        vertical-align: top;\n",
       "    }\n",
       "\n",
       "    .dataframe thead th {\n",
       "        text-align: right;\n",
       "    }\n",
       "</style>\n",
       "<table border=\"1\" class=\"dataframe\">\n",
       "  <thead>\n",
       "    <tr style=\"text-align: right;\">\n",
       "      <th></th>\n",
       "      <th>Team</th>\n",
       "      <th>PlayedGames</th>\n",
       "      <th>BasketScored</th>\n",
       "      <th>BasketGiven</th>\n",
       "    </tr>\n",
       "  </thead>\n",
       "  <tbody>\n",
       "    <tr>\n",
       "      <th>6</th>\n",
       "      <td>Team 7</td>\n",
       "      <td>2626</td>\n",
       "      <td>3609</td>\n",
       "      <td>3889</td>\n",
       "    </tr>\n",
       "  </tbody>\n",
       "</table>\n",
       "</div>"
      ],
      "text/plain": [
       "     Team  PlayedGames  BasketScored  BasketGiven\n",
       "6  Team 7         2626          3609         3889"
      ]
     },
     "execution_count": 51,
     "metadata": {},
     "output_type": "execute_result"
    }
   ],
   "source": [
    "# To find Team with highest number of Basket Given\n",
    "\n",
    "print('Team with highest number of Basket Given is:-')\n",
    "basket[basket['BasketGiven']==basket['BasketGiven'].max()]"
   ]
  },
  {
   "cell_type": "code",
   "execution_count": 52,
   "metadata": {},
   "outputs": [
    {
     "name": "stdout",
     "output_type": "stream",
     "text": [
      "Team with lowest number of Basket Given is:-\n"
     ]
    },
    {
     "data": {
      "text/html": [
       "<div>\n",
       "<style scoped>\n",
       "    .dataframe tbody tr th:only-of-type {\n",
       "        vertical-align: middle;\n",
       "    }\n",
       "\n",
       "    .dataframe tbody tr th {\n",
       "        vertical-align: top;\n",
       "    }\n",
       "\n",
       "    .dataframe thead th {\n",
       "        text-align: right;\n",
       "    }\n",
       "</style>\n",
       "<table border=\"1\" class=\"dataframe\">\n",
       "  <thead>\n",
       "    <tr style=\"text-align: right;\">\n",
       "      <th></th>\n",
       "      <th>Team</th>\n",
       "      <th>PlayedGames</th>\n",
       "      <th>BasketScored</th>\n",
       "      <th>BasketGiven</th>\n",
       "    </tr>\n",
       "  </thead>\n",
       "  <tbody>\n",
       "    <tr>\n",
       "      <th>55</th>\n",
       "      <td>Team 56</td>\n",
       "      <td>38</td>\n",
       "      <td>36</td>\n",
       "      <td>55</td>\n",
       "    </tr>\n",
       "  </tbody>\n",
       "</table>\n",
       "</div>"
      ],
      "text/plain": [
       "       Team  PlayedGames  BasketScored  BasketGiven\n",
       "55  Team 56           38            36           55"
      ]
     },
     "execution_count": 52,
     "metadata": {},
     "output_type": "execute_result"
    }
   ],
   "source": [
    "# To find Team with lowest number of Basket Given\n",
    "\n",
    "print('Team with lowest number of Basket Given is:-')\n",
    "basket[basket['BasketGiven']==basket['BasketGiven'].min()]"
   ]
  },
  {
   "cell_type": "code",
   "execution_count": 53,
   "metadata": {},
   "outputs": [
    {
     "name": "stdout",
     "output_type": "stream",
     "text": [
      "Table Showing Rate of Performance Based on Basket Scored\n",
      "\n",
      "Note:- Negative sign of Rate indicates that there are more number\n",
      "       of Basket-Given than the Basket-Scored by the Team!\n"
     ]
    },
    {
     "data": {
      "text/html": [
       "<div>\n",
       "<style scoped>\n",
       "    .dataframe tbody tr th:only-of-type {\n",
       "        vertical-align: middle;\n",
       "    }\n",
       "\n",
       "    .dataframe tbody tr th {\n",
       "        vertical-align: top;\n",
       "    }\n",
       "\n",
       "    .dataframe thead th {\n",
       "        text-align: right;\n",
       "    }\n",
       "</style>\n",
       "<table border=\"1\" class=\"dataframe\">\n",
       "  <thead>\n",
       "    <tr style=\"text-align: right;\">\n",
       "      <th></th>\n",
       "      <th>Team</th>\n",
       "      <th>Rate of Basket Scored</th>\n",
       "    </tr>\n",
       "  </thead>\n",
       "  <tbody>\n",
       "    <tr>\n",
       "      <th>0</th>\n",
       "      <td>Team 1</td>\n",
       "      <td>1.016</td>\n",
       "    </tr>\n",
       "    <tr>\n",
       "      <th>1</th>\n",
       "      <td>Team 2</td>\n",
       "      <td>1.009</td>\n",
       "    </tr>\n",
       "    <tr>\n",
       "      <th>2</th>\n",
       "      <td>Team 3</td>\n",
       "      <td>0.469</td>\n",
       "    </tr>\n",
       "    <tr>\n",
       "      <th>3</th>\n",
       "      <td>Team 4</td>\n",
       "      <td>0.349</td>\n",
       "    </tr>\n",
       "    <tr>\n",
       "      <th>4</th>\n",
       "      <td>Team 5</td>\n",
       "      <td>0.337</td>\n",
       "    </tr>\n",
       "    <tr>\n",
       "      <th>5</th>\n",
       "      <td>Team 6</td>\n",
       "      <td>0.127</td>\n",
       "    </tr>\n",
       "    <tr>\n",
       "      <th>6</th>\n",
       "      <td>Team 7</td>\n",
       "      <td>-0.107</td>\n",
       "    </tr>\n",
       "    <tr>\n",
       "      <th>7</th>\n",
       "      <td>Team 8</td>\n",
       "      <td>-0.001</td>\n",
       "    </tr>\n",
       "    <tr>\n",
       "      <th>8</th>\n",
       "      <td>Team 9</td>\n",
       "      <td>-0.083</td>\n",
       "    </tr>\n",
       "    <tr>\n",
       "      <th>9</th>\n",
       "      <td>Team 10</td>\n",
       "      <td>-0.193</td>\n",
       "    </tr>\n",
       "    <tr>\n",
       "      <th>10</th>\n",
       "      <td>Team 11</td>\n",
       "      <td>-0.089</td>\n",
       "    </tr>\n",
       "    <tr>\n",
       "      <th>11</th>\n",
       "      <td>Team 12</td>\n",
       "      <td>-0.204</td>\n",
       "    </tr>\n",
       "    <tr>\n",
       "      <th>12</th>\n",
       "      <td>Team 13</td>\n",
       "      <td>-0.282</td>\n",
       "    </tr>\n",
       "    <tr>\n",
       "      <th>13</th>\n",
       "      <td>Team 14</td>\n",
       "      <td>-0.368</td>\n",
       "    </tr>\n",
       "    <tr>\n",
       "      <th>14</th>\n",
       "      <td>Team 15</td>\n",
       "      <td>-0.274</td>\n",
       "    </tr>\n",
       "  </tbody>\n",
       "</table>\n",
       "</div>"
      ],
      "text/plain": [
       "       Team  Rate of Basket Scored\n",
       "0    Team 1                  1.016\n",
       "1    Team 2                  1.009\n",
       "2    Team 3                  0.469\n",
       "3    Team 4                  0.349\n",
       "4    Team 5                  0.337\n",
       "5    Team 6                  0.127\n",
       "6    Team 7                 -0.107\n",
       "7    Team 8                 -0.001\n",
       "8    Team 9                 -0.083\n",
       "9   Team 10                 -0.193\n",
       "10  Team 11                 -0.089\n",
       "11  Team 12                 -0.204\n",
       "12  Team 13                 -0.282\n",
       "13  Team 14                 -0.368\n",
       "14  Team 15                 -0.274"
      ]
     },
     "execution_count": 53,
     "metadata": {},
     "output_type": "execute_result"
    }
   ],
   "source": [
    "# To find Rate of Performance based on Basket Scored\n",
    "\n",
    "rpb = round((basket['BasketScored']-basket['BasketGiven'])/basket['PlayedGames'],3)\n",
    "rb = pd.DataFrame(rpb,columns=['Rate of Basket Scored'])\n",
    "team = pd.DataFrame(basket['Team'])\n",
    "rp_team = team.join(rb)\n",
    "\n",
    "print('''Table Showing Rate of Performance Based on Basket Scored\\n\\nNote:- Negative sign of Rate indicates that there are more number\n",
    "       of Basket-Given than the Basket-Scored by the Team!''')\n",
    "rp_team.head(15)"
   ]
  },
  {
   "cell_type": "code",
   "execution_count": 54,
   "metadata": {},
   "outputs": [
    {
     "name": "stdout",
     "output_type": "stream",
     "text": [
      "The teams with good basket rates are:-\n",
      "Total = 7\n"
     ]
    },
    {
     "data": {
      "text/html": [
       "<div>\n",
       "<style scoped>\n",
       "    .dataframe tbody tr th:only-of-type {\n",
       "        vertical-align: middle;\n",
       "    }\n",
       "\n",
       "    .dataframe tbody tr th {\n",
       "        vertical-align: top;\n",
       "    }\n",
       "\n",
       "    .dataframe thead th {\n",
       "        text-align: right;\n",
       "    }\n",
       "</style>\n",
       "<table border=\"1\" class=\"dataframe\">\n",
       "  <thead>\n",
       "    <tr style=\"text-align: right;\">\n",
       "      <th></th>\n",
       "      <th>Team</th>\n",
       "      <th>Rate of Basket Scored</th>\n",
       "    </tr>\n",
       "  </thead>\n",
       "  <tbody>\n",
       "    <tr>\n",
       "      <th>0</th>\n",
       "      <td>Team 1</td>\n",
       "      <td>1.016</td>\n",
       "    </tr>\n",
       "    <tr>\n",
       "      <th>1</th>\n",
       "      <td>Team 2</td>\n",
       "      <td>1.009</td>\n",
       "    </tr>\n",
       "    <tr>\n",
       "      <th>2</th>\n",
       "      <td>Team 3</td>\n",
       "      <td>0.469</td>\n",
       "    </tr>\n",
       "    <tr>\n",
       "      <th>3</th>\n",
       "      <td>Team 4</td>\n",
       "      <td>0.349</td>\n",
       "    </tr>\n",
       "    <tr>\n",
       "      <th>4</th>\n",
       "      <td>Team 5</td>\n",
       "      <td>0.337</td>\n",
       "    </tr>\n",
       "    <tr>\n",
       "      <th>5</th>\n",
       "      <td>Team 6</td>\n",
       "      <td>0.127</td>\n",
       "    </tr>\n",
       "    <tr>\n",
       "      <th>20</th>\n",
       "      <td>Team 21</td>\n",
       "      <td>0.159</td>\n",
       "    </tr>\n",
       "  </tbody>\n",
       "</table>\n",
       "</div>"
      ],
      "text/plain": [
       "       Team  Rate of Basket Scored\n",
       "0    Team 1                  1.016\n",
       "1    Team 2                  1.009\n",
       "2    Team 3                  0.469\n",
       "3    Team 4                  0.349\n",
       "4    Team 5                  0.337\n",
       "5    Team 6                  0.127\n",
       "20  Team 21                  0.159"
      ]
     },
     "execution_count": 54,
     "metadata": {},
     "output_type": "execute_result"
    }
   ],
   "source": [
    "# To find Teams with good basket rates\n",
    "\n",
    "print('The teams with good basket rates are:-')\n",
    "print('Total =',len(rp_team[rp_team['Rate of Basket Scored']>0]))\n",
    "rp_team[rp_team['Rate of Basket Scored']>0]"
   ]
  },
  {
   "cell_type": "code",
   "execution_count": 55,
   "metadata": {},
   "outputs": [
    {
     "name": "stdout",
     "output_type": "stream",
     "text": [
      "Best team based on basket rates is:-\n"
     ]
    },
    {
     "data": {
      "text/html": [
       "<div>\n",
       "<style scoped>\n",
       "    .dataframe tbody tr th:only-of-type {\n",
       "        vertical-align: middle;\n",
       "    }\n",
       "\n",
       "    .dataframe tbody tr th {\n",
       "        vertical-align: top;\n",
       "    }\n",
       "\n",
       "    .dataframe thead th {\n",
       "        text-align: right;\n",
       "    }\n",
       "</style>\n",
       "<table border=\"1\" class=\"dataframe\">\n",
       "  <thead>\n",
       "    <tr style=\"text-align: right;\">\n",
       "      <th></th>\n",
       "      <th>Team</th>\n",
       "      <th>Rate of Basket Scored</th>\n",
       "    </tr>\n",
       "  </thead>\n",
       "  <tbody>\n",
       "    <tr>\n",
       "      <th>0</th>\n",
       "      <td>Team 1</td>\n",
       "      <td>1.016</td>\n",
       "    </tr>\n",
       "  </tbody>\n",
       "</table>\n",
       "</div>"
      ],
      "text/plain": [
       "     Team  Rate of Basket Scored\n",
       "0  Team 1                  1.016"
      ]
     },
     "execution_count": 55,
     "metadata": {},
     "output_type": "execute_result"
    }
   ],
   "source": [
    "# Best Team based on Basket Rate\n",
    "\n",
    "print('Best team based on basket rates is:-')\n",
    "rp_team[rp_team['Rate of Basket Scored']==rp_team['Rate of Basket Scored'].max()]"
   ]
  },
  {
   "cell_type": "code",
   "execution_count": 56,
   "metadata": {},
   "outputs": [
    {
     "name": "stdout",
     "output_type": "stream",
     "text": [
      "Team which has least basket rates is:-\n"
     ]
    },
    {
     "data": {
      "text/html": [
       "<div>\n",
       "<style scoped>\n",
       "    .dataframe tbody tr th:only-of-type {\n",
       "        vertical-align: middle;\n",
       "    }\n",
       "\n",
       "    .dataframe tbody tr th {\n",
       "        vertical-align: top;\n",
       "    }\n",
       "\n",
       "    .dataframe thead th {\n",
       "        text-align: right;\n",
       "    }\n",
       "</style>\n",
       "<table border=\"1\" class=\"dataframe\">\n",
       "  <thead>\n",
       "    <tr style=\"text-align: right;\">\n",
       "      <th></th>\n",
       "      <th>Team</th>\n",
       "      <th>Rate of Basket Scored</th>\n",
       "    </tr>\n",
       "  </thead>\n",
       "  <tbody>\n",
       "    <tr>\n",
       "      <th>54</th>\n",
       "      <td>Team 55</td>\n",
       "      <td>-1.647</td>\n",
       "    </tr>\n",
       "  </tbody>\n",
       "</table>\n",
       "</div>"
      ],
      "text/plain": [
       "       Team  Rate of Basket Scored\n",
       "54  Team 55                 -1.647"
      ]
     },
     "execution_count": 56,
     "metadata": {},
     "output_type": "execute_result"
    }
   ],
   "source": [
    "# Team which has least Basket Rate\n",
    "\n",
    "print('Team which has least basket rates is:-')\n",
    "rp_team[rp_team['Rate of Basket Scored']==rp_team['Rate of Basket Scored'].min()]"
   ]
  },
  {
   "cell_type": "code",
   "execution_count": 57,
   "metadata": {},
   "outputs": [
    {
     "name": "stdout",
     "output_type": "stream",
     "text": [
      "Plot Showing Rate of Performance based on Basket Scored:-\n"
     ]
    },
    {
     "data": {
      "image/png": "[encoded data removed]",
      "text/plain": [
       "<Figure size 864x432 with 1 Axes>"
      ]
     },
     "metadata": {
      "needs_background": "light"
     },
     "output_type": "display_data"
    }
   ],
   "source": [
    "# Plotting distribution plot for basket rates\n",
    "\n",
    "print('Plot Showing Rate of Performance based on Basket Scored:-')\n",
    "plt.figure(figsize=(12,6))\n",
    "sns.distplot(rp_team['Rate of Basket Scored'],bins=10,color='#9400D3');\n",
    "plt.show()"
   ]
  },
  {
   "cell_type": "markdown",
   "metadata": {},
   "source": [
    "*By observing above data we can say,*\n",
    "* *There are very few teams whose rate of performance is above zero value.*\n",
    "* *'Team 1' has very good basket rate and 'Team 55' has poor rate of performance based on basket scored.*\n",
    "* *If Company want to look after the team with good basket rates then it can refer above table which shows the teams with good basket rates.*"
   ]
  },
  {
   "cell_type": "markdown",
   "metadata": {},
   "source": [
    "***\n",
    "## <span style=\"color:#9400D3\">Analysing Experience of Teams"
   ]
  },
  {
   "cell_type": "code",
   "execution_count": 58,
   "metadata": {},
   "outputs": [
    {
     "name": "stdout",
     "output_type": "stream",
     "text": [
      "Table showing experience of teams:-\n"
     ]
    },
    {
     "data": {
      "text/html": [
       "<div>\n",
       "<style scoped>\n",
       "    .dataframe tbody tr th:only-of-type {\n",
       "        vertical-align: middle;\n",
       "    }\n",
       "\n",
       "    .dataframe tbody tr th {\n",
       "        vertical-align: top;\n",
       "    }\n",
       "\n",
       "    .dataframe thead th {\n",
       "        text-align: right;\n",
       "    }\n",
       "</style>\n",
       "<table border=\"1\" class=\"dataframe\">\n",
       "  <thead>\n",
       "    <tr style=\"text-align: right;\">\n",
       "      <th></th>\n",
       "      <th>Team</th>\n",
       "      <th>Experience</th>\n",
       "    </tr>\n",
       "  </thead>\n",
       "  <tbody>\n",
       "    <tr>\n",
       "      <th>0</th>\n",
       "      <td>Team 1</td>\n",
       "      <td>2848</td>\n",
       "    </tr>\n",
       "    <tr>\n",
       "      <th>1</th>\n",
       "      <td>Team 2</td>\n",
       "      <td>2848</td>\n",
       "    </tr>\n",
       "    <tr>\n",
       "      <th>2</th>\n",
       "      <td>Team 3</td>\n",
       "      <td>2694</td>\n",
       "    </tr>\n",
       "    <tr>\n",
       "      <th>3</th>\n",
       "      <td>Team 4</td>\n",
       "      <td>2746</td>\n",
       "    </tr>\n",
       "    <tr>\n",
       "      <th>4</th>\n",
       "      <td>Team 5</td>\n",
       "      <td>2848</td>\n",
       "    </tr>\n",
       "    <tr>\n",
       "      <th>5</th>\n",
       "      <td>Team 6</td>\n",
       "      <td>2481</td>\n",
       "    </tr>\n",
       "    <tr>\n",
       "      <th>6</th>\n",
       "      <td>Team 7</td>\n",
       "      <td>2708</td>\n",
       "    </tr>\n",
       "    <tr>\n",
       "      <th>7</th>\n",
       "      <td>Team 8</td>\n",
       "      <td>2372</td>\n",
       "    </tr>\n",
       "    <tr>\n",
       "      <th>8</th>\n",
       "      <td>Team 9</td>\n",
       "      <td>2044</td>\n",
       "    </tr>\n",
       "    <tr>\n",
       "      <th>9</th>\n",
       "      <td>Team 10</td>\n",
       "      <td>1779</td>\n",
       "    </tr>\n",
       "    <tr>\n",
       "      <th>10</th>\n",
       "      <td>Team 11</td>\n",
       "      <td>1575</td>\n",
       "    </tr>\n",
       "    <tr>\n",
       "      <th>11</th>\n",
       "      <td>Team 12</td>\n",
       "      <td>1749</td>\n",
       "    </tr>\n",
       "    <tr>\n",
       "      <th>12</th>\n",
       "      <td>Team 13</td>\n",
       "      <td>1508</td>\n",
       "    </tr>\n",
       "    <tr>\n",
       "      <th>13</th>\n",
       "      <td>Team 14</td>\n",
       "      <td>1472</td>\n",
       "    </tr>\n",
       "    <tr>\n",
       "      <th>14</th>\n",
       "      <td>Team 15</td>\n",
       "      <td>1501</td>\n",
       "    </tr>\n",
       "  </tbody>\n",
       "</table>\n",
       "</div>"
      ],
      "text/plain": [
       "       Team  Experience\n",
       "0    Team 1        2848\n",
       "1    Team 2        2848\n",
       "2    Team 3        2694\n",
       "3    Team 4        2746\n",
       "4    Team 5        2848\n",
       "5    Team 6        2481\n",
       "6    Team 7        2708\n",
       "7    Team 8        2372\n",
       "8    Team 9        2044\n",
       "9   Team 10        1779\n",
       "10  Team 11        1575\n",
       "11  Team 12        1749\n",
       "12  Team 13        1508\n",
       "13  Team 14        1472\n",
       "14  Team 15        1501"
      ]
     },
     "execution_count": 58,
     "metadata": {},
     "output_type": "execute_result"
    }
   ],
   "source": [
    "# To find out the experience of teams\n",
    "\n",
    "met = data[['Team','Tournament','PlayedGames']]\n",
    "tmet = met['Tournament']+met['PlayedGames']\n",
    "met1 = pd.DataFrame(tmet,columns=['Experience'])\n",
    "team = pd.DataFrame(met['Team'])\n",
    "exp_team = team.join(met1)\n",
    "print('Table showing experience of teams:-')\n",
    "exp_team.head(15)"
   ]
  },
  {
   "cell_type": "code",
   "execution_count": 59,
   "metadata": {},
   "outputs": [
    {
     "name": "stdout",
     "output_type": "stream",
     "text": [
      "Most experienced teams:-\n",
      "Total = 3\n"
     ]
    },
    {
     "data": {
      "text/html": [
       "<div>\n",
       "<style scoped>\n",
       "    .dataframe tbody tr th:only-of-type {\n",
       "        vertical-align: middle;\n",
       "    }\n",
       "\n",
       "    .dataframe tbody tr th {\n",
       "        vertical-align: top;\n",
       "    }\n",
       "\n",
       "    .dataframe thead th {\n",
       "        text-align: right;\n",
       "    }\n",
       "</style>\n",
       "<table border=\"1\" class=\"dataframe\">\n",
       "  <thead>\n",
       "    <tr style=\"text-align: right;\">\n",
       "      <th></th>\n",
       "      <th>Team</th>\n",
       "      <th>Experience</th>\n",
       "    </tr>\n",
       "  </thead>\n",
       "  <tbody>\n",
       "    <tr>\n",
       "      <th>0</th>\n",
       "      <td>Team 1</td>\n",
       "      <td>2848</td>\n",
       "    </tr>\n",
       "    <tr>\n",
       "      <th>1</th>\n",
       "      <td>Team 2</td>\n",
       "      <td>2848</td>\n",
       "    </tr>\n",
       "    <tr>\n",
       "      <th>4</th>\n",
       "      <td>Team 5</td>\n",
       "      <td>2848</td>\n",
       "    </tr>\n",
       "  </tbody>\n",
       "</table>\n",
       "</div>"
      ],
      "text/plain": [
       "     Team  Experience\n",
       "0  Team 1        2848\n",
       "1  Team 2        2848\n",
       "4  Team 5        2848"
      ]
     },
     "execution_count": 59,
     "metadata": {},
     "output_type": "execute_result"
    }
   ],
   "source": [
    "# To find Most Experienced teams\n",
    "\n",
    "print('Most experienced teams:-')\n",
    "print('Total =',len(exp_team[exp_team['Experience']==exp_team['Experience'].max()]))\n",
    "exp_team[exp_team['Experience']==exp_team['Experience'].max()]"
   ]
  },
  {
   "cell_type": "code",
   "execution_count": 60,
   "metadata": {},
   "outputs": [
    {
     "name": "stdout",
     "output_type": "stream",
     "text": [
      "Least experienced teams:-\n",
      "Total = 3\n"
     ]
    },
    {
     "data": {
      "text/html": [
       "<div>\n",
       "<style scoped>\n",
       "    .dataframe tbody tr th:only-of-type {\n",
       "        vertical-align: middle;\n",
       "    }\n",
       "\n",
       "    .dataframe tbody tr th {\n",
       "        vertical-align: top;\n",
       "    }\n",
       "\n",
       "    .dataframe thead th {\n",
       "        text-align: right;\n",
       "    }\n",
       "</style>\n",
       "<table border=\"1\" class=\"dataframe\">\n",
       "  <thead>\n",
       "    <tr style=\"text-align: right;\">\n",
       "      <th></th>\n",
       "      <th>Team</th>\n",
       "      <th>Experience</th>\n",
       "    </tr>\n",
       "  </thead>\n",
       "  <tbody>\n",
       "    <tr>\n",
       "      <th>57</th>\n",
       "      <td>Team 58</td>\n",
       "      <td>31</td>\n",
       "    </tr>\n",
       "    <tr>\n",
       "      <th>58</th>\n",
       "      <td>Team 59</td>\n",
       "      <td>31</td>\n",
       "    </tr>\n",
       "    <tr>\n",
       "      <th>59</th>\n",
       "      <td>Team 60</td>\n",
       "      <td>31</td>\n",
       "    </tr>\n",
       "  </tbody>\n",
       "</table>\n",
       "</div>"
      ],
      "text/plain": [
       "       Team  Experience\n",
       "57  Team 58          31\n",
       "58  Team 59          31\n",
       "59  Team 60          31"
      ]
     },
     "execution_count": 60,
     "metadata": {},
     "output_type": "execute_result"
    }
   ],
   "source": [
    "# To find least experienced teams\n",
    "\n",
    "print('Least experienced teams:-')\n",
    "print('Total =',len(exp_team[exp_team['Experience']==exp_team['Experience'].min()]))\n",
    "exp_team[exp_team['Experience']==exp_team['Experience'].min()]"
   ]
  },
  {
   "cell_type": "code",
   "execution_count": 61,
   "metadata": {},
   "outputs": [
    {
     "name": "stdout",
     "output_type": "stream",
     "text": [
      "Average experience of teams = 834.48\n"
     ]
    }
   ],
   "source": [
    "# To find the average experience of teams\n",
    "\n",
    "print('Average experience of teams =',round(exp_team['Experience'].mean(),2))"
   ]
  },
  {
   "cell_type": "code",
   "execution_count": 62,
   "metadata": {},
   "outputs": [
    {
     "name": "stdout",
     "output_type": "stream",
     "text": [
      "Table showing top 10 teams having highest experience:-\n"
     ]
    },
    {
     "data": {
      "text/html": [
       "<div>\n",
       "<style scoped>\n",
       "    .dataframe tbody tr th:only-of-type {\n",
       "        vertical-align: middle;\n",
       "    }\n",
       "\n",
       "    .dataframe tbody tr th {\n",
       "        vertical-align: top;\n",
       "    }\n",
       "\n",
       "    .dataframe thead th {\n",
       "        text-align: right;\n",
       "    }\n",
       "</style>\n",
       "<table border=\"1\" class=\"dataframe\">\n",
       "  <thead>\n",
       "    <tr style=\"text-align: right;\">\n",
       "      <th></th>\n",
       "      <th>Team</th>\n",
       "      <th>Experience</th>\n",
       "    </tr>\n",
       "  </thead>\n",
       "  <tbody>\n",
       "    <tr>\n",
       "      <th>0</th>\n",
       "      <td>Team 1</td>\n",
       "      <td>2848</td>\n",
       "    </tr>\n",
       "    <tr>\n",
       "      <th>1</th>\n",
       "      <td>Team 2</td>\n",
       "      <td>2848</td>\n",
       "    </tr>\n",
       "    <tr>\n",
       "      <th>4</th>\n",
       "      <td>Team 5</td>\n",
       "      <td>2848</td>\n",
       "    </tr>\n",
       "    <tr>\n",
       "      <th>3</th>\n",
       "      <td>Team 4</td>\n",
       "      <td>2746</td>\n",
       "    </tr>\n",
       "    <tr>\n",
       "      <th>6</th>\n",
       "      <td>Team 7</td>\n",
       "      <td>2708</td>\n",
       "    </tr>\n",
       "    <tr>\n",
       "      <th>2</th>\n",
       "      <td>Team 3</td>\n",
       "      <td>2694</td>\n",
       "    </tr>\n",
       "    <tr>\n",
       "      <th>5</th>\n",
       "      <td>Team 6</td>\n",
       "      <td>2481</td>\n",
       "    </tr>\n",
       "    <tr>\n",
       "      <th>7</th>\n",
       "      <td>Team 8</td>\n",
       "      <td>2372</td>\n",
       "    </tr>\n",
       "    <tr>\n",
       "      <th>8</th>\n",
       "      <td>Team 9</td>\n",
       "      <td>2044</td>\n",
       "    </tr>\n",
       "    <tr>\n",
       "      <th>9</th>\n",
       "      <td>Team 10</td>\n",
       "      <td>1779</td>\n",
       "    </tr>\n",
       "  </tbody>\n",
       "</table>\n",
       "</div>"
      ],
      "text/plain": [
       "      Team  Experience\n",
       "0   Team 1        2848\n",
       "1   Team 2        2848\n",
       "4   Team 5        2848\n",
       "3   Team 4        2746\n",
       "6   Team 7        2708\n",
       "2   Team 3        2694\n",
       "5   Team 6        2481\n",
       "7   Team 8        2372\n",
       "8   Team 9        2044\n",
       "9  Team 10        1779"
      ]
     },
     "execution_count": 62,
     "metadata": {},
     "output_type": "execute_result"
    }
   ],
   "source": [
    "# To find top 10 teams having highest experience\n",
    "\n",
    "exp_team10 = exp_team.sort_values(by=['Experience'],ascending=False)\n",
    "print('Table showing top 10 teams having highest experience:-')\n",
    "exp_team10.head(10)"
   ]
  },
  {
   "cell_type": "code",
   "execution_count": 63,
   "metadata": {},
   "outputs": [
    {
     "name": "stdout",
     "output_type": "stream",
     "text": [
      "Plot Showing Experience based on Games and Tournament played:-\n"
     ]
    },
    {
     "data": {
      "image/png": "[encoded data removed]",
      "text/plain": [
       "<Figure size 864x432 with 1 Axes>"
      ]
     },
     "metadata": {
      "needs_background": "light"
     },
     "output_type": "display_data"
    }
   ],
   "source": [
    "# To plot Distribution plot showing experience of all teams\n",
    "\n",
    "print('Plot Showing Experience based on Games and Tournament played:-')\n",
    "plt.figure(figsize=(12,6))\n",
    "sns.distplot(exp_team['Experience'],color='#9400D3');\n",
    "plt.show()"
   ]
  },
  {
   "cell_type": "markdown",
   "metadata": {},
   "source": [
    "*Observing above data we can say,*\n",
    "* *'Team 1','Team 2' and 'Team 5' are most experienced teams whereas 'Team 58', 'Team 59', and 'Team 60' have least experience.*\n",
    "* *Most of teams have experience below 2000 since there are many number of observations below 1000 in the dist plot.*\n",
    "* *Overall the teams have 834.48 experience on an average.*\n",
    "* *If company want to select teams based on experience, it can refer the above table showing top 10 most experienced teams.*"
   ]
  },
  {
   "cell_type": "markdown",
   "metadata": {},
   "source": [
    "***\n",
    "## <span style=\"color:#9400D3\">Analysing Team Launch and Highest Position Held"
   ]
  },
  {
   "cell_type": "code",
   "execution_count": 64,
   "metadata": {},
   "outputs": [
    {
     "data": {
      "text/html": [
       "<div>\n",
       "<style scoped>\n",
       "    .dataframe tbody tr th:only-of-type {\n",
       "        vertical-align: middle;\n",
       "    }\n",
       "\n",
       "    .dataframe tbody tr th {\n",
       "        vertical-align: top;\n",
       "    }\n",
       "\n",
       "    .dataframe thead th {\n",
       "        text-align: right;\n",
       "    }\n",
       "</style>\n",
       "<table border=\"1\" class=\"dataframe\">\n",
       "  <thead>\n",
       "    <tr style=\"text-align: right;\">\n",
       "      <th></th>\n",
       "      <th>Team</th>\n",
       "      <th>TeamLaunch</th>\n",
       "      <th>HighestPositionHeld</th>\n",
       "    </tr>\n",
       "  </thead>\n",
       "  <tbody>\n",
       "    <tr>\n",
       "      <th>0</th>\n",
       "      <td>Team 1</td>\n",
       "      <td>1929</td>\n",
       "      <td>1</td>\n",
       "    </tr>\n",
       "    <tr>\n",
       "      <th>1</th>\n",
       "      <td>Team 2</td>\n",
       "      <td>1929</td>\n",
       "      <td>1</td>\n",
       "    </tr>\n",
       "    <tr>\n",
       "      <th>2</th>\n",
       "      <td>Team 3</td>\n",
       "      <td>1929</td>\n",
       "      <td>1</td>\n",
       "    </tr>\n",
       "    <tr>\n",
       "      <th>3</th>\n",
       "      <td>Team 4</td>\n",
       "      <td>1931</td>\n",
       "      <td>1</td>\n",
       "    </tr>\n",
       "    <tr>\n",
       "      <th>4</th>\n",
       "      <td>Team 5</td>\n",
       "      <td>1929</td>\n",
       "      <td>1</td>\n",
       "    </tr>\n",
       "  </tbody>\n",
       "</table>\n",
       "</div>"
      ],
      "text/plain": [
       "     Team  TeamLaunch  HighestPositionHeld\n",
       "0  Team 1        1929                    1\n",
       "1  Team 2        1929                    1\n",
       "2  Team 3        1929                    1\n",
       "3  Team 4        1931                    1\n",
       "4  Team 5        1929                    1"
      ]
     },
     "execution_count": 64,
     "metadata": {},
     "output_type": "execute_result"
    }
   ],
   "source": [
    "# Trimming the columns for ease\n",
    "\n",
    "tlhp = data[['Team','TeamLaunch','HighestPositionHeld']]\n",
    "tlhp.head()"
   ]
  },
  {
   "cell_type": "code",
   "execution_count": 65,
   "metadata": {},
   "outputs": [
    {
     "name": "stdout",
     "output_type": "stream",
     "text": [
      "Oldest Teams are:-\n",
      "Total = 10\n"
     ]
    },
    {
     "data": {
      "text/html": [
       "<div>\n",
       "<style scoped>\n",
       "    .dataframe tbody tr th:only-of-type {\n",
       "        vertical-align: middle;\n",
       "    }\n",
       "\n",
       "    .dataframe tbody tr th {\n",
       "        vertical-align: top;\n",
       "    }\n",
       "\n",
       "    .dataframe thead th {\n",
       "        text-align: right;\n",
       "    }\n",
       "</style>\n",
       "<table border=\"1\" class=\"dataframe\">\n",
       "  <thead>\n",
       "    <tr style=\"text-align: right;\">\n",
       "      <th></th>\n",
       "      <th>Team</th>\n",
       "      <th>TeamLaunch</th>\n",
       "    </tr>\n",
       "  </thead>\n",
       "  <tbody>\n",
       "    <tr>\n",
       "      <th>0</th>\n",
       "      <td>Team 1</td>\n",
       "      <td>1929</td>\n",
       "    </tr>\n",
       "    <tr>\n",
       "      <th>1</th>\n",
       "      <td>Team 2</td>\n",
       "      <td>1929</td>\n",
       "    </tr>\n",
       "    <tr>\n",
       "      <th>2</th>\n",
       "      <td>Team 3</td>\n",
       "      <td>1929</td>\n",
       "    </tr>\n",
       "    <tr>\n",
       "      <th>4</th>\n",
       "      <td>Team 5</td>\n",
       "      <td>1929</td>\n",
       "    </tr>\n",
       "    <tr>\n",
       "      <th>6</th>\n",
       "      <td>Team 7</td>\n",
       "      <td>1929</td>\n",
       "    </tr>\n",
       "    <tr>\n",
       "      <th>7</th>\n",
       "      <td>Team 8</td>\n",
       "      <td>1929</td>\n",
       "    </tr>\n",
       "    <tr>\n",
       "      <th>13</th>\n",
       "      <td>Team 14</td>\n",
       "      <td>1929</td>\n",
       "    </tr>\n",
       "    <tr>\n",
       "      <th>44</th>\n",
       "      <td>Team 45</td>\n",
       "      <td>1929</td>\n",
       "    </tr>\n",
       "    <tr>\n",
       "      <th>51</th>\n",
       "      <td>Team 52</td>\n",
       "      <td>1929</td>\n",
       "    </tr>\n",
       "    <tr>\n",
       "      <th>53</th>\n",
       "      <td>Team 54</td>\n",
       "      <td>1929</td>\n",
       "    </tr>\n",
       "  </tbody>\n",
       "</table>\n",
       "</div>"
      ],
      "text/plain": [
       "       Team  TeamLaunch\n",
       "0    Team 1        1929\n",
       "1    Team 2        1929\n",
       "2    Team 3        1929\n",
       "4    Team 5        1929\n",
       "6    Team 7        1929\n",
       "7    Team 8        1929\n",
       "13  Team 14        1929\n",
       "44  Team 45        1929\n",
       "51  Team 52        1929\n",
       "53  Team 54        1929"
      ]
     },
     "execution_count": 65,
     "metadata": {},
     "output_type": "execute_result"
    }
   ],
   "source": [
    "# To find Oldest teams\n",
    "\n",
    "ot = tlhp[['Team','TeamLaunch']]\n",
    "print('Oldest Teams are:-')\n",
    "print('Total =',len(ot[ot['TeamLaunch']==ot['TeamLaunch'].min()]))\n",
    "oldt = ot[ot['TeamLaunch']==ot['TeamLaunch'].min()]\n",
    "oldt"
   ]
  },
  {
   "cell_type": "code",
   "execution_count": 66,
   "metadata": {},
   "outputs": [
    {
     "name": "stdout",
     "output_type": "stream",
     "text": [
      "Newest Teams are:-\n",
      "Total = 1\n"
     ]
    },
    {
     "data": {
      "text/html": [
       "<div>\n",
       "<style scoped>\n",
       "    .dataframe tbody tr th:only-of-type {\n",
       "        vertical-align: middle;\n",
       "    }\n",
       "\n",
       "    .dataframe tbody tr th {\n",
       "        vertical-align: top;\n",
       "    }\n",
       "\n",
       "    .dataframe thead th {\n",
       "        text-align: right;\n",
       "    }\n",
       "</style>\n",
       "<table border=\"1\" class=\"dataframe\">\n",
       "  <thead>\n",
       "    <tr style=\"text-align: right;\">\n",
       "      <th></th>\n",
       "      <th>Team</th>\n",
       "      <th>TeamLaunch</th>\n",
       "    </tr>\n",
       "  </thead>\n",
       "  <tbody>\n",
       "    <tr>\n",
       "      <th>55</th>\n",
       "      <td>Team 56</td>\n",
       "      <td>2016</td>\n",
       "    </tr>\n",
       "  </tbody>\n",
       "</table>\n",
       "</div>"
      ],
      "text/plain": [
       "       Team  TeamLaunch\n",
       "55  Team 56        2016"
      ]
     },
     "execution_count": 66,
     "metadata": {},
     "output_type": "execute_result"
    }
   ],
   "source": [
    "# To find Newest Teams\n",
    "\n",
    "nt = tlhp[['Team','TeamLaunch']]\n",
    "print('Newest Teams are:-')\n",
    "print('Total =',len(nt[nt['TeamLaunch']==nt['TeamLaunch'].max()]))\n",
    "nt[nt['TeamLaunch']==nt['TeamLaunch'].max()]"
   ]
  },
  {
   "cell_type": "code",
   "execution_count": 67,
   "metadata": {},
   "outputs": [
    {
     "name": "stdout",
     "output_type": "stream",
     "text": [
      "Top 10 Newest Teams are:-\n"
     ]
    },
    {
     "data": {
      "text/html": [
       "<div>\n",
       "<style scoped>\n",
       "    .dataframe tbody tr th:only-of-type {\n",
       "        vertical-align: middle;\n",
       "    }\n",
       "\n",
       "    .dataframe tbody tr th {\n",
       "        vertical-align: top;\n",
       "    }\n",
       "\n",
       "    .dataframe thead th {\n",
       "        text-align: right;\n",
       "    }\n",
       "</style>\n",
       "<table border=\"1\" class=\"dataframe\">\n",
       "  <thead>\n",
       "    <tr style=\"text-align: right;\">\n",
       "      <th></th>\n",
       "      <th>Team</th>\n",
       "      <th>TeamLaunch</th>\n",
       "    </tr>\n",
       "  </thead>\n",
       "  <tbody>\n",
       "    <tr>\n",
       "      <th>55</th>\n",
       "      <td>Team 56</td>\n",
       "      <td>2016</td>\n",
       "    </tr>\n",
       "    <tr>\n",
       "      <th>43</th>\n",
       "      <td>Team 44</td>\n",
       "      <td>2014</td>\n",
       "    </tr>\n",
       "    <tr>\n",
       "      <th>56</th>\n",
       "      <td>Team 57</td>\n",
       "      <td>2009</td>\n",
       "    </tr>\n",
       "    <tr>\n",
       "      <th>36</th>\n",
       "      <td>Team 37</td>\n",
       "      <td>2007</td>\n",
       "    </tr>\n",
       "    <tr>\n",
       "      <th>24</th>\n",
       "      <td>Team 25</td>\n",
       "      <td>2004</td>\n",
       "    </tr>\n",
       "    <tr>\n",
       "      <th>42</th>\n",
       "      <td>Team 43</td>\n",
       "      <td>1999</td>\n",
       "    </tr>\n",
       "    <tr>\n",
       "      <th>20</th>\n",
       "      <td>Team 21</td>\n",
       "      <td>1998</td>\n",
       "    </tr>\n",
       "    <tr>\n",
       "      <th>47</th>\n",
       "      <td>Team 48</td>\n",
       "      <td>1996</td>\n",
       "    </tr>\n",
       "    <tr>\n",
       "      <th>48</th>\n",
       "      <td>Team 49</td>\n",
       "      <td>1995</td>\n",
       "    </tr>\n",
       "    <tr>\n",
       "      <th>38</th>\n",
       "      <td>Team 39</td>\n",
       "      <td>1994</td>\n",
       "    </tr>\n",
       "  </tbody>\n",
       "</table>\n",
       "</div>"
      ],
      "text/plain": [
       "       Team  TeamLaunch\n",
       "55  Team 56        2016\n",
       "43  Team 44        2014\n",
       "56  Team 57        2009\n",
       "36  Team 37        2007\n",
       "24  Team 25        2004\n",
       "42  Team 43        1999\n",
       "20  Team 21        1998\n",
       "47  Team 48        1996\n",
       "48  Team 49        1995\n",
       "38  Team 39        1994"
      ]
     },
     "execution_count": 67,
     "metadata": {},
     "output_type": "execute_result"
    }
   ],
   "source": [
    "# To find top 10 Newest Teams\n",
    "\n",
    "print('Top 10 Newest Teams are:-')\n",
    "nt.sort_values(by=['TeamLaunch'],ascending=False).head(10)"
   ]
  },
  {
   "cell_type": "code",
   "execution_count": 68,
   "metadata": {},
   "outputs": [
    {
     "name": "stdout",
     "output_type": "stream",
     "text": [
      "Teams who held Highest Position of 1:-\n",
      "Total = 9\n"
     ]
    },
    {
     "data": {
      "text/html": [
       "<div>\n",
       "<style scoped>\n",
       "    .dataframe tbody tr th:only-of-type {\n",
       "        vertical-align: middle;\n",
       "    }\n",
       "\n",
       "    .dataframe tbody tr th {\n",
       "        vertical-align: top;\n",
       "    }\n",
       "\n",
       "    .dataframe thead th {\n",
       "        text-align: right;\n",
       "    }\n",
       "</style>\n",
       "<table border=\"1\" class=\"dataframe\">\n",
       "  <thead>\n",
       "    <tr style=\"text-align: right;\">\n",
       "      <th></th>\n",
       "      <th>Team</th>\n",
       "      <th>HighestPositionHeld</th>\n",
       "    </tr>\n",
       "  </thead>\n",
       "  <tbody>\n",
       "    <tr>\n",
       "      <th>0</th>\n",
       "      <td>Team 1</td>\n",
       "      <td>1</td>\n",
       "    </tr>\n",
       "    <tr>\n",
       "      <th>1</th>\n",
       "      <td>Team 2</td>\n",
       "      <td>1</td>\n",
       "    </tr>\n",
       "    <tr>\n",
       "      <th>2</th>\n",
       "      <td>Team 3</td>\n",
       "      <td>1</td>\n",
       "    </tr>\n",
       "    <tr>\n",
       "      <th>3</th>\n",
       "      <td>Team 4</td>\n",
       "      <td>1</td>\n",
       "    </tr>\n",
       "    <tr>\n",
       "      <th>4</th>\n",
       "      <td>Team 5</td>\n",
       "      <td>1</td>\n",
       "    </tr>\n",
       "    <tr>\n",
       "      <th>5</th>\n",
       "      <td>Team 6</td>\n",
       "      <td>1</td>\n",
       "    </tr>\n",
       "    <tr>\n",
       "      <th>7</th>\n",
       "      <td>Team 8</td>\n",
       "      <td>1</td>\n",
       "    </tr>\n",
       "    <tr>\n",
       "      <th>9</th>\n",
       "      <td>Team 10</td>\n",
       "      <td>1</td>\n",
       "    </tr>\n",
       "    <tr>\n",
       "      <th>10</th>\n",
       "      <td>Team 11</td>\n",
       "      <td>1</td>\n",
       "    </tr>\n",
       "  </tbody>\n",
       "</table>\n",
       "</div>"
      ],
      "text/plain": [
       "       Team  HighestPositionHeld\n",
       "0    Team 1                    1\n",
       "1    Team 2                    1\n",
       "2    Team 3                    1\n",
       "3    Team 4                    1\n",
       "4    Team 5                    1\n",
       "5    Team 6                    1\n",
       "7    Team 8                    1\n",
       "9   Team 10                    1\n",
       "10  Team 11                    1"
      ]
     },
     "execution_count": 68,
     "metadata": {},
     "output_type": "execute_result"
    }
   ],
   "source": [
    "# To find teams who held Highest Position of 1\n",
    "\n",
    "hp = tlhp[['Team','HighestPositionHeld']]\n",
    "print('Teams who held Highest Position of 1:-')\n",
    "print('Total =',len(hp[hp['HighestPositionHeld']==hp['HighestPositionHeld'].min()]))\n",
    "hph = hp[hp['HighestPositionHeld']==hp['HighestPositionHeld'].min()]\n",
    "hph"
   ]
  },
  {
   "cell_type": "code",
   "execution_count": 69,
   "metadata": {},
   "outputs": [
    {
     "name": "stdout",
     "output_type": "stream",
     "text": [
      "Teams who held Highest Position of 2:-\n",
      "Total = 5\n"
     ]
    },
    {
     "data": {
      "text/html": [
       "<div>\n",
       "<style scoped>\n",
       "    .dataframe tbody tr th:only-of-type {\n",
       "        vertical-align: middle;\n",
       "    }\n",
       "\n",
       "    .dataframe tbody tr th {\n",
       "        vertical-align: top;\n",
       "    }\n",
       "\n",
       "    .dataframe thead th {\n",
       "        text-align: right;\n",
       "    }\n",
       "</style>\n",
       "<table border=\"1\" class=\"dataframe\">\n",
       "  <thead>\n",
       "    <tr style=\"text-align: right;\">\n",
       "      <th></th>\n",
       "      <th>Team</th>\n",
       "      <th>HighestPositionHeld</th>\n",
       "    </tr>\n",
       "  </thead>\n",
       "  <tbody>\n",
       "    <tr>\n",
       "      <th>8</th>\n",
       "      <td>Team 9</td>\n",
       "      <td>2</td>\n",
       "    </tr>\n",
       "    <tr>\n",
       "      <th>13</th>\n",
       "      <td>Team 14</td>\n",
       "      <td>2</td>\n",
       "    </tr>\n",
       "    <tr>\n",
       "      <th>14</th>\n",
       "      <td>Team 15</td>\n",
       "      <td>2</td>\n",
       "    </tr>\n",
       "    <tr>\n",
       "      <th>19</th>\n",
       "      <td>Team 20</td>\n",
       "      <td>2</td>\n",
       "    </tr>\n",
       "    <tr>\n",
       "      <th>20</th>\n",
       "      <td>Team 21</td>\n",
       "      <td>2</td>\n",
       "    </tr>\n",
       "  </tbody>\n",
       "</table>\n",
       "</div>"
      ],
      "text/plain": [
       "       Team  HighestPositionHeld\n",
       "8    Team 9                    2\n",
       "13  Team 14                    2\n",
       "14  Team 15                    2\n",
       "19  Team 20                    2\n",
       "20  Team 21                    2"
      ]
     },
     "execution_count": 69,
     "metadata": {},
     "output_type": "execute_result"
    }
   ],
   "source": [
    "# To find teams who held Highest Position of 2\n",
    "\n",
    "hp2 = tlhp[['Team','HighestPositionHeld']]\n",
    "print('Teams who held Highest Position of 2:-')\n",
    "print('Total =',len(hp2[hp2['HighestPositionHeld']==2]))\n",
    "hph2 = hp2[hp2['HighestPositionHeld']==2]\n",
    "hph2"
   ]
  },
  {
   "cell_type": "code",
   "execution_count": 70,
   "metadata": {},
   "outputs": [
    {
     "name": "stdout",
     "output_type": "stream",
     "text": [
      "Oldest teams with highest position of 1 held:-\n",
      "Total = 5\n"
     ]
    },
    {
     "data": {
      "text/html": [
       "<div>\n",
       "<style scoped>\n",
       "    .dataframe tbody tr th:only-of-type {\n",
       "        vertical-align: middle;\n",
       "    }\n",
       "\n",
       "    .dataframe tbody tr th {\n",
       "        vertical-align: top;\n",
       "    }\n",
       "\n",
       "    .dataframe thead th {\n",
       "        text-align: right;\n",
       "    }\n",
       "</style>\n",
       "<table border=\"1\" class=\"dataframe\">\n",
       "  <thead>\n",
       "    <tr style=\"text-align: right;\">\n",
       "      <th></th>\n",
       "      <th>Team</th>\n",
       "      <th>TeamLaunch</th>\n",
       "      <th>HighestPositionHeld</th>\n",
       "    </tr>\n",
       "  </thead>\n",
       "  <tbody>\n",
       "    <tr>\n",
       "      <th>0</th>\n",
       "      <td>Team 1</td>\n",
       "      <td>1929</td>\n",
       "      <td>1</td>\n",
       "    </tr>\n",
       "    <tr>\n",
       "      <th>1</th>\n",
       "      <td>Team 2</td>\n",
       "      <td>1929</td>\n",
       "      <td>1</td>\n",
       "    </tr>\n",
       "    <tr>\n",
       "      <th>2</th>\n",
       "      <td>Team 3</td>\n",
       "      <td>1929</td>\n",
       "      <td>1</td>\n",
       "    </tr>\n",
       "    <tr>\n",
       "      <th>3</th>\n",
       "      <td>Team 5</td>\n",
       "      <td>1929</td>\n",
       "      <td>1</td>\n",
       "    </tr>\n",
       "    <tr>\n",
       "      <th>4</th>\n",
       "      <td>Team 8</td>\n",
       "      <td>1929</td>\n",
       "      <td>1</td>\n",
       "    </tr>\n",
       "  </tbody>\n",
       "</table>\n",
       "</div>"
      ],
      "text/plain": [
       "     Team  TeamLaunch  HighestPositionHeld\n",
       "0  Team 1        1929                    1\n",
       "1  Team 2        1929                    1\n",
       "2  Team 3        1929                    1\n",
       "3  Team 5        1929                    1\n",
       "4  Team 8        1929                    1"
      ]
     },
     "execution_count": 70,
     "metadata": {},
     "output_type": "execute_result"
    }
   ],
   "source": [
    "# To find Oldest teams with highest position held\n",
    "\n",
    "print('Oldest teams with highest position of 1 held:-')\n",
    "othp = oldt.merge(hph)\n",
    "print('Total =',len(othp))\n",
    "othp"
   ]
  },
  {
   "cell_type": "code",
   "execution_count": 71,
   "metadata": {},
   "outputs": [
    {
     "name": "stdout",
     "output_type": "stream",
     "text": [
      "Plot Showing Highest Position Held vs Team Launch :-\n"
     ]
    },
    {
     "data": {
      "image/png": "[encoded data removed]",
      "text/plain": [
       "<Figure size 576x576 with 3 Axes>"
      ]
     },
     "metadata": {
      "needs_background": "light"
     },
     "output_type": "display_data"
    }
   ],
   "source": [
    "# To plot Joint plot showing Highest Position Held vs Team Launch of all teams\n",
    "\n",
    "print('Plot Showing Highest Position Held vs Team Launch :-')\n",
    "sns.jointplot(tlhp['HighestPositionHeld'],tlhp['TeamLaunch'],color='#9400D3',height=8);\n",
    "plt.show()"
   ]
  },
  {
   "cell_type": "markdown",
   "metadata": {},
   "source": [
    "*By observing above data we say,\n",
    "* *There are 10 oldest teams with launch date 1929 and 'Team 56' is the newest team launched on 2016.*\n",
    "* *There are 9 teams who held highest position of 1 and 5 teams who held highest position of 2.*\n",
    "* *There are 5 Oldest teams who heldd highest position of 1.*\n",
    "* *If company wants to oldest team with highest position held, then it can refer above table showing Oldest teams with highest position of 1 held.*"
   ]
  },
  {
   "cell_type": "markdown",
   "metadata": {},
   "source": [
    "***\n",
    "## <span style=\"color:#9400D3\">Analysing the Performance of Teams"
   ]
  },
  {
   "cell_type": "code",
   "execution_count": 72,
   "metadata": {},
   "outputs": [
    {
     "name": "stdout",
     "output_type": "stream",
     "text": [
      "Top 10 teams having high Winning Percentage and high Score Rates:-\n"
     ]
    },
    {
     "data": {
      "text/html": [
       "<div>\n",
       "<style scoped>\n",
       "    .dataframe tbody tr th:only-of-type {\n",
       "        vertical-align: middle;\n",
       "    }\n",
       "\n",
       "    .dataframe tbody tr th {\n",
       "        vertical-align: top;\n",
       "    }\n",
       "\n",
       "    .dataframe thead th {\n",
       "        text-align: right;\n",
       "    }\n",
       "</style>\n",
       "<table border=\"1\" class=\"dataframe\">\n",
       "  <thead>\n",
       "    <tr style=\"text-align: right;\">\n",
       "      <th></th>\n",
       "      <th>Team</th>\n",
       "      <th>Score Rate + Winning%</th>\n",
       "    </tr>\n",
       "  </thead>\n",
       "  <tbody>\n",
       "    <tr>\n",
       "      <th>0</th>\n",
       "      <td>Team 1</td>\n",
       "      <td>71.21</td>\n",
       "    </tr>\n",
       "    <tr>\n",
       "      <th>1</th>\n",
       "      <td>Team 2</td>\n",
       "      <td>69.15</td>\n",
       "    </tr>\n",
       "    <tr>\n",
       "      <th>2</th>\n",
       "      <td>Team 3</td>\n",
       "      <td>60.23</td>\n",
       "    </tr>\n",
       "    <tr>\n",
       "      <th>3</th>\n",
       "      <td>Team 4</td>\n",
       "      <td>57.39</td>\n",
       "    </tr>\n",
       "    <tr>\n",
       "      <th>4</th>\n",
       "      <td>Team 5</td>\n",
       "      <td>56.45</td>\n",
       "    </tr>\n",
       "    <tr>\n",
       "      <th>20</th>\n",
       "      <td>Team 21</td>\n",
       "      <td>55.99</td>\n",
       "    </tr>\n",
       "    <tr>\n",
       "      <th>5</th>\n",
       "      <td>Team 6</td>\n",
       "      <td>53.31</td>\n",
       "    </tr>\n",
       "    <tr>\n",
       "      <th>7</th>\n",
       "      <td>Team 8</td>\n",
       "      <td>51.19</td>\n",
       "    </tr>\n",
       "    <tr>\n",
       "      <th>10</th>\n",
       "      <td>Team 11</td>\n",
       "      <td>50.80</td>\n",
       "    </tr>\n",
       "    <tr>\n",
       "      <th>8</th>\n",
       "      <td>Team 9</td>\n",
       "      <td>49.35</td>\n",
       "    </tr>\n",
       "  </tbody>\n",
       "</table>\n",
       "</div>"
      ],
      "text/plain": [
       "       Team  Score Rate + Winning%\n",
       "0    Team 1                  71.21\n",
       "1    Team 2                  69.15\n",
       "2    Team 3                  60.23\n",
       "3    Team 4                  57.39\n",
       "4    Team 5                  56.45\n",
       "20  Team 21                  55.99\n",
       "5    Team 6                  53.31\n",
       "7    Team 8                  51.19\n",
       "10  Team 11                  50.80\n",
       "8    Team 9                  49.35"
      ]
     },
     "execution_count": 72,
     "metadata": {},
     "output_type": "execute_result"
    }
   ],
   "source": [
    "# Top 10 teams having high Winning Percentage and high Score Rate\n",
    "\n",
    "t5_win_score = win_team['Winning_Percentage(%)']+srt['Score Rate']\n",
    "tws = pd.DataFrame(t5_win_score,columns=['Score Rate + Winning%'])\n",
    "team = pd.DataFrame(data['Team'])\n",
    "t5_win_score = team.join(tws)\n",
    "t5_win_score = t5_win_score.sort_values(by='Score Rate + Winning%',ascending=False)\n",
    "print('Top 10 teams having high Winning Percentage and high Score Rates:-')\n",
    "t5_win_score.head(10)"
   ]
  },
  {
   "cell_type": "code",
   "execution_count": 73,
   "metadata": {},
   "outputs": [
    {
     "name": "stdout",
     "output_type": "stream",
     "text": [
      "Top 10 teams having low Winning Percentage and low Score Rates:-\n"
     ]
    },
    {
     "data": {
      "text/html": [
       "<div>\n",
       "<style scoped>\n",
       "    .dataframe tbody tr th:only-of-type {\n",
       "        vertical-align: middle;\n",
       "    }\n",
       "\n",
       "    .dataframe tbody tr th {\n",
       "        vertical-align: top;\n",
       "    }\n",
       "\n",
       "    .dataframe thead th {\n",
       "        text-align: right;\n",
       "    }\n",
       "</style>\n",
       "<table border=\"1\" class=\"dataframe\">\n",
       "  <thead>\n",
       "    <tr style=\"text-align: right;\">\n",
       "      <th></th>\n",
       "      <th>Team</th>\n",
       "      <th>Score Rate + Winning%</th>\n",
       "    </tr>\n",
       "  </thead>\n",
       "  <tbody>\n",
       "    <tr>\n",
       "      <th>59</th>\n",
       "      <td>Team 60</td>\n",
       "      <td>23.80</td>\n",
       "    </tr>\n",
       "    <tr>\n",
       "      <th>54</th>\n",
       "      <td>Team 55</td>\n",
       "      <td>30.00</td>\n",
       "    </tr>\n",
       "    <tr>\n",
       "      <th>58</th>\n",
       "      <td>Team 59</td>\n",
       "      <td>32.30</td>\n",
       "    </tr>\n",
       "    <tr>\n",
       "      <th>56</th>\n",
       "      <td>Team 57</td>\n",
       "      <td>35.10</td>\n",
       "    </tr>\n",
       "    <tr>\n",
       "      <th>49</th>\n",
       "      <td>Team 50</td>\n",
       "      <td>35.89</td>\n",
       "    </tr>\n",
       "  </tbody>\n",
       "</table>\n",
       "</div>"
      ],
      "text/plain": [
       "       Team  Score Rate + Winning%\n",
       "59  Team 60                  23.80\n",
       "54  Team 55                  30.00\n",
       "58  Team 59                  32.30\n",
       "56  Team 57                  35.10\n",
       "49  Team 50                  35.89"
      ]
     },
     "execution_count": 73,
     "metadata": {},
     "output_type": "execute_result"
    }
   ],
   "source": [
    "# Top 5 teams having Low Winning Percentage and Low Score Rate\n",
    "\n",
    "t5_win_score = win_team['Winning_Percentage(%)']+srt['Score Rate']\n",
    "tws = pd.DataFrame(t5_win_score,columns=['Score Rate + Winning%'])\n",
    "team = pd.DataFrame(data['Team'])\n",
    "t5_win_score = team.join(tws)\n",
    "t5_win_score = t5_win_score.sort_values(by='Score Rate + Winning%')\n",
    "print('Top 10 teams having low Winning Percentage and low Score Rates:-')\n",
    "t5_win_score.head()"
   ]
  },
  {
   "cell_type": "code",
   "execution_count": 74,
   "metadata": {},
   "outputs": [
    {
     "name": "stdout",
     "output_type": "stream",
     "text": [
      "Plot showing Winning Percentage VS Score Rates:-\n"
     ]
    },
    {
     "data": {
      "image/png": "[encoded data removed]",
      "text/plain": [
       "<Figure size 864x432 with 1 Axes>"
      ]
     },
     "metadata": {
      "needs_background": "light"
     },
     "output_type": "display_data"
    }
   ],
   "source": [
    "# Plot showing Winning Percentage VS Score Rates of all Teams\n",
    "\n",
    "print('Plot showing Winning Percentage VS Score Rates:-')\n",
    "plt.figure(figsize=(12,6))\n",
    "plt.plot(srt['Score Rate'],win_team['Winning_Percentage(%)'], 'o',color='#9400D3');\n",
    "m, b = np.polyfit(srt['Score Rate'],win_team['Winning_Percentage(%)'], 1)\n",
    "plt.plot(srt['Score Rate'], m*srt['Score Rate'] + b,color='red');\n",
    "plt.xlabel('Score Rate')\n",
    "plt.ylabel('Winning_Percentage(%)')\n",
    "plt.title('Winning Percentage VS Score Rate')\n",
    "plt.show()"
   ]
  },
  {
   "cell_type": "code",
   "execution_count": 75,
   "metadata": {},
   "outputs": [
    {
     "name": "stdout",
     "output_type": "stream",
     "text": [
      "Top 10 teams with high experience and high Winning Percentage:-\n"
     ]
    },
    {
     "data": {
      "text/html": [
       "<div>\n",
       "<style scoped>\n",
       "    .dataframe tbody tr th:only-of-type {\n",
       "        vertical-align: middle;\n",
       "    }\n",
       "\n",
       "    .dataframe tbody tr th {\n",
       "        vertical-align: top;\n",
       "    }\n",
       "\n",
       "    .dataframe thead th {\n",
       "        text-align: right;\n",
       "    }\n",
       "</style>\n",
       "<table border=\"1\" class=\"dataframe\">\n",
       "  <thead>\n",
       "    <tr style=\"text-align: right;\">\n",
       "      <th></th>\n",
       "      <th>Team</th>\n",
       "      <th>Experience + Winning%</th>\n",
       "    </tr>\n",
       "  </thead>\n",
       "  <tbody>\n",
       "    <tr>\n",
       "      <th>0</th>\n",
       "      <td>Team 1</td>\n",
       "      <td>2917.62</td>\n",
       "    </tr>\n",
       "    <tr>\n",
       "      <th>1</th>\n",
       "      <td>Team 2</td>\n",
       "      <td>2915.61</td>\n",
       "    </tr>\n",
       "    <tr>\n",
       "      <th>4</th>\n",
       "      <td>Team 5</td>\n",
       "      <td>2903.23</td>\n",
       "    </tr>\n",
       "    <tr>\n",
       "      <th>3</th>\n",
       "      <td>Team 4</td>\n",
       "      <td>2802.12</td>\n",
       "    </tr>\n",
       "    <tr>\n",
       "      <th>6</th>\n",
       "      <td>Team 7</td>\n",
       "      <td>2755.68</td>\n",
       "    </tr>\n",
       "    <tr>\n",
       "      <th>2</th>\n",
       "      <td>Team 3</td>\n",
       "      <td>2752.91</td>\n",
       "    </tr>\n",
       "    <tr>\n",
       "      <th>5</th>\n",
       "      <td>Team 6</td>\n",
       "      <td>2533.14</td>\n",
       "    </tr>\n",
       "    <tr>\n",
       "      <th>7</th>\n",
       "      <td>Team 8</td>\n",
       "      <td>2422.07</td>\n",
       "    </tr>\n",
       "    <tr>\n",
       "      <th>8</th>\n",
       "      <td>Team 9</td>\n",
       "      <td>2092.29</td>\n",
       "    </tr>\n",
       "    <tr>\n",
       "      <th>9</th>\n",
       "      <td>Team 10</td>\n",
       "      <td>1826.80</td>\n",
       "    </tr>\n",
       "  </tbody>\n",
       "</table>\n",
       "</div>"
      ],
      "text/plain": [
       "      Team  Experience + Winning%\n",
       "0   Team 1                2917.62\n",
       "1   Team 2                2915.61\n",
       "4   Team 5                2903.23\n",
       "3   Team 4                2802.12\n",
       "6   Team 7                2755.68\n",
       "2   Team 3                2752.91\n",
       "5   Team 6                2533.14\n",
       "7   Team 8                2422.07\n",
       "8   Team 9                2092.29\n",
       "9  Team 10                1826.80"
      ]
     },
     "execution_count": 75,
     "metadata": {},
     "output_type": "execute_result"
    }
   ],
   "source": [
    "# Top 10 teams with high experience and high Winning Percentage\n",
    "\n",
    "t5_exp_wp = exp_team['Experience']+win_team['Winning_Percentage(%)']\n",
    "tew = pd.DataFrame(t5_exp_wp,columns=['Experience + Winning%'])\n",
    "team = pd.DataFrame(data['Team'])\n",
    "t5_exp_wp = team.join(tew)\n",
    "t5_exp_wp = t5_exp_wp.sort_values(by='Experience + Winning%',ascending=False)\n",
    "print('Top 10 teams with high experience and high Winning Percentage:-')\n",
    "t5_exp_wp.head(10)"
   ]
  },
  {
   "cell_type": "code",
   "execution_count": 76,
   "metadata": {},
   "outputs": [
    {
     "name": "stdout",
     "output_type": "stream",
     "text": [
      "Top 5 teams with Low experience and Low Winning Percentage:-\n"
     ]
    },
    {
     "data": {
      "text/html": [
       "<div>\n",
       "<style scoped>\n",
       "    .dataframe tbody tr th:only-of-type {\n",
       "        vertical-align: middle;\n",
       "    }\n",
       "\n",
       "    .dataframe tbody tr th {\n",
       "        vertical-align: top;\n",
       "    }\n",
       "\n",
       "    .dataframe thead th {\n",
       "        text-align: right;\n",
       "    }\n",
       "</style>\n",
       "<table border=\"1\" class=\"dataframe\">\n",
       "  <thead>\n",
       "    <tr style=\"text-align: right;\">\n",
       "      <th></th>\n",
       "      <th>Team</th>\n",
       "      <th>Experience + Winning%</th>\n",
       "    </tr>\n",
       "  </thead>\n",
       "  <tbody>\n",
       "    <tr>\n",
       "      <th>59</th>\n",
       "      <td>Team 60</td>\n",
       "      <td>54.33</td>\n",
       "    </tr>\n",
       "    <tr>\n",
       "      <th>58</th>\n",
       "      <td>Team 59</td>\n",
       "      <td>62.67</td>\n",
       "    </tr>\n",
       "    <tr>\n",
       "      <th>57</th>\n",
       "      <td>Team 58</td>\n",
       "      <td>67.67</td>\n",
       "    </tr>\n",
       "    <tr>\n",
       "      <th>56</th>\n",
       "      <td>Team 57</td>\n",
       "      <td>73.21</td>\n",
       "    </tr>\n",
       "    <tr>\n",
       "      <th>55</th>\n",
       "      <td>Team 56</td>\n",
       "      <td>74.53</td>\n",
       "    </tr>\n",
       "  </tbody>\n",
       "</table>\n",
       "</div>"
      ],
      "text/plain": [
       "       Team  Experience + Winning%\n",
       "59  Team 60                  54.33\n",
       "58  Team 59                  62.67\n",
       "57  Team 58                  67.67\n",
       "56  Team 57                  73.21\n",
       "55  Team 56                  74.53"
      ]
     },
     "execution_count": 76,
     "metadata": {},
     "output_type": "execute_result"
    }
   ],
   "source": [
    "# Top 5 teams with Low experience and Low Winning Percentage\n",
    "\n",
    "t5_exp_wp = exp_team['Experience']+win_team['Winning_Percentage(%)']\n",
    "tew = pd.DataFrame(t5_exp_wp,columns=['Experience + Winning%'])\n",
    "team = pd.DataFrame(data['Team'])\n",
    "t5_exp_wp = team.join(tew)\n",
    "t5_exp_wp = t5_exp_wp.sort_values(by='Experience + Winning%')\n",
    "print('Top 5 teams with Low experience and Low Winning Percentage:-')\n",
    "t5_exp_wp.head()"
   ]
  },
  {
   "cell_type": "code",
   "execution_count": 77,
   "metadata": {},
   "outputs": [
    {
     "name": "stdout",
     "output_type": "stream",
     "text": [
      "Plot showing Winning Percentage VS Experience:-\n"
     ]
    },
    {
     "data": {
      "image/png": "[encoded data removed]",
      "text/plain": [
       "<Figure size 864x432 with 1 Axes>"
      ]
     },
     "metadata": {
      "needs_background": "light"
     },
     "output_type": "display_data"
    }
   ],
   "source": [
    "# Plot showing Winning Percentage VS Experience of all Teams\n",
    "\n",
    "print('Plot showing Winning Percentage VS Experience:-')\n",
    "plt.figure(figsize=(12,6))\n",
    "plt.plot(exp_team['Experience'],win_team['Winning_Percentage(%)'], 'o',color='#9400D3');\n",
    "m, b = np.polyfit(exp_team['Experience'],win_team['Winning_Percentage(%)'], 1)\n",
    "plt.plot(exp_team['Experience'], m*exp_team['Experience'] + b,color='red');\n",
    "plt.xlabel('Experience')\n",
    "plt.ylabel('Winning_Percentage(%)')\n",
    "plt.title('Winning Percentage VS Experience')\n",
    "plt.show()"
   ]
  },
  {
   "cell_type": "code",
   "execution_count": 78,
   "metadata": {},
   "outputs": [
    {
     "name": "stdout",
     "output_type": "stream",
     "text": [
      "Top 10 teams with high Rate of Basket Scored and high Winning Percentage:-\n"
     ]
    },
    {
     "data": {
      "text/html": [
       "<div>\n",
       "<style scoped>\n",
       "    .dataframe tbody tr th:only-of-type {\n",
       "        vertical-align: middle;\n",
       "    }\n",
       "\n",
       "    .dataframe tbody tr th {\n",
       "        vertical-align: top;\n",
       "    }\n",
       "\n",
       "    .dataframe thead th {\n",
       "        text-align: right;\n",
       "    }\n",
       "</style>\n",
       "<table border=\"1\" class=\"dataframe\">\n",
       "  <thead>\n",
       "    <tr style=\"text-align: right;\">\n",
       "      <th></th>\n",
       "      <th>Team</th>\n",
       "      <th>Basket Rate * Winning%</th>\n",
       "    </tr>\n",
       "  </thead>\n",
       "  <tbody>\n",
       "    <tr>\n",
       "      <th>0</th>\n",
       "      <td>Team 1</td>\n",
       "      <td>70.73</td>\n",
       "    </tr>\n",
       "    <tr>\n",
       "      <th>1</th>\n",
       "      <td>Team 2</td>\n",
       "      <td>68.22</td>\n",
       "    </tr>\n",
       "    <tr>\n",
       "      <th>2</th>\n",
       "      <td>Team 3</td>\n",
       "      <td>27.63</td>\n",
       "    </tr>\n",
       "    <tr>\n",
       "      <th>3</th>\n",
       "      <td>Team 4</td>\n",
       "      <td>19.59</td>\n",
       "    </tr>\n",
       "    <tr>\n",
       "      <th>4</th>\n",
       "      <td>Team 5</td>\n",
       "      <td>18.61</td>\n",
       "    </tr>\n",
       "    <tr>\n",
       "      <th>20</th>\n",
       "      <td>Team 21</td>\n",
       "      <td>8.66</td>\n",
       "    </tr>\n",
       "    <tr>\n",
       "      <th>5</th>\n",
       "      <td>Team 6</td>\n",
       "      <td>6.62</td>\n",
       "    </tr>\n",
       "    <tr>\n",
       "      <th>7</th>\n",
       "      <td>Team 8</td>\n",
       "      <td>-0.05</td>\n",
       "    </tr>\n",
       "    <tr>\n",
       "      <th>8</th>\n",
       "      <td>Team 9</td>\n",
       "      <td>-4.01</td>\n",
       "    </tr>\n",
       "    <tr>\n",
       "      <th>10</th>\n",
       "      <td>Team 11</td>\n",
       "      <td>-4.42</td>\n",
       "    </tr>\n",
       "  </tbody>\n",
       "</table>\n",
       "</div>"
      ],
      "text/plain": [
       "       Team  Basket Rate * Winning%\n",
       "0    Team 1                   70.73\n",
       "1    Team 2                   68.22\n",
       "2    Team 3                   27.63\n",
       "3    Team 4                   19.59\n",
       "4    Team 5                   18.61\n",
       "20  Team 21                    8.66\n",
       "5    Team 6                    6.62\n",
       "7    Team 8                   -0.05\n",
       "8    Team 9                   -4.01\n",
       "10  Team 11                   -4.42"
      ]
     },
     "execution_count": 78,
     "metadata": {},
     "output_type": "execute_result"
    }
   ],
   "source": [
    "# Top 10 teams with high Rate of Basket Scored and high Winning Percentage\n",
    "\n",
    "t5_rb_w = rp_team['Rate of Basket Scored']*win_team['Winning_Percentage(%)']\n",
    "trw = pd.DataFrame(t5_rb_w,columns=['Basket Rate * Winning%'])\n",
    "team = pd.DataFrame(data['Team'])\n",
    "t5_rb_w = team.join(trw)\n",
    "t5_rb_w = round(t5_rb_w.sort_values(by='Basket Rate * Winning%',ascending=False),2)\n",
    "print('Top 10 teams with high Rate of Basket Scored and high Winning Percentage:-')\n",
    "t5_rb_w.head(10)"
   ]
  },
  {
   "cell_type": "code",
   "execution_count": 79,
   "metadata": {},
   "outputs": [
    {
     "name": "stdout",
     "output_type": "stream",
     "text": [
      "Top 5 teams with Low Rate of Basket Scored and Low Winning Percentage:-\n"
     ]
    },
    {
     "data": {
      "text/html": [
       "<div>\n",
       "<style scoped>\n",
       "    .dataframe tbody tr th:only-of-type {\n",
       "        vertical-align: middle;\n",
       "    }\n",
       "\n",
       "    .dataframe tbody tr th {\n",
       "        vertical-align: top;\n",
       "    }\n",
       "\n",
       "    .dataframe thead th {\n",
       "        text-align: right;\n",
       "    }\n",
       "</style>\n",
       "<table border=\"1\" class=\"dataframe\">\n",
       "  <thead>\n",
       "    <tr style=\"text-align: right;\">\n",
       "      <th></th>\n",
       "      <th>Team</th>\n",
       "      <th>Basket Rate * Winning%</th>\n",
       "    </tr>\n",
       "  </thead>\n",
       "  <tbody>\n",
       "    <tr>\n",
       "      <th>54</th>\n",
       "      <td>Team 55</td>\n",
       "      <td>-48.44</td>\n",
       "    </tr>\n",
       "    <tr>\n",
       "      <th>58</th>\n",
       "      <td>Team 59</td>\n",
       "      <td>-35.88</td>\n",
       "    </tr>\n",
       "    <tr>\n",
       "      <th>46</th>\n",
       "      <td>Team 47</td>\n",
       "      <td>-35.59</td>\n",
       "    </tr>\n",
       "    <tr>\n",
       "      <th>49</th>\n",
       "      <td>Team 50</td>\n",
       "      <td>-34.87</td>\n",
       "    </tr>\n",
       "    <tr>\n",
       "      <th>50</th>\n",
       "      <td>Team 51</td>\n",
       "      <td>-27.17</td>\n",
       "    </tr>\n",
       "  </tbody>\n",
       "</table>\n",
       "</div>"
      ],
      "text/plain": [
       "       Team  Basket Rate * Winning%\n",
       "54  Team 55                  -48.44\n",
       "58  Team 59                  -35.88\n",
       "46  Team 47                  -35.59\n",
       "49  Team 50                  -34.87\n",
       "50  Team 51                  -27.17"
      ]
     },
     "execution_count": 79,
     "metadata": {},
     "output_type": "execute_result"
    }
   ],
   "source": [
    "# Top 5 teams with Low Rate of Basket Scored and Low Winning Percentage\n",
    "\n",
    "t5_rb_w = rp_team['Rate of Basket Scored']*win_team['Winning_Percentage(%)']\n",
    "trw = pd.DataFrame(t5_rb_w,columns=['Basket Rate * Winning%'])\n",
    "team = pd.DataFrame(data['Team'])\n",
    "t5_rb_w = team.join(trw)\n",
    "t5_rb_w = round(t5_rb_w.sort_values(by='Basket Rate * Winning%'),2)\n",
    "print('Top 5 teams with Low Rate of Basket Scored and Low Winning Percentage:-')\n",
    "t5_rb_w.head()"
   ]
  },
  {
   "cell_type": "code",
   "execution_count": 80,
   "metadata": {},
   "outputs": [
    {
     "name": "stdout",
     "output_type": "stream",
     "text": [
      "Plot showing Rate of Basket Scored VS Winning Percentage:-\n"
     ]
    },
    {
     "data": {
      "image/png": "[encoded data removed]",
      "text/plain": [
       "<Figure size 864x432 with 1 Axes>"
      ]
     },
     "metadata": {
      "needs_background": "light"
     },
     "output_type": "display_data"
    }
   ],
   "source": [
    "# Plot showing Rate of Basket Scored VS Winning Percentage of all Teams\n",
    "\n",
    "print('Plot showing Rate of Basket Scored VS Winning Percentage:-')\n",
    "plt.figure(figsize=(12,6))\n",
    "plt.plot(rp_team['Rate of Basket Scored'],win_team['Winning_Percentage(%)'], 'o',color='#9400D3');\n",
    "m, b = np.polyfit(rp_team['Rate of Basket Scored'],win_team['Winning_Percentage(%)'], 1)\n",
    "plt.plot(rp_team['Rate of Basket Scored'], m*rp_team['Rate of Basket Scored'] + b,color='red');\n",
    "plt.xlabel('Rate of Basket Scored')\n",
    "plt.ylabel('Winning_Percentage(%)')\n",
    "plt.title('Rate of Basket Scored VS Winning Percentage')\n",
    "plt.show()"
   ]
  },
  {
   "cell_type": "markdown",
   "metadata": {},
   "source": [
    "*By observing above data we can say,*\n",
    "* *Plots show linear relationship between different categories.*\n",
    "* *Company can select teams based on high Winning Percentage and high Score Rate.*\n",
    "* *Company can choose teams based on high Experience with high Winning Percentage.*\n",
    "* *Company can look for teams who have high Rate of Basket Scored with high Winning Percentage.*"
   ]
  },
  {
   "cell_type": "markdown",
   "metadata": {},
   "source": [
    "***\n",
    "## <span style=\"color:#9400D3\">Know the Best and the Worst Teams Based on Overall Performance\n",
    "    \n",
    " Overall Performance is calculated based on Team's Performance in the Game. Factors that are considered are as follows:-\n",
    "    \n",
    "   * Score Rate\n",
    "   * Winning Percentage\n",
    "   * Rate of Basket Scored\n",
    "   * Won Tournament Championship\n",
    "   * Stood as Runner-up in Tournament Championship\n",
    "    \n",
    "Based on these factors we can know which team had performed well and which not."
   ]
  },
  {
   "cell_type": "code",
   "execution_count": 81,
   "metadata": {},
   "outputs": [
    {
     "name": "stdout",
     "output_type": "stream",
     "text": [
      "Top 10 Best Teams Based on Overall Performance:-\n"
     ]
    },
    {
     "data": {
      "text/html": [
       "<div>\n",
       "<style scoped>\n",
       "    .dataframe tbody tr th:only-of-type {\n",
       "        vertical-align: middle;\n",
       "    }\n",
       "\n",
       "    .dataframe tbody tr th {\n",
       "        vertical-align: top;\n",
       "    }\n",
       "\n",
       "    .dataframe thead th {\n",
       "        text-align: right;\n",
       "    }\n",
       "</style>\n",
       "<table border=\"1\" class=\"dataframe\">\n",
       "  <thead>\n",
       "    <tr style=\"text-align: right;\">\n",
       "      <th></th>\n",
       "      <th>Team</th>\n",
       "      <th>Tournament</th>\n",
       "      <th>Score</th>\n",
       "      <th>PlayedGames</th>\n",
       "      <th>WonGames</th>\n",
       "      <th>DrawnGames</th>\n",
       "      <th>LostGames</th>\n",
       "      <th>BasketScored</th>\n",
       "      <th>BasketGiven</th>\n",
       "      <th>TournamentChampion</th>\n",
       "      <th>Runner-up</th>\n",
       "      <th>TeamLaunch</th>\n",
       "      <th>HighestPositionHeld</th>\n",
       "      <th>Overall Performance</th>\n",
       "    </tr>\n",
       "  </thead>\n",
       "  <tbody>\n",
       "    <tr>\n",
       "      <th>0</th>\n",
       "      <td>Team 1</td>\n",
       "      <td>86</td>\n",
       "      <td>4385</td>\n",
       "      <td>2762</td>\n",
       "      <td>1647</td>\n",
       "      <td>552</td>\n",
       "      <td>563</td>\n",
       "      <td>5947</td>\n",
       "      <td>3140</td>\n",
       "      <td>33</td>\n",
       "      <td>23</td>\n",
       "      <td>1929</td>\n",
       "      <td>1</td>\n",
       "      <td>128.23</td>\n",
       "    </tr>\n",
       "    <tr>\n",
       "      <th>1</th>\n",
       "      <td>Team 2</td>\n",
       "      <td>86</td>\n",
       "      <td>4262</td>\n",
       "      <td>2762</td>\n",
       "      <td>1581</td>\n",
       "      <td>573</td>\n",
       "      <td>608</td>\n",
       "      <td>5900</td>\n",
       "      <td>3114</td>\n",
       "      <td>25</td>\n",
       "      <td>25</td>\n",
       "      <td>1929</td>\n",
       "      <td>1</td>\n",
       "      <td>120.16</td>\n",
       "    </tr>\n",
       "    <tr>\n",
       "      <th>2</th>\n",
       "      <td>Team 3</td>\n",
       "      <td>80</td>\n",
       "      <td>3442</td>\n",
       "      <td>2614</td>\n",
       "      <td>1241</td>\n",
       "      <td>598</td>\n",
       "      <td>775</td>\n",
       "      <td>4534</td>\n",
       "      <td>3309</td>\n",
       "      <td>10</td>\n",
       "      <td>8</td>\n",
       "      <td>1929</td>\n",
       "      <td>1</td>\n",
       "      <td>78.70</td>\n",
       "    </tr>\n",
       "    <tr>\n",
       "      <th>4</th>\n",
       "      <td>Team 5</td>\n",
       "      <td>86</td>\n",
       "      <td>3368</td>\n",
       "      <td>2762</td>\n",
       "      <td>1209</td>\n",
       "      <td>633</td>\n",
       "      <td>920</td>\n",
       "      <td>4631</td>\n",
       "      <td>3700</td>\n",
       "      <td>8</td>\n",
       "      <td>7</td>\n",
       "      <td>1929</td>\n",
       "      <td>1</td>\n",
       "      <td>71.79</td>\n",
       "    </tr>\n",
       "    <tr>\n",
       "      <th>3</th>\n",
       "      <td>Team 4</td>\n",
       "      <td>82</td>\n",
       "      <td>3386</td>\n",
       "      <td>2664</td>\n",
       "      <td>1187</td>\n",
       "      <td>616</td>\n",
       "      <td>861</td>\n",
       "      <td>4398</td>\n",
       "      <td>3469</td>\n",
       "      <td>6</td>\n",
       "      <td>6</td>\n",
       "      <td>1931</td>\n",
       "      <td>1</td>\n",
       "      <td>69.74</td>\n",
       "    </tr>\n",
       "    <tr>\n",
       "      <th>5</th>\n",
       "      <td>Team 6</td>\n",
       "      <td>73</td>\n",
       "      <td>2819</td>\n",
       "      <td>2408</td>\n",
       "      <td>990</td>\n",
       "      <td>531</td>\n",
       "      <td>887</td>\n",
       "      <td>3680</td>\n",
       "      <td>3373</td>\n",
       "      <td>1</td>\n",
       "      <td>4</td>\n",
       "      <td>1934</td>\n",
       "      <td>1</td>\n",
       "      <td>58.44</td>\n",
       "    </tr>\n",
       "    <tr>\n",
       "      <th>20</th>\n",
       "      <td>Team 21</td>\n",
       "      <td>17</td>\n",
       "      <td>970</td>\n",
       "      <td>646</td>\n",
       "      <td>266</td>\n",
       "      <td>172</td>\n",
       "      <td>208</td>\n",
       "      <td>892</td>\n",
       "      <td>789</td>\n",
       "      <td>0</td>\n",
       "      <td>1</td>\n",
       "      <td>1998</td>\n",
       "      <td>2</td>\n",
       "      <td>57.15</td>\n",
       "    </tr>\n",
       "    <tr>\n",
       "      <th>10</th>\n",
       "      <td>Team 11</td>\n",
       "      <td>45</td>\n",
       "      <td>1814</td>\n",
       "      <td>1530</td>\n",
       "      <td>563</td>\n",
       "      <td>392</td>\n",
       "      <td>575</td>\n",
       "      <td>2052</td>\n",
       "      <td>2188</td>\n",
       "      <td>1</td>\n",
       "      <td>5</td>\n",
       "      <td>1941</td>\n",
       "      <td>1</td>\n",
       "      <td>56.71</td>\n",
       "    </tr>\n",
       "    <tr>\n",
       "      <th>7</th>\n",
       "      <td>Team 8</td>\n",
       "      <td>70</td>\n",
       "      <td>2573</td>\n",
       "      <td>2302</td>\n",
       "      <td>864</td>\n",
       "      <td>577</td>\n",
       "      <td>861</td>\n",
       "      <td>3228</td>\n",
       "      <td>3230</td>\n",
       "      <td>2</td>\n",
       "      <td>3</td>\n",
       "      <td>1929</td>\n",
       "      <td>1</td>\n",
       "      <td>56.19</td>\n",
       "    </tr>\n",
       "    <tr>\n",
       "      <th>8</th>\n",
       "      <td>Team 9</td>\n",
       "      <td>58</td>\n",
       "      <td>2109</td>\n",
       "      <td>1986</td>\n",
       "      <td>698</td>\n",
       "      <td>522</td>\n",
       "      <td>766</td>\n",
       "      <td>2683</td>\n",
       "      <td>2847</td>\n",
       "      <td>0</td>\n",
       "      <td>1</td>\n",
       "      <td>1939</td>\n",
       "      <td>2</td>\n",
       "      <td>50.27</td>\n",
       "    </tr>\n",
       "  </tbody>\n",
       "</table>\n",
       "</div>"
      ],
      "text/plain": [
       "       Team  Tournament  Score  PlayedGames  WonGames  DrawnGames  LostGames  \\\n",
       "0    Team 1          86   4385         2762      1647         552        563   \n",
       "1    Team 2          86   4262         2762      1581         573        608   \n",
       "2    Team 3          80   3442         2614      1241         598        775   \n",
       "4    Team 5          86   3368         2762      1209         633        920   \n",
       "3    Team 4          82   3386         2664      1187         616        861   \n",
       "5    Team 6          73   2819         2408       990         531        887   \n",
       "20  Team 21          17    970          646       266         172        208   \n",
       "10  Team 11          45   1814         1530       563         392        575   \n",
       "7    Team 8          70   2573         2302       864         577        861   \n",
       "8    Team 9          58   2109         1986       698         522        766   \n",
       "\n",
       "    BasketScored  BasketGiven  TournamentChampion  Runner-up  TeamLaunch  \\\n",
       "0           5947         3140                  33         23        1929   \n",
       "1           5900         3114                  25         25        1929   \n",
       "2           4534         3309                  10          8        1929   \n",
       "4           4631         3700                   8          7        1929   \n",
       "3           4398         3469                   6          6        1931   \n",
       "5           3680         3373                   1          4        1934   \n",
       "20           892          789                   0          1        1998   \n",
       "10          2052         2188                   1          5        1941   \n",
       "7           3228         3230                   2          3        1929   \n",
       "8           2683         2847                   0          1        1939   \n",
       "\n",
       "    HighestPositionHeld  Overall Performance  \n",
       "0                     1               128.23  \n",
       "1                     1               120.16  \n",
       "2                     1                78.70  \n",
       "4                     1                71.79  \n",
       "3                     1                69.74  \n",
       "5                     1                58.44  \n",
       "20                    2                57.15  \n",
       "10                    1                56.71  \n",
       "7                     1                56.19  \n",
       "8                     2                50.27  "
      ]
     },
     "execution_count": 81,
     "metadata": {},
     "output_type": "execute_result"
    }
   ],
   "source": [
    "# Top 10 Best Teams Based on Overall Performance\n",
    "\n",
    "t10_best = (srt['Score Rate']+rp_team['Rate of Basket Scored']+win_team['Winning_Percentage(%)']+data['TournamentChampion']+data['Runner-up'])    \n",
    "t10 = pd.DataFrame(t10_best,columns=['Overall Performance'])\n",
    "t_best = data.join(t10)\n",
    "t10_best = round(t_best.sort_values(by='Overall Performance',ascending=False),2)\n",
    "print('Top 10 Best Teams Based on Overall Performance:-')\n",
    "t10_best.head(10)"
   ]
  },
  {
   "cell_type": "code",
   "execution_count": 82,
   "metadata": {},
   "outputs": [
    {
     "name": "stdout",
     "output_type": "stream",
     "text": [
      "Best Team based based on overall performance:-\n"
     ]
    },
    {
     "data": {
      "text/html": [
       "<div>\n",
       "<style scoped>\n",
       "    .dataframe tbody tr th:only-of-type {\n",
       "        vertical-align: middle;\n",
       "    }\n",
       "\n",
       "    .dataframe tbody tr th {\n",
       "        vertical-align: top;\n",
       "    }\n",
       "\n",
       "    .dataframe thead th {\n",
       "        text-align: right;\n",
       "    }\n",
       "</style>\n",
       "<table border=\"1\" class=\"dataframe\">\n",
       "  <thead>\n",
       "    <tr style=\"text-align: right;\">\n",
       "      <th></th>\n",
       "      <th>Team</th>\n",
       "      <th>Tournament</th>\n",
       "      <th>Score</th>\n",
       "      <th>PlayedGames</th>\n",
       "      <th>WonGames</th>\n",
       "      <th>DrawnGames</th>\n",
       "      <th>LostGames</th>\n",
       "      <th>BasketScored</th>\n",
       "      <th>BasketGiven</th>\n",
       "      <th>TournamentChampion</th>\n",
       "      <th>Runner-up</th>\n",
       "      <th>TeamLaunch</th>\n",
       "      <th>HighestPositionHeld</th>\n",
       "      <th>Overall Performance</th>\n",
       "    </tr>\n",
       "  </thead>\n",
       "  <tbody>\n",
       "    <tr>\n",
       "      <th>0</th>\n",
       "      <td>Team 1</td>\n",
       "      <td>86</td>\n",
       "      <td>4385</td>\n",
       "      <td>2762</td>\n",
       "      <td>1647</td>\n",
       "      <td>552</td>\n",
       "      <td>563</td>\n",
       "      <td>5947</td>\n",
       "      <td>3140</td>\n",
       "      <td>33</td>\n",
       "      <td>23</td>\n",
       "      <td>1929</td>\n",
       "      <td>1</td>\n",
       "      <td>128.23</td>\n",
       "    </tr>\n",
       "  </tbody>\n",
       "</table>\n",
       "</div>"
      ],
      "text/plain": [
       "     Team  Tournament  Score  PlayedGames  WonGames  DrawnGames  LostGames  \\\n",
       "0  Team 1          86   4385         2762      1647         552        563   \n",
       "\n",
       "   BasketScored  BasketGiven  TournamentChampion  Runner-up  TeamLaunch  \\\n",
       "0          5947         3140                  33         23        1929   \n",
       "\n",
       "   HighestPositionHeld  Overall Performance  \n",
       "0                    1               128.23  "
      ]
     },
     "execution_count": 82,
     "metadata": {},
     "output_type": "execute_result"
    }
   ],
   "source": [
    "# Best Team based based on overall performance\n",
    "\n",
    "print('Best Team based based on overall performance:-')\n",
    "t10_best.head(1)"
   ]
  },
  {
   "cell_type": "code",
   "execution_count": 83,
   "metadata": {},
   "outputs": [
    {
     "name": "stdout",
     "output_type": "stream",
     "text": [
      "Top 10 Worst Teams Based on Overall Performance:-\n"
     ]
    },
    {
     "data": {
      "text/html": [
       "<div>\n",
       "<style scoped>\n",
       "    .dataframe tbody tr th:only-of-type {\n",
       "        vertical-align: middle;\n",
       "    }\n",
       "\n",
       "    .dataframe tbody tr th {\n",
       "        vertical-align: top;\n",
       "    }\n",
       "\n",
       "    .dataframe thead th {\n",
       "        text-align: right;\n",
       "    }\n",
       "</style>\n",
       "<table border=\"1\" class=\"dataframe\">\n",
       "  <thead>\n",
       "    <tr style=\"text-align: right;\">\n",
       "      <th></th>\n",
       "      <th>Team</th>\n",
       "      <th>Tournament</th>\n",
       "      <th>Score</th>\n",
       "      <th>PlayedGames</th>\n",
       "      <th>WonGames</th>\n",
       "      <th>DrawnGames</th>\n",
       "      <th>LostGames</th>\n",
       "      <th>BasketScored</th>\n",
       "      <th>BasketGiven</th>\n",
       "      <th>TournamentChampion</th>\n",
       "      <th>Runner-up</th>\n",
       "      <th>TeamLaunch</th>\n",
       "      <th>HighestPositionHeld</th>\n",
       "      <th>Overall Performance</th>\n",
       "    </tr>\n",
       "  </thead>\n",
       "  <tbody>\n",
       "    <tr>\n",
       "      <th>59</th>\n",
       "      <td>Team 60</td>\n",
       "      <td>1</td>\n",
       "      <td>14</td>\n",
       "      <td>30</td>\n",
       "      <td>5</td>\n",
       "      <td>4</td>\n",
       "      <td>21</td>\n",
       "      <td>34</td>\n",
       "      <td>65</td>\n",
       "      <td>0</td>\n",
       "      <td>0</td>\n",
       "      <td>1955</td>\n",
       "      <td>15</td>\n",
       "      <td>22.77</td>\n",
       "    </tr>\n",
       "    <tr>\n",
       "      <th>54</th>\n",
       "      <td>Team 55</td>\n",
       "      <td>2</td>\n",
       "      <td>40</td>\n",
       "      <td>68</td>\n",
       "      <td>13</td>\n",
       "      <td>14</td>\n",
       "      <td>41</td>\n",
       "      <td>70</td>\n",
       "      <td>182</td>\n",
       "      <td>0</td>\n",
       "      <td>0</td>\n",
       "      <td>1950</td>\n",
       "      <td>16</td>\n",
       "      <td>28.35</td>\n",
       "    </tr>\n",
       "    <tr>\n",
       "      <th>58</th>\n",
       "      <td>Team 59</td>\n",
       "      <td>1</td>\n",
       "      <td>19</td>\n",
       "      <td>30</td>\n",
       "      <td>7</td>\n",
       "      <td>5</td>\n",
       "      <td>18</td>\n",
       "      <td>51</td>\n",
       "      <td>85</td>\n",
       "      <td>0</td>\n",
       "      <td>0</td>\n",
       "      <td>1951</td>\n",
       "      <td>16</td>\n",
       "      <td>31.17</td>\n",
       "    </tr>\n",
       "    <tr>\n",
       "      <th>56</th>\n",
       "      <td>Team 57</td>\n",
       "      <td>1</td>\n",
       "      <td>34</td>\n",
       "      <td>38</td>\n",
       "      <td>8</td>\n",
       "      <td>10</td>\n",
       "      <td>20</td>\n",
       "      <td>38</td>\n",
       "      <td>66</td>\n",
       "      <td>0</td>\n",
       "      <td>0</td>\n",
       "      <td>2009</td>\n",
       "      <td>20</td>\n",
       "      <td>34.36</td>\n",
       "    </tr>\n",
       "    <tr>\n",
       "      <th>49</th>\n",
       "      <td>Team 50</td>\n",
       "      <td>4</td>\n",
       "      <td>76</td>\n",
       "      <td>108</td>\n",
       "      <td>30</td>\n",
       "      <td>16</td>\n",
       "      <td>62</td>\n",
       "      <td>145</td>\n",
       "      <td>252</td>\n",
       "      <td>0</td>\n",
       "      <td>0</td>\n",
       "      <td>1945</td>\n",
       "      <td>10</td>\n",
       "      <td>34.90</td>\n",
       "    </tr>\n",
       "    <tr>\n",
       "      <th>55</th>\n",
       "      <td>Team 56</td>\n",
       "      <td>1</td>\n",
       "      <td>35</td>\n",
       "      <td>38</td>\n",
       "      <td>8</td>\n",
       "      <td>11</td>\n",
       "      <td>19</td>\n",
       "      <td>36</td>\n",
       "      <td>55</td>\n",
       "      <td>0</td>\n",
       "      <td>0</td>\n",
       "      <td>2016</td>\n",
       "      <td>17</td>\n",
       "      <td>35.95</td>\n",
       "    </tr>\n",
       "    <tr>\n",
       "      <th>46</th>\n",
       "      <td>Team 47</td>\n",
       "      <td>4</td>\n",
       "      <td>91</td>\n",
       "      <td>116</td>\n",
       "      <td>34</td>\n",
       "      <td>16</td>\n",
       "      <td>66</td>\n",
       "      <td>181</td>\n",
       "      <td>295</td>\n",
       "      <td>0</td>\n",
       "      <td>0</td>\n",
       "      <td>1947</td>\n",
       "      <td>7</td>\n",
       "      <td>36.01</td>\n",
       "    </tr>\n",
       "    <tr>\n",
       "      <th>57</th>\n",
       "      <td>Team 58</td>\n",
       "      <td>1</td>\n",
       "      <td>22</td>\n",
       "      <td>30</td>\n",
       "      <td>7</td>\n",
       "      <td>8</td>\n",
       "      <td>15</td>\n",
       "      <td>37</td>\n",
       "      <td>57</td>\n",
       "      <td>0</td>\n",
       "      <td>0</td>\n",
       "      <td>1956</td>\n",
       "      <td>16</td>\n",
       "      <td>36.73</td>\n",
       "    </tr>\n",
       "    <tr>\n",
       "      <th>42</th>\n",
       "      <td>Team 43</td>\n",
       "      <td>4</td>\n",
       "      <td>148</td>\n",
       "      <td>152</td>\n",
       "      <td>37</td>\n",
       "      <td>37</td>\n",
       "      <td>78</td>\n",
       "      <td>155</td>\n",
       "      <td>253</td>\n",
       "      <td>0</td>\n",
       "      <td>0</td>\n",
       "      <td>1999</td>\n",
       "      <td>17</td>\n",
       "      <td>36.84</td>\n",
       "    </tr>\n",
       "    <tr>\n",
       "      <th>27</th>\n",
       "      <td>Team 28</td>\n",
       "      <td>18</td>\n",
       "      <td>445</td>\n",
       "      <td>586</td>\n",
       "      <td>145</td>\n",
       "      <td>143</td>\n",
       "      <td>298</td>\n",
       "      <td>607</td>\n",
       "      <td>992</td>\n",
       "      <td>0</td>\n",
       "      <td>0</td>\n",
       "      <td>1940</td>\n",
       "      <td>11</td>\n",
       "      <td>37.05</td>\n",
       "    </tr>\n",
       "  </tbody>\n",
       "</table>\n",
       "</div>"
      ],
      "text/plain": [
       "       Team  Tournament  Score  PlayedGames  WonGames  DrawnGames  LostGames  \\\n",
       "59  Team 60           1     14           30         5           4         21   \n",
       "54  Team 55           2     40           68        13          14         41   \n",
       "58  Team 59           1     19           30         7           5         18   \n",
       "56  Team 57           1     34           38         8          10         20   \n",
       "49  Team 50           4     76          108        30          16         62   \n",
       "55  Team 56           1     35           38         8          11         19   \n",
       "46  Team 47           4     91          116        34          16         66   \n",
       "57  Team 58           1     22           30         7           8         15   \n",
       "42  Team 43           4    148          152        37          37         78   \n",
       "27  Team 28          18    445          586       145         143        298   \n",
       "\n",
       "    BasketScored  BasketGiven  TournamentChampion  Runner-up  TeamLaunch  \\\n",
       "59            34           65                   0          0        1955   \n",
       "54            70          182                   0          0        1950   \n",
       "58            51           85                   0          0        1951   \n",
       "56            38           66                   0          0        2009   \n",
       "49           145          252                   0          0        1945   \n",
       "55            36           55                   0          0        2016   \n",
       "46           181          295                   0          0        1947   \n",
       "57            37           57                   0          0        1956   \n",
       "42           155          253                   0          0        1999   \n",
       "27           607          992                   0          0        1940   \n",
       "\n",
       "    HighestPositionHeld  Overall Performance  \n",
       "59                   15                22.77  \n",
       "54                   16                28.35  \n",
       "58                   16                31.17  \n",
       "56                   20                34.36  \n",
       "49                   10                34.90  \n",
       "55                   17                35.95  \n",
       "46                    7                36.01  \n",
       "57                   16                36.73  \n",
       "42                   17                36.84  \n",
       "27                   11                37.05  "
      ]
     },
     "execution_count": 83,
     "metadata": {},
     "output_type": "execute_result"
    }
   ],
   "source": [
    "# Top 10 Worst Teams Based on Overall Performance\n",
    "\n",
    "t10_nbest = (srt['Score Rate']+rp_team['Rate of Basket Scored']+win_team['Winning_Percentage(%)']+data['TournamentChampion']+data['Runner-up'])    \n",
    "t10 = pd.DataFrame(t10_nbest,columns=['Overall Performance'])\n",
    "t10_nbest = data.join(t10)\n",
    "t10_nbest = round(t10_nbest.sort_values(by='Overall Performance'),2)\n",
    "print('Top 10 Worst Teams Based on Overall Performance:-')\n",
    "t10_nbest.head(10)"
   ]
  },
  {
   "cell_type": "code",
   "execution_count": 84,
   "metadata": {},
   "outputs": [
    {
     "name": "stdout",
     "output_type": "stream",
     "text": [
      "Worst Team based based on overall performance:-\n"
     ]
    },
    {
     "data": {
      "text/html": [
       "<div>\n",
       "<style scoped>\n",
       "    .dataframe tbody tr th:only-of-type {\n",
       "        vertical-align: middle;\n",
       "    }\n",
       "\n",
       "    .dataframe tbody tr th {\n",
       "        vertical-align: top;\n",
       "    }\n",
       "\n",
       "    .dataframe thead th {\n",
       "        text-align: right;\n",
       "    }\n",
       "</style>\n",
       "<table border=\"1\" class=\"dataframe\">\n",
       "  <thead>\n",
       "    <tr style=\"text-align: right;\">\n",
       "      <th></th>\n",
       "      <th>Team</th>\n",
       "      <th>Tournament</th>\n",
       "      <th>Score</th>\n",
       "      <th>PlayedGames</th>\n",
       "      <th>WonGames</th>\n",
       "      <th>DrawnGames</th>\n",
       "      <th>LostGames</th>\n",
       "      <th>BasketScored</th>\n",
       "      <th>BasketGiven</th>\n",
       "      <th>TournamentChampion</th>\n",
       "      <th>Runner-up</th>\n",
       "      <th>TeamLaunch</th>\n",
       "      <th>HighestPositionHeld</th>\n",
       "      <th>Overall Performance</th>\n",
       "    </tr>\n",
       "  </thead>\n",
       "  <tbody>\n",
       "    <tr>\n",
       "      <th>59</th>\n",
       "      <td>Team 60</td>\n",
       "      <td>1</td>\n",
       "      <td>14</td>\n",
       "      <td>30</td>\n",
       "      <td>5</td>\n",
       "      <td>4</td>\n",
       "      <td>21</td>\n",
       "      <td>34</td>\n",
       "      <td>65</td>\n",
       "      <td>0</td>\n",
       "      <td>0</td>\n",
       "      <td>1955</td>\n",
       "      <td>15</td>\n",
       "      <td>22.77</td>\n",
       "    </tr>\n",
       "  </tbody>\n",
       "</table>\n",
       "</div>"
      ],
      "text/plain": [
       "       Team  Tournament  Score  PlayedGames  WonGames  DrawnGames  LostGames  \\\n",
       "59  Team 60           1     14           30         5           4         21   \n",
       "\n",
       "    BasketScored  BasketGiven  TournamentChampion  Runner-up  TeamLaunch  \\\n",
       "59            34           65                   0          0        1955   \n",
       "\n",
       "    HighestPositionHeld  Overall Performance  \n",
       "59                   15                22.77  "
      ]
     },
     "execution_count": 84,
     "metadata": {},
     "output_type": "execute_result"
    }
   ],
   "source": [
    "# Worst Team based based on overall performance\n",
    "\n",
    "print('Worst Team based based on overall performance:-')\n",
    "t10_nbest.head(1)"
   ]
  },
  {
   "cell_type": "code",
   "execution_count": 85,
   "metadata": {},
   "outputs": [
    {
     "name": "stdout",
     "output_type": "stream",
     "text": [
      "Average Overall Performance = 46.67\n"
     ]
    }
   ],
   "source": [
    "# Average Overall Performance\n",
    "\n",
    "avp = t_best['Overall Performance'].mean()\n",
    "print('Average Overall Performance =',round(avp,2))"
   ]
  },
  {
   "cell_type": "code",
   "execution_count": 86,
   "metadata": {},
   "outputs": [
    {
     "name": "stdout",
     "output_type": "stream",
     "text": [
      "Probability that these top 10 best teams will win the games = 0.56\n"
     ]
    }
   ],
   "source": [
    "# Probability that these top 10 best teams will win the games\n",
    "\n",
    "p_t10 = t10_best.head(10)\n",
    "p_t10 = (p_t10['WonGames']+p_t10['DrawnGames']*0.5)/p_t10['PlayedGames']\n",
    "print('Probability that these top 10 best teams will win the games =',round(p_t10.sum()/10,2))"
   ]
  },
  {
   "cell_type": "code",
   "execution_count": 87,
   "metadata": {},
   "outputs": [
    {
     "name": "stdout",
     "output_type": "stream",
     "text": [
      "Plot showing Overall Performance VS Tournament:-\n"
     ]
    },
    {
     "data": {
      "image/png": "[encoded data removed]",
      "text/plain": [
       "<Figure size 864x432 with 1 Axes>"
      ]
     },
     "metadata": {
      "needs_background": "light"
     },
     "output_type": "display_data"
    }
   ],
   "source": [
    "# Plot showing Overall Performance VS Tournament\n",
    "\n",
    "print('Plot showing Overall Performance VS Tournament:-')\n",
    "plt.figure(figsize=(12,6))\n",
    "\n",
    "plt.plot(t_best['Overall Performance'],data['Tournament'], 'o',color='#9400D3');\n",
    "\n",
    "m, b = np.polyfit(t_best['Overall Performance'],data['Tournament'], 1)\n",
    "plt.plot(t_best['Overall Performance'], m*t_best['Overall Performance'] + b,color='red');\n",
    "plt.xlabel('Overall Performance')\n",
    "plt.ylabel('Tournament')\n",
    "plt.title('Overall Performance VS Tournament')\n",
    "plt.show()"
   ]
  },
  {
   "cell_type": "markdown",
   "metadata": {},
   "source": [
    "***\n",
    "## <span style=\"color:#9400D3\">3. Please include any improvements or suggestions to the association management on quality, quantity, variety, velocity,veracity etc. on the data points collected by the association to perform a better data analysis in future.\n",
    "***"
   ]
  },
  {
   "cell_type": "markdown",
   "metadata": {},
   "source": [
    "## <span style=\"color:#9400D3\">Conclusion\n",
    "    \n",
    "*Observations and Analytics*\n",
    "* *By observing the skewness of data we can conclude that there is high variability in the performance of teams*\n",
    "* *Company may Choose or Select the teams based on varius criterias/analysis that are done above.*\n",
    "* *Company should not choose or select players based on Score Rates(Not Scores), since there is not much variations among the teams*\n",
    "* *Based on Winning Percentages which are calculated, Company can select the best teams.*\n",
    "* *Most of teams have winning percentage between 40%-50% range.*\n",
    "* *Based on Tournament Champions and Runner-ups, Company can also select teams, since we have analysed the teams having best performance in the tournaments.*\n",
    "* *If company is looking for experienced teams, then it can refer experience analytics.*\n",
    "* *Also there is a analysis based on Rate of Basket Scored. Based on this, company can choose teams.*<br><br>\n",
    "\n",
    "*Recommended Teams*\n",
    "* *Teams that are having the Best Performace in every criteria is mentioned above. There is 0.56 of probability that these teams will win the game. We can consider the Quality of Teams as the best. Company can refer that data for selection.*\n",
    "\n",
    "    \n",
    "**Closing Sentence:- This analytics is done to show the best possible teams for the company. Based on company's preference it can choose the best ones.**\n",
    "\n",
    "***\n"
   ]
  },
  {
   "cell_type": "markdown",
   "metadata": {},
   "source": [
    "### <span style=\"color:#9400D3\">-------------------------------------------------- End of Part TWO ------------------------------------------------------- "
   ]
  },
  {
   "cell_type": "markdown",
   "metadata": {},
   "source": [
    "***\n",
    "# <span style=\"color:#9400D3\">Part THREE - **Project Based**\n",
    "***"
   ]
  },
  {
   "cell_type": "markdown",
   "metadata": {},
   "source": [
    "**DOMAIN:** Startup Ecosystem\n",
    "<br><br>\n",
    "**CONTEXT:** Company X is a EU online publisher focusing on the startups industry. The company specifically reports on the business related to\n",
    "technology news, analysis of emerging trends and profiling of new tech businesses and products. Their event i.e. Startup Battlefield is the\n",
    "world’s pre-eminent startup competition. Startup Battlefield features 15-30 top early stage startups pitching top judges in front of a vast live\n",
    "audience, present in person and online.\n",
    "<br><br>\n",
    "**DATA DESCRIPTION:** CompanyX_EU.csv - Each row in the dataset is a Start-up company and the columns describe the company. ATTRIBUTE\n",
    "<br><br>\n",
    "INFORMATION:\n",
    "1. Startup: Name of the company\n",
    "2. Product: Actual product\n",
    "3. Funding: Funds raised by the company in USD\n",
    "4. Event: The event the company participated in\n",
    "5. Result: Described by Contestant, Finalist, Audience choice, Winner or Runner up\n",
    "6. OperatingState: Current status of the company, Operating ,Closed, Acquired or IPO\n",
    "<br><br>\n",
    "**PROJECT OBJECTIVE:** Analyse the data of the various companies from the given dataset and perform the tasks that are specified in the\n",
    "below steps. Draw insights from the various attributes that are present in the dataset, plot distributions, state hypotheses and draw\n",
    "conclusions from the dataset.\n",
    "<br><br>\n",
    "Steps and tasks:\n",
    "<br>\n",
    "1. Data warehouse:\n",
    "\n",
    " • Read the CSV file.\n",
    "<br><br>\n",
    "2. Data exploration:\n",
    "\n",
    " • Check the datatypes of each attribute.\n",
    "\n",
    " • Check for null values in the attributes.\n",
    "<br><br>\n",
    "3. Data preprocessing & visualisation:\n",
    "\n",
    " • Drop the null values.\n",
    "\n",
    " • Convert the ‘Funding’ features to a numerical value.\n",
    "\n",
    " • Plot box plot for funds in million.\n",
    "\n",
    " • Get the lower fence from the box plot.\n",
    "\n",
    " • Check number of outliers greater than upper fence.\n",
    "\n",
    " • Drop the values that are greater than upper fence.\n",
    "\n",
    " • Plot the box plot after dropping the values.\n",
    "\n",
    " • Check frequency of the OperatingState features classes.\n",
    "\n",
    " • Plot a distribution plot for Funds in million.\n",
    "\n",
    " • Plot distribution plots for companies still operating and companies that closed.\n",
    "<br><br>\n",
    "4. Statistical analysis:\n",
    "\n",
    " • Is there any significant difference between Funds raised by companies that are still operating vs companies that closed down?\n",
    "\n",
    "        Write the null hypothesis and alternative hypothesis.\n",
    "\n",
    "        Test for significance and conclusion\n",
    "\n",
    " • Make a copy of the original data frame.\n",
    "\n",
    " • Check frequency distribution of Result variable.\n",
    "\n",
    " • Calculate percentage of winners that are still operating and percentage of contestants that are still operating\n",
    "\n",
    " • Write your hypothesis comparing the proportion of companies that are operating between winners and contestants:\n",
    "\n",
    "        Write the null hypothesis and alternative hypothesis.\n",
    "\n",
    "        Test for significance and conclusion\n",
    " • Check distribution of the Event variable.\n",
    " \n",
    " • Select only the Event that has disrupt keyword from 2013 onwards.\n",
    "\n",
    " • Write and perform your hypothesis along with significance test comparing the funds raised by companies across NY, SF and EU events from\n",
    "2013 onwards.\n",
    "\n",
    " • Plot the distribution plot comparing the 3 city events.\n",
    "<br><br>\n",
    "5. Write your observations on improvements or suggestions on quality, quantity, variety, velocity, veracity etc. on the data points collected to perform\n",
    "a better data analysis."
   ]
  },
  {
   "cell_type": "markdown",
   "metadata": {},
   "source": [
    "***\n",
    "## <span style=\"color:#9400D3\">1. Data Warehouse"
   ]
  },
  {
   "cell_type": "markdown",
   "metadata": {},
   "source": [
    "### <span style=\"color:#9400D3\">* Reading the CSV File"
   ]
  },
  {
   "cell_type": "code",
   "execution_count": 88,
   "metadata": {},
   "outputs": [
    {
     "name": "stdout",
     "output_type": "stream",
     "text": [
      "Data consist:-\n",
      " Number of Rows    = 662 \n",
      " Number of Columns = 6\n"
     ]
    },
    {
     "data": {
      "text/html": [
       "<div>\n",
       "<style scoped>\n",
       "    .dataframe tbody tr th:only-of-type {\n",
       "        vertical-align: middle;\n",
       "    }\n",
       "\n",
       "    .dataframe tbody tr th {\n",
       "        vertical-align: top;\n",
       "    }\n",
       "\n",
       "    .dataframe thead th {\n",
       "        text-align: right;\n",
       "    }\n",
       "</style>\n",
       "<table border=\"1\" class=\"dataframe\">\n",
       "  <thead>\n",
       "    <tr style=\"text-align: right;\">\n",
       "      <th></th>\n",
       "      <th>Startup</th>\n",
       "      <th>Product</th>\n",
       "      <th>Funding</th>\n",
       "      <th>Event</th>\n",
       "      <th>Result</th>\n",
       "      <th>OperatingState</th>\n",
       "    </tr>\n",
       "  </thead>\n",
       "  <tbody>\n",
       "    <tr>\n",
       "      <th>0</th>\n",
       "      <td>2600Hz</td>\n",
       "      <td>2600hz.com</td>\n",
       "      <td>NaN</td>\n",
       "      <td>Disrupt SF 2013</td>\n",
       "      <td>Contestant</td>\n",
       "      <td>Operating</td>\n",
       "    </tr>\n",
       "    <tr>\n",
       "      <th>1</th>\n",
       "      <td>3DLT</td>\n",
       "      <td>3dlt.com</td>\n",
       "      <td>$630K</td>\n",
       "      <td>Disrupt NYC 2013</td>\n",
       "      <td>Contestant</td>\n",
       "      <td>Closed</td>\n",
       "    </tr>\n",
       "    <tr>\n",
       "      <th>2</th>\n",
       "      <td>3DPrinterOS</td>\n",
       "      <td>3dprinteros.com</td>\n",
       "      <td>NaN</td>\n",
       "      <td>Disrupt SF 2016</td>\n",
       "      <td>Contestant</td>\n",
       "      <td>Operating</td>\n",
       "    </tr>\n",
       "    <tr>\n",
       "      <th>3</th>\n",
       "      <td>3Dprintler</td>\n",
       "      <td>3dprintler.com</td>\n",
       "      <td>$1M</td>\n",
       "      <td>Disrupt NY 2016</td>\n",
       "      <td>Audience choice</td>\n",
       "      <td>Operating</td>\n",
       "    </tr>\n",
       "    <tr>\n",
       "      <th>4</th>\n",
       "      <td>42 Technologies</td>\n",
       "      <td>42technologies.com</td>\n",
       "      <td>NaN</td>\n",
       "      <td>Disrupt NYC 2013</td>\n",
       "      <td>Contestant</td>\n",
       "      <td>Operating</td>\n",
       "    </tr>\n",
       "    <tr>\n",
       "      <th>5</th>\n",
       "      <td>5to1</td>\n",
       "      <td>5to1.com</td>\n",
       "      <td>$19.3M</td>\n",
       "      <td>TC50 2009</td>\n",
       "      <td>Contestant</td>\n",
       "      <td>Acquired</td>\n",
       "    </tr>\n",
       "    <tr>\n",
       "      <th>6</th>\n",
       "      <td>8 Securities</td>\n",
       "      <td>8securities.com</td>\n",
       "      <td>$29M</td>\n",
       "      <td>Disrupt Beijing 2011</td>\n",
       "      <td>Finalist</td>\n",
       "      <td>Operating</td>\n",
       "    </tr>\n",
       "    <tr>\n",
       "      <th>7</th>\n",
       "      <td>8020 Media</td>\n",
       "      <td>8020media.com</td>\n",
       "      <td>NaN</td>\n",
       "      <td>TC40 2007</td>\n",
       "      <td>Contestant</td>\n",
       "      <td>Operating</td>\n",
       "    </tr>\n",
       "    <tr>\n",
       "      <th>8</th>\n",
       "      <td>About Last Night</td>\n",
       "      <td>aboutlastnight.net</td>\n",
       "      <td>NaN</td>\n",
       "      <td>Disrupt NYC 2012</td>\n",
       "      <td>Contestant</td>\n",
       "      <td>Operating</td>\n",
       "    </tr>\n",
       "    <tr>\n",
       "      <th>9</th>\n",
       "      <td>Adgregate Markets</td>\n",
       "      <td>adgregate.com</td>\n",
       "      <td>NaN</td>\n",
       "      <td>TC50 2008</td>\n",
       "      <td>Contestant</td>\n",
       "      <td>Operating</td>\n",
       "    </tr>\n",
       "    <tr>\n",
       "      <th>10</th>\n",
       "      <td>AdhereTech</td>\n",
       "      <td>adheretech.com</td>\n",
       "      <td>$1.8M</td>\n",
       "      <td>Hardware Battlefield 2014</td>\n",
       "      <td>Contestant</td>\n",
       "      <td>Operating</td>\n",
       "    </tr>\n",
       "  </tbody>\n",
       "</table>\n",
       "</div>"
      ],
      "text/plain": [
       "              Startup             Product Funding                      Event  \\\n",
       "0              2600Hz          2600hz.com     NaN            Disrupt SF 2013   \n",
       "1                3DLT            3dlt.com   $630K           Disrupt NYC 2013   \n",
       "2         3DPrinterOS     3dprinteros.com     NaN            Disrupt SF 2016   \n",
       "3          3Dprintler      3dprintler.com     $1M            Disrupt NY 2016   \n",
       "4     42 Technologies  42technologies.com     NaN           Disrupt NYC 2013   \n",
       "5                5to1            5to1.com  $19.3M                  TC50 2009   \n",
       "6        8 Securities     8securities.com    $29M       Disrupt Beijing 2011   \n",
       "7          8020 Media       8020media.com     NaN                  TC40 2007   \n",
       "8    About Last Night  aboutlastnight.net     NaN           Disrupt NYC 2012   \n",
       "9   Adgregate Markets       adgregate.com     NaN                  TC50 2008   \n",
       "10         AdhereTech      adheretech.com   $1.8M  Hardware Battlefield 2014   \n",
       "\n",
       "             Result OperatingState  \n",
       "0        Contestant      Operating  \n",
       "1        Contestant         Closed  \n",
       "2        Contestant      Operating  \n",
       "3   Audience choice      Operating  \n",
       "4        Contestant      Operating  \n",
       "5        Contestant       Acquired  \n",
       "6          Finalist      Operating  \n",
       "7        Contestant      Operating  \n",
       "8        Contestant      Operating  \n",
       "9        Contestant      Operating  \n",
       "10       Contestant      Operating  "
      ]
     },
     "execution_count": 88,
     "metadata": {},
     "output_type": "execute_result"
    }
   ],
   "source": [
    "# Loading file and creating dataframe\n",
    "start_up = pd.read_csv('CompanyX_EU.csv')  \n",
    "\n",
    "# Getting shape of dataframe\n",
    "a = start_up.shape    \n",
    "print('Data consist:-\\n Number of Rows    =',a[0],'\\n Number of Columns =',a[1])\n",
    "\n",
    "start_up.head(11)"
   ]
  },
  {
   "cell_type": "markdown",
   "metadata": {},
   "source": [
    "***\n",
    "## <span style=\"color:#9400D3\">2. Data Exploration"
   ]
  },
  {
   "cell_type": "markdown",
   "metadata": {},
   "source": [
    "### <span style=\"color:#9400D3\">* Check the Datatypes of each Attribute"
   ]
  },
  {
   "cell_type": "code",
   "execution_count": 89,
   "metadata": {},
   "outputs": [
    {
     "name": "stdout",
     "output_type": "stream",
     "text": [
      "\n",
      "Data Types of Each Attribute:-\n"
     ]
    },
    {
     "data": {
      "text/html": [
       "<div>\n",
       "<style scoped>\n",
       "    .dataframe tbody tr th:only-of-type {\n",
       "        vertical-align: middle;\n",
       "    }\n",
       "\n",
       "    .dataframe tbody tr th {\n",
       "        vertical-align: top;\n",
       "    }\n",
       "\n",
       "    .dataframe thead th {\n",
       "        text-align: right;\n",
       "    }\n",
       "</style>\n",
       "<table border=\"1\" class=\"dataframe\">\n",
       "  <thead>\n",
       "    <tr style=\"text-align: right;\">\n",
       "      <th></th>\n",
       "      <th>Data Type</th>\n",
       "    </tr>\n",
       "  </thead>\n",
       "  <tbody>\n",
       "    <tr>\n",
       "      <th>Startup</th>\n",
       "      <td>object</td>\n",
       "    </tr>\n",
       "    <tr>\n",
       "      <th>Product</th>\n",
       "      <td>object</td>\n",
       "    </tr>\n",
       "    <tr>\n",
       "      <th>Funding</th>\n",
       "      <td>object</td>\n",
       "    </tr>\n",
       "    <tr>\n",
       "      <th>Event</th>\n",
       "      <td>object</td>\n",
       "    </tr>\n",
       "    <tr>\n",
       "      <th>Result</th>\n",
       "      <td>object</td>\n",
       "    </tr>\n",
       "    <tr>\n",
       "      <th>OperatingState</th>\n",
       "      <td>object</td>\n",
       "    </tr>\n",
       "  </tbody>\n",
       "</table>\n",
       "</div>"
      ],
      "text/plain": [
       "               Data Type\n",
       "Startup           object\n",
       "Product           object\n",
       "Funding           object\n",
       "Event             object\n",
       "Result            object\n",
       "OperatingState    object"
      ]
     },
     "execution_count": 89,
     "metadata": {},
     "output_type": "execute_result"
    }
   ],
   "source": [
    "print('\\nData Types of Each Attribute:-')\n",
    "start_up.dtypes.to_frame('Data Type')    # Checking data types"
   ]
  },
  {
   "cell_type": "markdown",
   "metadata": {},
   "source": [
    "### <span style=\"color:#9400D3\">* Check for Null values in the Attributes."
   ]
  },
  {
   "cell_type": "code",
   "execution_count": 90,
   "metadata": {},
   "outputs": [
    {
     "name": "stdout",
     "output_type": "stream",
     "text": [
      "Null values in the Attributes:-\n"
     ]
    },
    {
     "data": {
      "text/html": [
       "<div>\n",
       "<style scoped>\n",
       "    .dataframe tbody tr th:only-of-type {\n",
       "        vertical-align: middle;\n",
       "    }\n",
       "\n",
       "    .dataframe tbody tr th {\n",
       "        vertical-align: top;\n",
       "    }\n",
       "\n",
       "    .dataframe thead th {\n",
       "        text-align: right;\n",
       "    }\n",
       "</style>\n",
       "<table border=\"1\" class=\"dataframe\">\n",
       "  <thead>\n",
       "    <tr style=\"text-align: right;\">\n",
       "      <th></th>\n",
       "      <th>Null Values</th>\n",
       "    </tr>\n",
       "  </thead>\n",
       "  <tbody>\n",
       "    <tr>\n",
       "      <th>Startup</th>\n",
       "      <td>0</td>\n",
       "    </tr>\n",
       "    <tr>\n",
       "      <th>Product</th>\n",
       "      <td>6</td>\n",
       "    </tr>\n",
       "    <tr>\n",
       "      <th>Funding</th>\n",
       "      <td>214</td>\n",
       "    </tr>\n",
       "    <tr>\n",
       "      <th>Event</th>\n",
       "      <td>0</td>\n",
       "    </tr>\n",
       "    <tr>\n",
       "      <th>Result</th>\n",
       "      <td>0</td>\n",
       "    </tr>\n",
       "    <tr>\n",
       "      <th>OperatingState</th>\n",
       "      <td>0</td>\n",
       "    </tr>\n",
       "  </tbody>\n",
       "</table>\n",
       "</div>"
      ],
      "text/plain": [
       "                Null Values\n",
       "Startup                   0\n",
       "Product                   6\n",
       "Funding                 214\n",
       "Event                     0\n",
       "Result                    0\n",
       "OperatingState            0"
      ]
     },
     "execution_count": 90,
     "metadata": {},
     "output_type": "execute_result"
    }
   ],
   "source": [
    "print('Null values in the Attributes:-')\n",
    "start_up.isnull().sum().to_frame('Null Values')     # Checking Null/NaN values of each attribute"
   ]
  },
  {
   "cell_type": "markdown",
   "metadata": {},
   "source": [
    "***\n",
    "## <span style=\"color:#9400D3\">3. Data Preprocessing & Visualisation"
   ]
  },
  {
   "cell_type": "markdown",
   "metadata": {},
   "source": [
    "### <span style=\"color:#9400D3\"> *  Drop the Null values."
   ]
  },
  {
   "cell_type": "code",
   "execution_count": 91,
   "metadata": {},
   "outputs": [
    {
     "name": "stdout",
     "output_type": "stream",
     "text": [
      "Null values in the Attributes:-\n"
     ]
    },
    {
     "data": {
      "text/html": [
       "<div>\n",
       "<style scoped>\n",
       "    .dataframe tbody tr th:only-of-type {\n",
       "        vertical-align: middle;\n",
       "    }\n",
       "\n",
       "    .dataframe tbody tr th {\n",
       "        vertical-align: top;\n",
       "    }\n",
       "\n",
       "    .dataframe thead th {\n",
       "        text-align: right;\n",
       "    }\n",
       "</style>\n",
       "<table border=\"1\" class=\"dataframe\">\n",
       "  <thead>\n",
       "    <tr style=\"text-align: right;\">\n",
       "      <th></th>\n",
       "      <th>Null Values</th>\n",
       "    </tr>\n",
       "  </thead>\n",
       "  <tbody>\n",
       "    <tr>\n",
       "      <th>Startup</th>\n",
       "      <td>0</td>\n",
       "    </tr>\n",
       "    <tr>\n",
       "      <th>Product</th>\n",
       "      <td>0</td>\n",
       "    </tr>\n",
       "    <tr>\n",
       "      <th>Funding</th>\n",
       "      <td>0</td>\n",
       "    </tr>\n",
       "    <tr>\n",
       "      <th>Event</th>\n",
       "      <td>0</td>\n",
       "    </tr>\n",
       "    <tr>\n",
       "      <th>Result</th>\n",
       "      <td>0</td>\n",
       "    </tr>\n",
       "    <tr>\n",
       "      <th>OperatingState</th>\n",
       "      <td>0</td>\n",
       "    </tr>\n",
       "  </tbody>\n",
       "</table>\n",
       "</div>"
      ],
      "text/plain": [
       "                Null Values\n",
       "Startup                   0\n",
       "Product                   0\n",
       "Funding                   0\n",
       "Event                     0\n",
       "Result                    0\n",
       "OperatingState            0"
      ]
     },
     "execution_count": 91,
     "metadata": {},
     "output_type": "execute_result"
    }
   ],
   "source": [
    "# Droping NaN values of data\n",
    "start_up.dropna(inplace=True)\n",
    "\n",
    "print('Null values in the Attributes:-')\n",
    "start_up.isnull().sum().to_frame('Null Values')"
   ]
  },
  {
   "cell_type": "markdown",
   "metadata": {},
   "source": [
    "**Comments:-**\n",
    "\n",
    "   * *Complete removal of data with missing values results in robust and highly accurate model.*"
   ]
  },
  {
   "cell_type": "markdown",
   "metadata": {},
   "source": [
    "### <span style=\"color:#9400D3\">* Convert the ‘Funding’ features to a Numerical value."
   ]
  },
  {
   "cell_type": "code",
   "execution_count": 92,
   "metadata": {},
   "outputs": [
    {
     "data": {
      "text/html": [
       "<div>\n",
       "<style scoped>\n",
       "    .dataframe tbody tr th:only-of-type {\n",
       "        vertical-align: middle;\n",
       "    }\n",
       "\n",
       "    .dataframe tbody tr th {\n",
       "        vertical-align: top;\n",
       "    }\n",
       "\n",
       "    .dataframe thead th {\n",
       "        text-align: right;\n",
       "    }\n",
       "</style>\n",
       "<table border=\"1\" class=\"dataframe\">\n",
       "  <thead>\n",
       "    <tr style=\"text-align: right;\">\n",
       "      <th></th>\n",
       "      <th>Startup</th>\n",
       "      <th>Funding</th>\n",
       "    </tr>\n",
       "  </thead>\n",
       "  <tbody>\n",
       "    <tr>\n",
       "      <th>1</th>\n",
       "      <td>3DLT</td>\n",
       "      <td>$630K</td>\n",
       "    </tr>\n",
       "    <tr>\n",
       "      <th>3</th>\n",
       "      <td>3Dprintler</td>\n",
       "      <td>$1M</td>\n",
       "    </tr>\n",
       "    <tr>\n",
       "      <th>5</th>\n",
       "      <td>5to1</td>\n",
       "      <td>$19.3M</td>\n",
       "    </tr>\n",
       "    <tr>\n",
       "      <th>6</th>\n",
       "      <td>8 Securities</td>\n",
       "      <td>$29M</td>\n",
       "    </tr>\n",
       "    <tr>\n",
       "      <th>10</th>\n",
       "      <td>AdhereTech</td>\n",
       "      <td>$1.8M</td>\n",
       "    </tr>\n",
       "    <tr>\n",
       "      <th>11</th>\n",
       "      <td>AdRocket</td>\n",
       "      <td>$1M</td>\n",
       "    </tr>\n",
       "    <tr>\n",
       "      <th>13</th>\n",
       "      <td>Agrilyst</td>\n",
       "      <td>$1M</td>\n",
       "    </tr>\n",
       "    <tr>\n",
       "      <th>14</th>\n",
       "      <td>Aiden</td>\n",
       "      <td>$750K</td>\n",
       "    </tr>\n",
       "    <tr>\n",
       "      <th>15</th>\n",
       "      <td>AirBoxLab</td>\n",
       "      <td>$17.9K</td>\n",
       "    </tr>\n",
       "    <tr>\n",
       "      <th>16</th>\n",
       "      <td>Aircall</td>\n",
       "      <td>$11.6M</td>\n",
       "    </tr>\n",
       "  </tbody>\n",
       "</table>\n",
       "</div>"
      ],
      "text/plain": [
       "         Startup Funding\n",
       "1           3DLT   $630K\n",
       "3     3Dprintler     $1M\n",
       "5           5to1  $19.3M\n",
       "6   8 Securities    $29M\n",
       "10    AdhereTech   $1.8M\n",
       "11      AdRocket     $1M\n",
       "13      Agrilyst     $1M\n",
       "14         Aiden   $750K\n",
       "15     AirBoxLab  $17.9K\n",
       "16       Aircall  $11.6M"
      ]
     },
     "execution_count": 92,
     "metadata": {},
     "output_type": "execute_result"
    }
   ],
   "source": [
    "# Step 1: Knowing the things related to Funding\n",
    "\n",
    "start_up[['Startup','Funding']].head(10)"
   ]
  },
  {
   "cell_type": "markdown",
   "metadata": {},
   "source": [
    "**Comments:-**\n",
    " * *We have different symbols like $, K etc. in Funding.*\n",
    " \n",
    " * *First we should remove $ .*\n",
    " * *Then we add zeros to the numbers that have symbols K,M,B with respective number of zeros.*"
   ]
  },
  {
   "cell_type": "code",
   "execution_count": 93,
   "metadata": {},
   "outputs": [
    {
     "data": {
      "text/html": [
       "<div>\n",
       "<style scoped>\n",
       "    .dataframe tbody tr th:only-of-type {\n",
       "        vertical-align: middle;\n",
       "    }\n",
       "\n",
       "    .dataframe tbody tr th {\n",
       "        vertical-align: top;\n",
       "    }\n",
       "\n",
       "    .dataframe thead th {\n",
       "        text-align: right;\n",
       "    }\n",
       "</style>\n",
       "<table border=\"1\" class=\"dataframe\">\n",
       "  <thead>\n",
       "    <tr style=\"text-align: right;\">\n",
       "      <th></th>\n",
       "      <th>Startup</th>\n",
       "      <th>Funding</th>\n",
       "    </tr>\n",
       "  </thead>\n",
       "  <tbody>\n",
       "    <tr>\n",
       "      <th>1</th>\n",
       "      <td>3DLT</td>\n",
       "      <td>630000.0</td>\n",
       "    </tr>\n",
       "    <tr>\n",
       "      <th>3</th>\n",
       "      <td>3Dprintler</td>\n",
       "      <td>1000000.0</td>\n",
       "    </tr>\n",
       "    <tr>\n",
       "      <th>5</th>\n",
       "      <td>5to1</td>\n",
       "      <td>19300000.0</td>\n",
       "    </tr>\n",
       "    <tr>\n",
       "      <th>6</th>\n",
       "      <td>8 Securities</td>\n",
       "      <td>29000000.0</td>\n",
       "    </tr>\n",
       "    <tr>\n",
       "      <th>10</th>\n",
       "      <td>AdhereTech</td>\n",
       "      <td>1800000.0</td>\n",
       "    </tr>\n",
       "    <tr>\n",
       "      <th>11</th>\n",
       "      <td>AdRocket</td>\n",
       "      <td>1000000.0</td>\n",
       "    </tr>\n",
       "    <tr>\n",
       "      <th>13</th>\n",
       "      <td>Agrilyst</td>\n",
       "      <td>1000000.0</td>\n",
       "    </tr>\n",
       "    <tr>\n",
       "      <th>14</th>\n",
       "      <td>Aiden</td>\n",
       "      <td>750000.0</td>\n",
       "    </tr>\n",
       "    <tr>\n",
       "      <th>15</th>\n",
       "      <td>AirBoxLab</td>\n",
       "      <td>17900.0</td>\n",
       "    </tr>\n",
       "    <tr>\n",
       "      <th>16</th>\n",
       "      <td>Aircall</td>\n",
       "      <td>11600000.0</td>\n",
       "    </tr>\n",
       "  </tbody>\n",
       "</table>\n",
       "</div>"
      ],
      "text/plain": [
       "         Startup     Funding\n",
       "1           3DLT    630000.0\n",
       "3     3Dprintler   1000000.0\n",
       "5           5to1  19300000.0\n",
       "6   8 Securities  29000000.0\n",
       "10    AdhereTech   1800000.0\n",
       "11      AdRocket   1000000.0\n",
       "13      Agrilyst   1000000.0\n",
       "14         Aiden    750000.0\n",
       "15     AirBoxLab     17900.0\n",
       "16       Aircall  11600000.0"
      ]
     },
     "execution_count": 93,
     "metadata": {},
     "output_type": "execute_result"
    }
   ],
   "source": [
    "# Step 2: Converting 'Funding' attribute to Numerical Values\n",
    "\n",
    "# First we remove $ symbol from data\n",
    "\n",
    "start_up['Funding']=start_up['Funding'].replace({'\\$': ''},regex=True)\n",
    "\n",
    "# Next replacing other symbols by their original values\n",
    "start_up['Funding']=(start_up['Funding'].replace(r'[KMB]+$', '', regex=True).astype(float) * \n",
    "                     start_up['Funding'].str.extract(r'[\\d\\.]+([KMB]+)', expand=False).fillna(1).\n",
    "                     replace(['K','M','B'], [10**3, 10**6,10**9]).astype(int))\n",
    "\n",
    "start_up[['Startup','Funding']].head(10)"
   ]
  },
  {
   "cell_type": "markdown",
   "metadata": {},
   "source": [
    "**Comments:-**\n",
    " * *Now we have Funding in Numerical form.*"
   ]
  },
  {
   "cell_type": "markdown",
   "metadata": {},
   "source": [
    "### <span style=\"color:#9400D3\">* Plot box plot for Funds in million."
   ]
  },
  {
   "cell_type": "code",
   "execution_count": 94,
   "metadata": {},
   "outputs": [
    {
     "name": "stdout",
     "output_type": "stream",
     "text": [
      "Box plot for Funds in million:-\n"
     ]
    },
    {
     "data": {
      "image/png": "[encoded data removed]",
      "text/plain": [
       "<Figure size 864x432 with 1 Axes>"
      ]
     },
     "metadata": {
      "needs_background": "light"
     },
     "output_type": "display_data"
    }
   ],
   "source": [
    "# Getting Funds in millions \n",
    "\n",
    "Fund_M = start_up[start_up['Funding']>999999]\n",
    "\n",
    "# Plotting Box Plot\n",
    "print('Box plot for Funds in million:-')\n",
    "plt.figure(figsize=(12,6))\n",
    "sns.boxplot(Fund_M['Funding'],color=\"#9400D3\"); "
   ]
  },
  {
   "cell_type": "markdown",
   "metadata": {},
   "source": [
    "**Comments:-**\n",
    " \n",
    " * *The Plot couldn't be observed clearly since there are outliers with huge values!*"
   ]
  },
  {
   "cell_type": "markdown",
   "metadata": {},
   "source": [
    "### <span style=\"color:#9400D3\">* Get the Lower fence from the Box plot."
   ]
  },
  {
   "cell_type": "code",
   "execution_count": 95,
   "metadata": {},
   "outputs": [
    {
     "name": "stdout",
     "output_type": "stream",
     "text": [
      "Lower Fence = -18625000.0\n"
     ]
    }
   ],
   "source": [
    "# Getting IQR \n",
    "Q1 = Fund_M['Funding'].quantile(0.25)\n",
    "Q3 = Fund_M['Funding'].quantile(0.75)\n",
    "IQR = Q3 - Q1    # IQR --> interquartile range. \n",
    "\n",
    "# Calculating lower fence\n",
    "Lower_Fence = Q1 - 1.5*IQR\n",
    "\n",
    "print('Lower Fence =',Lower_Fence)"
   ]
  },
  {
   "cell_type": "markdown",
   "metadata": {},
   "source": [
    "### <span style=\"color:#9400D3\">* Check number of Outliers greater than Upper fence."
   ]
  },
  {
   "cell_type": "code",
   "execution_count": 96,
   "metadata": {},
   "outputs": [
    {
     "name": "stdout",
     "output_type": "stream",
     "text": [
      "Number of Outliers greater than Upper fence = 34\n"
     ]
    }
   ],
   "source": [
    "# Calculating upper fence\n",
    "Upper_Fence = Q3 + 1.5*IQR\n",
    "\n",
    "fund_UF = Fund_M[Fund_M['Funding']>Upper_Fence]\n",
    "\n",
    "print('Number of Outliers greater than Upper fence =',fund_UF['Funding'].shape[0])\n"
   ]
  },
  {
   "cell_type": "markdown",
   "metadata": {},
   "source": [
    "### <span style=\"color:#9400D3\">* Drop the values that are greater than Upper fence."
   ]
  },
  {
   "cell_type": "code",
   "execution_count": 97,
   "metadata": {},
   "outputs": [],
   "source": [
    "Fund_M = Fund_M[Fund_M['Funding']<=Upper_Fence] #Dropping values > Upper fence"
   ]
  },
  {
   "cell_type": "markdown",
   "metadata": {},
   "source": [
    "### <span style=\"color:#9400D3\">* Plot the Box plot after Dropping the values."
   ]
  },
  {
   "cell_type": "code",
   "execution_count": 98,
   "metadata": {},
   "outputs": [
    {
     "name": "stdout",
     "output_type": "stream",
     "text": [
      "Box plot after Dropping the values:-\n"
     ]
    },
    {
     "data": {
      "image/png": "[encoded data removed]",
      "text/plain": [
       "<Figure size 864x432 with 1 Axes>"
      ]
     },
     "metadata": {
      "needs_background": "light"
     },
     "output_type": "display_data"
    }
   ],
   "source": [
    "print('Box plot after Dropping the values:-')\n",
    "plt.figure(figsize=(12,6))\n",
    "sns.boxplot(Fund_M['Funding'],color=\"#9400D3\"); "
   ]
  },
  {
   "cell_type": "markdown",
   "metadata": {},
   "source": [
    "**Comments:-**\n",
    "\n",
    "* *Since we have dropped values greater than upper fence, we can see box plot clearly.*\n",
    "* *Observing box plot we can say there is a positive skewness in Funding.*"
   ]
  },
  {
   "cell_type": "markdown",
   "metadata": {},
   "source": [
    "### <span style=\"color:#9400D3\">* Check Frequency of the OperatingState features classes."
   ]
  },
  {
   "cell_type": "code",
   "execution_count": 99,
   "metadata": {},
   "outputs": [
    {
     "name": "stdout",
     "output_type": "stream",
     "text": [
      "Frequency of the OperatingState features classes:-\n"
     ]
    },
    {
     "data": {
      "text/html": [
       "<div>\n",
       "<style scoped>\n",
       "    .dataframe tbody tr th:only-of-type {\n",
       "        vertical-align: middle;\n",
       "    }\n",
       "\n",
       "    .dataframe tbody tr th {\n",
       "        vertical-align: top;\n",
       "    }\n",
       "\n",
       "    .dataframe thead th {\n",
       "        text-align: right;\n",
       "    }\n",
       "</style>\n",
       "<table border=\"1\" class=\"dataframe\">\n",
       "  <thead>\n",
       "    <tr style=\"text-align: right;\">\n",
       "      <th></th>\n",
       "      <th>Companies per OperatingState</th>\n",
       "    </tr>\n",
       "  </thead>\n",
       "  <tbody>\n",
       "    <tr>\n",
       "      <th>Operating</th>\n",
       "      <td>319</td>\n",
       "    </tr>\n",
       "    <tr>\n",
       "      <th>Acquired</th>\n",
       "      <td>66</td>\n",
       "    </tr>\n",
       "    <tr>\n",
       "      <th>Closed</th>\n",
       "      <td>57</td>\n",
       "    </tr>\n",
       "    <tr>\n",
       "      <th>Ipo</th>\n",
       "      <td>4</td>\n",
       "    </tr>\n",
       "  </tbody>\n",
       "</table>\n",
       "</div>"
      ],
      "text/plain": [
       "           Companies per OperatingState\n",
       "Operating                           319\n",
       "Acquired                             66\n",
       "Closed                               57\n",
       "Ipo                                   4"
      ]
     },
     "execution_count": 99,
     "metadata": {},
     "output_type": "execute_result"
    }
   ],
   "source": [
    "# Getting  Frequency of the OperatingState features classes.\n",
    "OS_frq = start_up['OperatingState'].value_counts().to_frame(name = 'Companies per OperatingState')\n",
    "print('Frequency of the OperatingState features classes:-')\n",
    "OS_frq"
   ]
  },
  {
   "cell_type": "code",
   "execution_count": 100,
   "metadata": {},
   "outputs": [
    {
     "name": "stdout",
     "output_type": "stream",
     "text": [
      "Plot showing frequencies of OperatingState:-\n"
     ]
    },
    {
     "data": {
      "image/png": "[encoded data removed]",
      "text/plain": [
       "<Figure size 864x432 with 1 Axes>"
      ]
     },
     "metadata": {
      "needs_background": "light"
     },
     "output_type": "display_data"
    }
   ],
   "source": [
    "# Plotting the frequencies of OperatingState attribute\n",
    "\n",
    "print('Plot showing frequencies of OperatingState:-')\n",
    "plt.figure(figsize=(12,6))\n",
    "sns.countplot(start_up['OperatingState'],color=\"#9400D3\");"
   ]
  },
  {
   "cell_type": "markdown",
   "metadata": {},
   "source": [
    "### <span style=\"color:#9400D3\">* Plot a Distribution plot for Funds in million."
   ]
  },
  {
   "cell_type": "code",
   "execution_count": 101,
   "metadata": {},
   "outputs": [
    {
     "name": "stdout",
     "output_type": "stream",
     "text": [
      "Plot showing distribution of Funds in million:-\n"
     ]
    },
    {
     "data": {
      "image/png": "[encoded data removed]",
      "text/plain": [
       "<Figure size 864x432 with 1 Axes>"
      ]
     },
     "metadata": {
      "needs_background": "light"
     },
     "output_type": "display_data"
    }
   ],
   "source": [
    "plt.figure(figsize=(12,6))\n",
    "print('Plot showing distribution of Funds in million:-')\n",
    "sns.distplot(Fund_M['Funding'],color=\"#9400D3\");\n",
    "# By observing the plot we can say its positively skewed!"
   ]
  },
  {
   "cell_type": "markdown",
   "metadata": {},
   "source": [
    "### <span style=\"color:#9400D3\">* Plot Distribution plots for Companies still operating and Companies that closed."
   ]
  },
  {
   "cell_type": "code",
   "execution_count": 102,
   "metadata": {},
   "outputs": [
    {
     "name": "stdout",
     "output_type": "stream",
     "text": [
      "Plot showing  Companies still operating and Companies that closed:-\n"
     ]
    },
    {
     "data": {
      "image/png": "[encoded data removed]",
      "text/plain": [
       "<Figure size 360x360 with 1 Axes>"
      ]
     },
     "metadata": {
      "needs_background": "light"
     },
     "output_type": "display_data"
    }
   ],
   "source": [
    "# Getting Companies still operating and Companies that are closed\n",
    "op_cl = start_up[start_up['OperatingState']!='Acquired']\n",
    "op_cl = op_cl[op_cl['OperatingState']!='Ipo']\n",
    "print('Plot showing  Companies still operating and Companies that closed:-')\n",
    "sns.displot(op_cl['OperatingState'],color=\"#9400D3\"); "
   ]
  },
  {
   "cell_type": "markdown",
   "metadata": {},
   "source": [
    "**Comments:-**\n",
    "\n",
    " * *By observing above distribution we can say, Number of Companies still operating is greater than Companies that are closed*"
   ]
  },
  {
   "cell_type": "markdown",
   "metadata": {},
   "source": [
    "***\n",
    "## <span style=\"color:#9400D3\">4. Statistical Analysis"
   ]
  },
  {
   "cell_type": "markdown",
   "metadata": {},
   "source": [
    "### <span style=\"color:#9400D3\">* Is there any significant difference between Funds raised by companies that are still operating vs companies that closed down?\n",
    "\n",
    "   * Write the null hypothesis and alternative hypothesis.\n",
    "    \n",
    "   * Test for significance and conclusion"
   ]
  },
  {
   "cell_type": "markdown",
   "metadata": {},
   "source": [
    " The Null hypothesis and Alternative hypothesis are:-\n",
    " \n",
    "**Null Hypothesis (H0) :-** There is no significant difference between Funds raised by companies that are still operating vs companies that closed down\n",
    "\n",
    "**Alternative Hypothesis (H1) :-** There is significant difference between Funds raised by companies that are still operating vs companies that closed down"
   ]
  },
  {
   "cell_type": "code",
   "execution_count": 103,
   "metadata": {},
   "outputs": [
    {
     "name": "stdout",
     "output_type": "stream",
     "text": [
      "\n",
      "T-Statistic = 1.14\n",
      "P_value     = 0.26\n",
      "\n",
      "Statistical Decision:-\n",
      "  Null Hypothesis (H0) is Accepted :- There is no significant difference between Funds raised by \n",
      "                                      companies that are still operating vs companies that closed down \n"
     ]
    }
   ],
   "source": [
    "# Test for Significance and Conclusion\n",
    "\n",
    "operating = op_cl[op_cl['OperatingState']=='Operating']   # Operating Companies\n",
    "closed = op_cl[op_cl['OperatingState']=='Closed']    # Closed Companies\n",
    "\n",
    "# Performing T-Test\n",
    "t_stats,p_value = ttest_ind(operating['Funding'],closed['Funding'])\n",
    "\n",
    "print('\\nT-Statistic =',round(t_stats,2))\n",
    "print('P_value     =',round(p_value,2))\n",
    "\n",
    "print('\\nStatistical Decision:-')\n",
    "if p_value > 0.05:\n",
    "    print('''  Null Hypothesis (H0) is Accepted :- There is no significant difference between Funds raised by \n",
    "                                      companies that are still operating vs companies that closed down ''')\n",
    "else:\n",
    "    print('''  Null Hypothesis (H0) is Rejected OR Alternative Hypothesis (H1) is Accepted:- There is significant difference between Funds raised by companies \n",
    "                                      that are still operating vs companies that closed down ''')\n",
    "    \n"
   ]
  },
  {
   "cell_type": "markdown",
   "metadata": {},
   "source": [
    "### <span style=\"color:#9400D3\">* Make a Copy of the Original data frame."
   ]
  },
  {
   "cell_type": "code",
   "execution_count": 104,
   "metadata": {},
   "outputs": [
    {
     "data": {
      "text/html": [
       "<div>\n",
       "<style scoped>\n",
       "    .dataframe tbody tr th:only-of-type {\n",
       "        vertical-align: middle;\n",
       "    }\n",
       "\n",
       "    .dataframe tbody tr th {\n",
       "        vertical-align: top;\n",
       "    }\n",
       "\n",
       "    .dataframe thead th {\n",
       "        text-align: right;\n",
       "    }\n",
       "</style>\n",
       "<table border=\"1\" class=\"dataframe\">\n",
       "  <thead>\n",
       "    <tr style=\"text-align: right;\">\n",
       "      <th></th>\n",
       "      <th>Startup</th>\n",
       "      <th>Product</th>\n",
       "      <th>Funding</th>\n",
       "      <th>Event</th>\n",
       "      <th>Result</th>\n",
       "      <th>OperatingState</th>\n",
       "    </tr>\n",
       "  </thead>\n",
       "  <tbody>\n",
       "    <tr>\n",
       "      <th>1</th>\n",
       "      <td>3DLT</td>\n",
       "      <td>3dlt.com</td>\n",
       "      <td>630000.0</td>\n",
       "      <td>Disrupt NYC 2013</td>\n",
       "      <td>Contestant</td>\n",
       "      <td>Closed</td>\n",
       "    </tr>\n",
       "    <tr>\n",
       "      <th>3</th>\n",
       "      <td>3Dprintler</td>\n",
       "      <td>3dprintler.com</td>\n",
       "      <td>1000000.0</td>\n",
       "      <td>Disrupt NY 2016</td>\n",
       "      <td>Audience choice</td>\n",
       "      <td>Operating</td>\n",
       "    </tr>\n",
       "    <tr>\n",
       "      <th>5</th>\n",
       "      <td>5to1</td>\n",
       "      <td>5to1.com</td>\n",
       "      <td>19300000.0</td>\n",
       "      <td>TC50 2009</td>\n",
       "      <td>Contestant</td>\n",
       "      <td>Acquired</td>\n",
       "    </tr>\n",
       "    <tr>\n",
       "      <th>6</th>\n",
       "      <td>8 Securities</td>\n",
       "      <td>8securities.com</td>\n",
       "      <td>29000000.0</td>\n",
       "      <td>Disrupt Beijing 2011</td>\n",
       "      <td>Finalist</td>\n",
       "      <td>Operating</td>\n",
       "    </tr>\n",
       "    <tr>\n",
       "      <th>10</th>\n",
       "      <td>AdhereTech</td>\n",
       "      <td>adheretech.com</td>\n",
       "      <td>1800000.0</td>\n",
       "      <td>Hardware Battlefield 2014</td>\n",
       "      <td>Contestant</td>\n",
       "      <td>Operating</td>\n",
       "    </tr>\n",
       "  </tbody>\n",
       "</table>\n",
       "</div>"
      ],
      "text/plain": [
       "         Startup          Product     Funding                      Event  \\\n",
       "1           3DLT         3dlt.com    630000.0           Disrupt NYC 2013   \n",
       "3     3Dprintler   3dprintler.com   1000000.0            Disrupt NY 2016   \n",
       "5           5to1         5to1.com  19300000.0                  TC50 2009   \n",
       "6   8 Securities  8securities.com  29000000.0       Disrupt Beijing 2011   \n",
       "10    AdhereTech   adheretech.com   1800000.0  Hardware Battlefield 2014   \n",
       "\n",
       "             Result OperatingState  \n",
       "1        Contestant         Closed  \n",
       "3   Audience choice      Operating  \n",
       "5        Contestant       Acquired  \n",
       "6          Finalist      Operating  \n",
       "10       Contestant      Operating  "
      ]
     },
     "execution_count": 104,
     "metadata": {},
     "output_type": "execute_result"
    }
   ],
   "source": [
    "# Making a copy of Original Data Frame\n",
    "start_up2 = start_up.copy()\n",
    "\n",
    "start_up2.head()"
   ]
  },
  {
   "cell_type": "markdown",
   "metadata": {},
   "source": [
    "### <span style=\"color:#9400D3\">* Check Frequency Distribution of Result variable."
   ]
  },
  {
   "cell_type": "code",
   "execution_count": 105,
   "metadata": {},
   "outputs": [
    {
     "name": "stdout",
     "output_type": "stream",
     "text": [
      "Frequency Distribution of Result variable:-\n"
     ]
    },
    {
     "data": {
      "text/html": [
       "<div>\n",
       "<style scoped>\n",
       "    .dataframe tbody tr th:only-of-type {\n",
       "        vertical-align: middle;\n",
       "    }\n",
       "\n",
       "    .dataframe tbody tr th {\n",
       "        vertical-align: top;\n",
       "    }\n",
       "\n",
       "    .dataframe thead th {\n",
       "        text-align: right;\n",
       "    }\n",
       "</style>\n",
       "<table border=\"1\" class=\"dataframe\">\n",
       "  <thead>\n",
       "    <tr style=\"text-align: right;\">\n",
       "      <th></th>\n",
       "      <th>Companies per Result</th>\n",
       "    </tr>\n",
       "  </thead>\n",
       "  <tbody>\n",
       "    <tr>\n",
       "      <th>Contestant</th>\n",
       "      <td>312</td>\n",
       "    </tr>\n",
       "    <tr>\n",
       "      <th>Finalist</th>\n",
       "      <td>65</td>\n",
       "    </tr>\n",
       "    <tr>\n",
       "      <th>Audience choice</th>\n",
       "      <td>25</td>\n",
       "    </tr>\n",
       "    <tr>\n",
       "      <th>Winner</th>\n",
       "      <td>25</td>\n",
       "    </tr>\n",
       "    <tr>\n",
       "      <th>Runner up</th>\n",
       "      <td>19</td>\n",
       "    </tr>\n",
       "  </tbody>\n",
       "</table>\n",
       "</div>"
      ],
      "text/plain": [
       "                 Companies per Result\n",
       "Contestant                        312\n",
       "Finalist                           65\n",
       "Audience choice                    25\n",
       "Winner                             25\n",
       "Runner up                          19"
      ]
     },
     "execution_count": 105,
     "metadata": {},
     "output_type": "execute_result"
    }
   ],
   "source": [
    "# Getting Frequency Distribution of Result variable\n",
    "Result_frq = start_up2['Result'].value_counts().to_frame(name = 'Companies per Result')\n",
    "print('Frequency Distribution of Result variable:-')\n",
    "Result_frq "
   ]
  },
  {
   "cell_type": "code",
   "execution_count": 106,
   "metadata": {},
   "outputs": [
    {
     "name": "stdout",
     "output_type": "stream",
     "text": [
      "Plot showing Frequency Distribution of Result variable:-\n"
     ]
    },
    {
     "data": {
      "image/png": "[encoded data removed]",
      "text/plain": [
       "<Figure size 864x432 with 1 Axes>"
      ]
     },
     "metadata": {
      "needs_background": "light"
     },
     "output_type": "display_data"
    }
   ],
   "source": [
    "# Plotting the Frequency Distribution of Result variable\n",
    "\n",
    "print('Plot showing Frequency Distribution of Result variable:-')\n",
    "plt.figure(figsize=(12,6))\n",
    "sns.countplot(start_up2['Result'],color=\"#9400D3\");"
   ]
  },
  {
   "cell_type": "markdown",
   "metadata": {},
   "source": [
    "### <span style=\"color:#9400D3\">* Calculate Percentage of Winners that are still operating and Percentage of Contestants that are still operating"
   ]
  },
  {
   "cell_type": "code",
   "execution_count": 107,
   "metadata": {},
   "outputs": [
    {
     "name": "stdout",
     "output_type": "stream",
     "text": [
      "Percentage of Winners that are still operating     = 5.64 %\n",
      "Percentage of Contestants that are still operating = 67.08 %\n"
     ]
    }
   ],
   "source": [
    "# Getting Operating Companies\n",
    "still_operate = start_up2[start_up2['OperatingState']=='Operating']  \n",
    "\n",
    "# Getting winners and contesttants who are operating\n",
    "winner = still_operate[still_operate['Result']=='Winner']\n",
    "contestant = still_operate[still_operate['Result']=='Contestant']\n",
    "\n",
    "# Calculating Percentages of winners and contestants\n",
    "percent_winner = round((len(winner)/len(still_operate))*100,2)\n",
    "percent_contestant = round((len(contestant)/len(still_operate))*100,2)\n",
    "\n",
    "print('Percentage of Winners that are still operating     =',percent_winner,'%')\n",
    "print('Percentage of Contestants that are still operating =',percent_contestant,'%')"
   ]
  },
  {
   "cell_type": "code",
   "execution_count": 108,
   "metadata": {},
   "outputs": [
    {
     "name": "stdout",
     "output_type": "stream",
     "text": [
      "Plot showing Distribution of Result variable who are still operating:-\n"
     ]
    },
    {
     "data": {
      "image/png": "[encoded data removed]",
      "text/plain": [
       "<Figure size 864x432 with 1 Axes>"
      ]
     },
     "metadata": {
      "needs_background": "light"
     },
     "output_type": "display_data"
    }
   ],
   "source": [
    "# Plotting the Frequency Distribution of Result variable of companies who sre still operating\n",
    "\n",
    "print('Plot showing Distribution of Result variable who are still operating:-')\n",
    "plt.figure(figsize=(12,6))\n",
    "sns.countplot(still_operate['Result'],color=\"#9400D3\");"
   ]
  },
  {
   "cell_type": "markdown",
   "metadata": {},
   "source": [
    "### <span style=\"color:#9400D3\">* Write your Hypothesis comparing the Proportion of companies that are operating between winners and contestants:\n",
    "  * Write the null hypothesis and alternative hypothesis.\n",
    "  * Test for significance and conclusion"
   ]
  },
  {
   "cell_type": "markdown",
   "metadata": {},
   "source": [
    "The Null hypothesis and Alternative hypothesis are:-\n",
    " \n",
    "**Null Hypothesis (H0) :-** Proportions of companies that are operating between winners and contestants are Equal\n",
    "\n",
    "**Alternative Hypothesis (H1) :-** Proportions of companies that are operating between winners and contestants are Not Equal"
   ]
  },
  {
   "cell_type": "code",
   "execution_count": 109,
   "metadata": {},
   "outputs": [
    {
     "name": "stdout",
     "output_type": "stream",
     "text": [
      "Proportion of Operating Winners     = 0.72\n",
      "Proportion of Operating Contestants = 0.69\n",
      "\n",
      "Z-Statistic = 0.35\n",
      "P_value     = 0.72\n",
      "\n",
      "Statistical Decision:-\n",
      "  Null Hypothesis (H0) is Accepted :- Proportions of companies that are operating between winners \n",
      "                                      and contestants are Equal \n"
     ]
    }
   ],
   "source": [
    "# Getting winner and contestant counts\n",
    "winner_count = len(winner)   # Number of Operating Winner\n",
    "contestant_count = len(contestant)  # Number of Operating Contestants\n",
    "\n",
    "# We get this information from Frequency Distribution of Result variable which is shown above\n",
    "T_winner = 25  # Number of winners in whole data\n",
    "T_contestant = 312 # Number of contestants in whole data\n",
    "\n",
    "print('Proportion of Operating Winners     =',round(winner_count/T_winner,2))\n",
    "print('Proportion of Operating Contestants =',round(contestant_count/T_contestant,2))\n",
    "\n",
    "# Performing Z-Test\n",
    "z_stats,p_value = proportions_ztest([winner_count,contestant_count],[T_winner,T_contestant])\n",
    "\n",
    "print('\\nZ-Statistic =',round(z_stats,2))\n",
    "print('P_value     =',round(p_value,2))\n",
    "\n",
    "print('\\nStatistical Decision:-')\n",
    "if p_value > 0.05:\n",
    "    print('''  Null Hypothesis (H0) is Accepted :- Proportions of companies that are operating between winners \n",
    "                                      and contestants are Equal ''')\n",
    "else:\n",
    "    print('''  Null Hypothesis (H0) is Rejected OR Alternative Hypothesis (H1) is Accepted:-  Proportions of \n",
    "                                      companies that are operating between winners & contestants are Not Equal''')"
   ]
  },
  {
   "cell_type": "markdown",
   "metadata": {},
   "source": [
    "### <span style=\"color:#9400D3\">* Check Distribution of the Event variable."
   ]
  },
  {
   "cell_type": "code",
   "execution_count": 110,
   "metadata": {},
   "outputs": [
    {
     "name": "stdout",
     "output_type": "stream",
     "text": [
      "Distribution of the Event variable:-\n"
     ]
    },
    {
     "data": {
      "text/html": [
       "<div>\n",
       "<style scoped>\n",
       "    .dataframe tbody tr th:only-of-type {\n",
       "        vertical-align: middle;\n",
       "    }\n",
       "\n",
       "    .dataframe tbody tr th {\n",
       "        vertical-align: top;\n",
       "    }\n",
       "\n",
       "    .dataframe thead th {\n",
       "        text-align: right;\n",
       "    }\n",
       "</style>\n",
       "<table border=\"1\" class=\"dataframe\">\n",
       "  <thead>\n",
       "    <tr style=\"text-align: right;\">\n",
       "      <th></th>\n",
       "      <th>Companies per Event</th>\n",
       "    </tr>\n",
       "  </thead>\n",
       "  <tbody>\n",
       "    <tr>\n",
       "      <th>TC50 2008</th>\n",
       "      <td>31</td>\n",
       "    </tr>\n",
       "    <tr>\n",
       "      <th>TC40 2007</th>\n",
       "      <td>30</td>\n",
       "    </tr>\n",
       "    <tr>\n",
       "      <th>TC50 2009</th>\n",
       "      <td>26</td>\n",
       "    </tr>\n",
       "    <tr>\n",
       "      <th>Disrupt SF 2011</th>\n",
       "      <td>24</td>\n",
       "    </tr>\n",
       "    <tr>\n",
       "      <th>Disrupt NYC 2013</th>\n",
       "      <td>22</td>\n",
       "    </tr>\n",
       "    <tr>\n",
       "      <th>Disrupt SF 2013</th>\n",
       "      <td>22</td>\n",
       "    </tr>\n",
       "    <tr>\n",
       "      <th>Disrupt NYC 2012</th>\n",
       "      <td>21</td>\n",
       "    </tr>\n",
       "    <tr>\n",
       "      <th>Disrupt NY 2015</th>\n",
       "      <td>21</td>\n",
       "    </tr>\n",
       "    <tr>\n",
       "      <th>Disrupt SF 2012</th>\n",
       "      <td>20</td>\n",
       "    </tr>\n",
       "    <tr>\n",
       "      <th>Disrupt SF 2014</th>\n",
       "      <td>19</td>\n",
       "    </tr>\n",
       "    <tr>\n",
       "      <th>Disrupt SF 2010</th>\n",
       "      <td>19</td>\n",
       "    </tr>\n",
       "    <tr>\n",
       "      <th>Disrupt NYC 2011</th>\n",
       "      <td>19</td>\n",
       "    </tr>\n",
       "    <tr>\n",
       "      <th>Disrupt SF 2015</th>\n",
       "      <td>19</td>\n",
       "    </tr>\n",
       "    <tr>\n",
       "      <th>Disrupt SF 2016</th>\n",
       "      <td>17</td>\n",
       "    </tr>\n",
       "    <tr>\n",
       "      <th>Disrupt NY 2016</th>\n",
       "      <td>16</td>\n",
       "    </tr>\n",
       "    <tr>\n",
       "      <th>Disrupt NYC 2014</th>\n",
       "      <td>16</td>\n",
       "    </tr>\n",
       "    <tr>\n",
       "      <th>Disrupt NYC 2010</th>\n",
       "      <td>15</td>\n",
       "    </tr>\n",
       "    <tr>\n",
       "      <th>Hardware Battlefield 2014</th>\n",
       "      <td>13</td>\n",
       "    </tr>\n",
       "    <tr>\n",
       "      <th>Disrupt London 2015</th>\n",
       "      <td>12</td>\n",
       "    </tr>\n",
       "    <tr>\n",
       "      <th>Hardware Battlefield 2016</th>\n",
       "      <td>12</td>\n",
       "    </tr>\n",
       "    <tr>\n",
       "      <th>Hardware Battlefield 2015</th>\n",
       "      <td>10</td>\n",
       "    </tr>\n",
       "    <tr>\n",
       "      <th>Disrupt EU 2014</th>\n",
       "      <td>10</td>\n",
       "    </tr>\n",
       "    <tr>\n",
       "      <th>Disrupt London 2016</th>\n",
       "      <td>10</td>\n",
       "    </tr>\n",
       "    <tr>\n",
       "      <th>Disrupt EU 2013</th>\n",
       "      <td>9</td>\n",
       "    </tr>\n",
       "    <tr>\n",
       "      <th>Disrupt Beijing 2011</th>\n",
       "      <td>7</td>\n",
       "    </tr>\n",
       "    <tr>\n",
       "      <th>-</th>\n",
       "      <td>6</td>\n",
       "    </tr>\n",
       "  </tbody>\n",
       "</table>\n",
       "</div>"
      ],
      "text/plain": [
       "                           Companies per Event\n",
       "TC50 2008                                   31\n",
       "TC40 2007                                   30\n",
       "TC50 2009                                   26\n",
       "Disrupt SF 2011                             24\n",
       "Disrupt NYC 2013                            22\n",
       "Disrupt SF 2013                             22\n",
       "Disrupt NYC 2012                            21\n",
       "Disrupt NY 2015                             21\n",
       "Disrupt SF 2012                             20\n",
       "Disrupt SF 2014                             19\n",
       "Disrupt SF 2010                             19\n",
       "Disrupt NYC 2011                            19\n",
       "Disrupt SF 2015                             19\n",
       "Disrupt SF 2016                             17\n",
       "Disrupt NY 2016                             16\n",
       "Disrupt NYC 2014                            16\n",
       "Disrupt NYC 2010                            15\n",
       "Hardware Battlefield 2014                   13\n",
       "Disrupt London 2015                         12\n",
       "Hardware Battlefield 2016                   12\n",
       "Hardware Battlefield 2015                   10\n",
       "Disrupt EU 2014                             10\n",
       "Disrupt London 2016                         10\n",
       "Disrupt EU 2013                              9\n",
       "Disrupt Beijing 2011                         7\n",
       "-                                            6"
      ]
     },
     "execution_count": 110,
     "metadata": {},
     "output_type": "execute_result"
    }
   ],
   "source": [
    "# Getting Distribution of Event variable\n",
    "event_dist = start_up['Event'].value_counts().to_frame(name = 'Companies per Event')\n",
    "print('Distribution of the Event variable:-')\n",
    "event_dist"
   ]
  },
  {
   "cell_type": "code",
   "execution_count": 111,
   "metadata": {},
   "outputs": [
    {
     "name": "stdout",
     "output_type": "stream",
     "text": [
      "Plot showing Distribution of the Event variable:-\n"
     ]
    },
    {
     "data": {
      "image/png": "[encoded data removed]",
      "text/plain": [
       "<Figure size 1440x432 with 1 Axes>"
      ]
     },
     "metadata": {
      "needs_background": "light"
     },
     "output_type": "display_data"
    }
   ],
   "source": [
    "# Plotting the distribution of the Event variable\n",
    "\n",
    "print('Plot showing Distribution of the Event variable:-')\n",
    "plt.figure(figsize=(20,6))\n",
    "sns.distplot(event_dist,color=\"#9400D3\");"
   ]
  },
  {
   "cell_type": "markdown",
   "metadata": {},
   "source": [
    "### <span style=\"color:#9400D3\">* Select only the Event that has Disrupt keyword from 2013 onwards."
   ]
  },
  {
   "cell_type": "code",
   "execution_count": 112,
   "metadata": {},
   "outputs": [
    {
     "name": "stdout",
     "output_type": "stream",
     "text": [
      "Event that has Disrupt keyword from 2013 Onwards:-\n"
     ]
    },
    {
     "data": {
      "text/html": [
       "<div>\n",
       "<style scoped>\n",
       "    .dataframe tbody tr th:only-of-type {\n",
       "        vertical-align: middle;\n",
       "    }\n",
       "\n",
       "    .dataframe tbody tr th {\n",
       "        vertical-align: top;\n",
       "    }\n",
       "\n",
       "    .dataframe thead th {\n",
       "        text-align: right;\n",
       "    }\n",
       "</style>\n",
       "<table border=\"1\" class=\"dataframe\">\n",
       "  <thead>\n",
       "    <tr style=\"text-align: right;\">\n",
       "      <th></th>\n",
       "      <th>Startup</th>\n",
       "      <th>Product</th>\n",
       "      <th>Funding</th>\n",
       "      <th>Event</th>\n",
       "      <th>Result</th>\n",
       "      <th>OperatingState</th>\n",
       "    </tr>\n",
       "  </thead>\n",
       "  <tbody>\n",
       "    <tr>\n",
       "      <th>3</th>\n",
       "      <td>3Dprintler</td>\n",
       "      <td>3dprintler.com</td>\n",
       "      <td>1000000.0</td>\n",
       "      <td>Disrupt NY 2016</td>\n",
       "      <td>Audience choice</td>\n",
       "      <td>Operating</td>\n",
       "    </tr>\n",
       "    <tr>\n",
       "      <th>13</th>\n",
       "      <td>Agrilyst</td>\n",
       "      <td>agrilyst.com</td>\n",
       "      <td>1000000.0</td>\n",
       "      <td>Disrupt SF 2015</td>\n",
       "      <td>Winner</td>\n",
       "      <td>Operating</td>\n",
       "    </tr>\n",
       "    <tr>\n",
       "      <th>14</th>\n",
       "      <td>Aiden</td>\n",
       "      <td>aiden.ai</td>\n",
       "      <td>750000.0</td>\n",
       "      <td>Disrupt London 2016</td>\n",
       "      <td>Contestant</td>\n",
       "      <td>Operating</td>\n",
       "    </tr>\n",
       "    <tr>\n",
       "      <th>16</th>\n",
       "      <td>Aircall</td>\n",
       "      <td>aircall.io</td>\n",
       "      <td>11600000.0</td>\n",
       "      <td>Disrupt SF 2015</td>\n",
       "      <td>Contestant</td>\n",
       "      <td>Operating</td>\n",
       "    </tr>\n",
       "    <tr>\n",
       "      <th>18</th>\n",
       "      <td>AirHelp</td>\n",
       "      <td>airhelp.com</td>\n",
       "      <td>12200000.0</td>\n",
       "      <td>Disrupt NYC 2014</td>\n",
       "      <td>Contestant</td>\n",
       "      <td>Operating</td>\n",
       "    </tr>\n",
       "    <tr>\n",
       "      <th>46</th>\n",
       "      <td>Ava</td>\n",
       "      <td>avawomen.com</td>\n",
       "      <td>12300000.0</td>\n",
       "      <td>Disrupt SF 2015</td>\n",
       "      <td>Contestant</td>\n",
       "      <td>Operating</td>\n",
       "    </tr>\n",
       "    <tr>\n",
       "      <th>51</th>\n",
       "      <td>Beam</td>\n",
       "      <td>beam.pro</td>\n",
       "      <td>520000.0</td>\n",
       "      <td>Disrupt NY 2016</td>\n",
       "      <td>Winner</td>\n",
       "      <td>Acquired</td>\n",
       "    </tr>\n",
       "    <tr>\n",
       "      <th>52</th>\n",
       "      <td>Beartooth</td>\n",
       "      <td>beartooth.com</td>\n",
       "      <td>2900000.0</td>\n",
       "      <td>Disrupt SF 2014</td>\n",
       "      <td>Contestant</td>\n",
       "      <td>Operating</td>\n",
       "    </tr>\n",
       "    <tr>\n",
       "      <th>55</th>\n",
       "      <td>Behold.ai</td>\n",
       "      <td>behold.ai</td>\n",
       "      <td>20000.0</td>\n",
       "      <td>Disrupt NY 2016</td>\n",
       "      <td>Contestant</td>\n",
       "      <td>Operating</td>\n",
       "    </tr>\n",
       "    <tr>\n",
       "      <th>59</th>\n",
       "      <td>BioBots</td>\n",
       "      <td>biobots.io</td>\n",
       "      <td>2800000.0</td>\n",
       "      <td>Disrupt NY 2015</td>\n",
       "      <td>Finalist</td>\n",
       "      <td>Operating</td>\n",
       "    </tr>\n",
       "  </tbody>\n",
       "</table>\n",
       "</div>"
      ],
      "text/plain": [
       "       Startup         Product     Funding                Event  \\\n",
       "3   3Dprintler  3dprintler.com   1000000.0      Disrupt NY 2016   \n",
       "13    Agrilyst    agrilyst.com   1000000.0      Disrupt SF 2015   \n",
       "14       Aiden        aiden.ai    750000.0  Disrupt London 2016   \n",
       "16     Aircall      aircall.io  11600000.0      Disrupt SF 2015   \n",
       "18     AirHelp     airhelp.com  12200000.0     Disrupt NYC 2014   \n",
       "46         Ava    avawomen.com  12300000.0      Disrupt SF 2015   \n",
       "51        Beam        beam.pro    520000.0      Disrupt NY 2016   \n",
       "52   Beartooth   beartooth.com   2900000.0      Disrupt SF 2014   \n",
       "55   Behold.ai       behold.ai     20000.0      Disrupt NY 2016   \n",
       "59     BioBots      biobots.io   2800000.0      Disrupt NY 2015   \n",
       "\n",
       "             Result OperatingState  \n",
       "3   Audience choice      Operating  \n",
       "13           Winner      Operating  \n",
       "14       Contestant      Operating  \n",
       "16       Contestant      Operating  \n",
       "18       Contestant      Operating  \n",
       "46       Contestant      Operating  \n",
       "51           Winner       Acquired  \n",
       "52       Contestant      Operating  \n",
       "55       Contestant      Operating  \n",
       "59         Finalist      Operating  "
      ]
     },
     "execution_count": 112,
     "metadata": {},
     "output_type": "execute_result"
    }
   ],
   "source": [
    "key1 = start_up[start_up.Event.str.contains('Disrupt')]\n",
    "event = key1[key1.Event.str.contains('2014') | key1.Event.str.contains('2015') | key1.Event.str.contains('2016')]\n",
    "\n",
    "print('Event that has Disrupt keyword from 2013 Onwards:-')\n",
    "event.head(10)    # Showing only 10 values to make observation easy"
   ]
  },
  {
   "cell_type": "markdown",
   "metadata": {},
   "source": [
    "### <span style=\"color:#9400D3\">* Write and perform your hypothesis along with significance test comparing the funds raised by companies across NY, SF and EU events from 2013 onwards."
   ]
  },
  {
   "cell_type": "markdown",
   "metadata": {},
   "source": [
    "The Null hypothesis and Alternative hypothesis are:-\n",
    " \n",
    "**Null Hypothesis (H0) :-** The Means of funds raised by companies across NY, SF and EU events from 2013 onwards are Equal.\n",
    "\n",
    "**Alternative Hypothesis (H1) :-** The Means of funds raised by companies across NY, SF and EU events from 2013 onwards are Not Equal.\n",
    "\n",
    "<br>\n",
    "Here we take Significance Level α = 0.05"
   ]
  },
  {
   "cell_type": "code",
   "execution_count": 113,
   "metadata": {},
   "outputs": [
    {
     "data": {
      "text/html": [
       "<div>\n",
       "<style scoped>\n",
       "    .dataframe tbody tr th:only-of-type {\n",
       "        vertical-align: middle;\n",
       "    }\n",
       "\n",
       "    .dataframe tbody tr th {\n",
       "        vertical-align: top;\n",
       "    }\n",
       "\n",
       "    .dataframe thead th {\n",
       "        text-align: right;\n",
       "    }\n",
       "</style>\n",
       "<table border=\"1\" class=\"dataframe\">\n",
       "  <thead>\n",
       "    <tr style=\"text-align: right;\">\n",
       "      <th></th>\n",
       "      <th>Event</th>\n",
       "      <th>Funding</th>\n",
       "    </tr>\n",
       "  </thead>\n",
       "  <tbody>\n",
       "    <tr>\n",
       "      <th>3</th>\n",
       "      <td>Disrupt NY 2016</td>\n",
       "      <td>1000000.0</td>\n",
       "    </tr>\n",
       "    <tr>\n",
       "      <th>13</th>\n",
       "      <td>Disrupt SF 2015</td>\n",
       "      <td>1000000.0</td>\n",
       "    </tr>\n",
       "    <tr>\n",
       "      <th>16</th>\n",
       "      <td>Disrupt SF 2015</td>\n",
       "      <td>11600000.0</td>\n",
       "    </tr>\n",
       "    <tr>\n",
       "      <th>46</th>\n",
       "      <td>Disrupt SF 2015</td>\n",
       "      <td>12300000.0</td>\n",
       "    </tr>\n",
       "    <tr>\n",
       "      <th>51</th>\n",
       "      <td>Disrupt NY 2016</td>\n",
       "      <td>520000.0</td>\n",
       "    </tr>\n",
       "  </tbody>\n",
       "</table>\n",
       "</div>"
      ],
      "text/plain": [
       "              Event     Funding\n",
       "3   Disrupt NY 2016   1000000.0\n",
       "13  Disrupt SF 2015   1000000.0\n",
       "16  Disrupt SF 2015  11600000.0\n",
       "46  Disrupt SF 2015  12300000.0\n",
       "51  Disrupt NY 2016    520000.0"
      ]
     },
     "execution_count": 113,
     "metadata": {},
     "output_type": "execute_result"
    }
   ],
   "source": [
    "# Getting the required data as per demand\n",
    "event_NYC = event[~event.Event.str.contains('NYC')]\n",
    "event_fund = event_NYC[event_NYC.Event.str.contains('NY') | event_NYC.Event.str.contains('SF') | \n",
    "                       event_NYC.Event.str.contains('EU')]    \n",
    "\n",
    "# Creating dataframe having required attributes \n",
    "df_event = event_fund[['Event','Funding']]\n",
    "\n",
    "df_event.head()"
   ]
  },
  {
   "cell_type": "code",
   "execution_count": 114,
   "metadata": {},
   "outputs": [
    {
     "name": "stdout",
     "output_type": "stream",
     "text": [
      "ANOVA Table:-\n"
     ]
    },
    {
     "data": {
      "text/html": [
       "<div>\n",
       "<style scoped>\n",
       "    .dataframe tbody tr th:only-of-type {\n",
       "        vertical-align: middle;\n",
       "    }\n",
       "\n",
       "    .dataframe tbody tr th {\n",
       "        vertical-align: top;\n",
       "    }\n",
       "\n",
       "    .dataframe thead th {\n",
       "        text-align: right;\n",
       "    }\n",
       "</style>\n",
       "<table border=\"1\" class=\"dataframe\">\n",
       "  <thead>\n",
       "    <tr style=\"text-align: right;\">\n",
       "      <th></th>\n",
       "      <th>sum_sq</th>\n",
       "      <th>df</th>\n",
       "      <th>F</th>\n",
       "      <th>PR(&gt;F)</th>\n",
       "    </tr>\n",
       "  </thead>\n",
       "  <tbody>\n",
       "    <tr>\n",
       "      <th>Event</th>\n",
       "      <td>7.095446e+13</td>\n",
       "      <td>5.0</td>\n",
       "      <td>1.227926</td>\n",
       "      <td>0.302034</td>\n",
       "    </tr>\n",
       "    <tr>\n",
       "      <th>Residual</th>\n",
       "      <td>1.109452e+15</td>\n",
       "      <td>96.0</td>\n",
       "      <td>NaN</td>\n",
       "      <td>NaN</td>\n",
       "    </tr>\n",
       "  </tbody>\n",
       "</table>\n",
       "</div>"
      ],
      "text/plain": [
       "                sum_sq    df         F    PR(>F)\n",
       "Event     7.095446e+13   5.0  1.227926  0.302034\n",
       "Residual  1.109452e+15  96.0       NaN       NaN"
      ]
     },
     "execution_count": 114,
     "metadata": {},
     "output_type": "execute_result"
    }
   ],
   "source": [
    "# Calculating P value using ANOVA table\n",
    "mod = ols('Funding ~ Event', data = df_event).fit()\n",
    "aov_table = sm.stats.anova_lm(mod, typ=2)\n",
    "print('ANOVA Table:-')\n",
    "aov_table"
   ]
  },
  {
   "cell_type": "markdown",
   "metadata": {},
   "source": [
    "By observing above Anova Table, we get **P_Value = 0.302034** which is Greater than Significance Level **α = 0.05**\n",
    "\n",
    "<br>\n",
    "\n",
    "**Statistical Decision:-**\n",
    "\n",
    "   Null Hypothesis (H0) is Accepted :- The Means of funds raised by companies across NY, SF and EU events from 2013 onwards are Equal."
   ]
  },
  {
   "cell_type": "markdown",
   "metadata": {},
   "source": [
    "### <span style=\"color:#9400D3\">* Plot the Distribution plot comparing the 3 city events."
   ]
  },
  {
   "cell_type": "code",
   "execution_count": 115,
   "metadata": {},
   "outputs": [
    {
     "name": "stdout",
     "output_type": "stream",
     "text": [
      "Plot showing Distribution plot comparing the 3 city events:-\n"
     ]
    },
    {
     "data": {
      "image/png": "[encoded data removed]",
      "text/plain": [
       "<Figure size 1080x432 with 1 Axes>"
      ]
     },
     "metadata": {
      "needs_background": "light"
     },
     "output_type": "display_data"
    }
   ],
   "source": [
    "# Plotting the distribution plot comparing the 3 city events\n",
    "\n",
    "print('Plot showing Distribution plot comparing the 3 city events:-')\n",
    "plt.figure(figsize=(15,6))\n",
    "sns.distplot(df_event['Funding'],color=\"#9400D3\");"
   ]
  },
  {
   "cell_type": "markdown",
   "metadata": {},
   "source": [
    "***\n"
   ]
  },
  {
   "cell_type": "code",
   "execution_count": 116,
   "metadata": {},
   "outputs": [
    {
     "name": "stdout",
     "output_type": "stream",
     "text": [
      "Number of Companies based on funds:-\n",
      " Billion dollarss          = 1\n",
      " Million dolllars          = 310\n",
      " Less than Million dollars = 136\n"
     ]
    }
   ],
   "source": [
    "# Knowing about Funding Attribute\n",
    "print('Number of Companies based on funds:-')\n",
    "print(' Billion dollarss          =',len(start_up[start_up['Funding']>1000000000]))\n",
    "print(' Million dolllars          =',len(start_up[start_up['Funding']>=1000000]))\n",
    "print(' Less than Million dollars =',len(start_up[start_up['Funding']<1000000]))"
   ]
  },
  {
   "cell_type": "markdown",
   "metadata": {},
   "source": [
    "***\n",
    "## <span style=\"color:#9400D3\">5. Write your observations on improvements or suggestions on quality, quantity, variety, velocity, veracity etc. on the data points collected to perform a better data analysis."
   ]
  },
  {
   "cell_type": "markdown",
   "metadata": {},
   "source": [
    "**Observations:-**\n",
    "\n",
    "* *On observing box plot of Fundings we say that there are many companies with huge fundings, since there are many outliers found.*\n",
    "* *There are 310 companies with funding over million dollars and 136 companies less than million dollars.*\n",
    "* *There is only one commpany whose funding is above 1 billion dollars.*\n",
    "* *Observing the attribute Operating state we can say, most of companies are still operating.*\n",
    "* *Proportions of companies that are operating between winners and contestants are Equal.*\n",
    "* *There is no significant difference between Funds raised by companies that are still operating vs companies that closed down.*\n",
    "* *The Means of funds raised by companies across NY, SF and EU events from 2013 onwards are Equal.*\n",
    "* *Very less number of companies are in initial public offering state.*\n",
    "\n",
    "***"
   ]
  },
  {
   "cell_type": "markdown",
   "metadata": {},
   "source": [
    "### <span style=\"color:#9400D3\">------------------------------------------------- End of Part THREE -----------------------------------------------------"
   ]
  },
  {
   "cell_type": "markdown",
   "metadata": {},
   "source": [
    "# <span style=\"color:#9400D3\">--------------------- End of AIML MODULE PROJECT 1 ---------------------\n",
    "  \n",
    "------------------------------------------------------------------------------**THANK YOU😊**----------------------------------------------------------------------------------\n",
    "    \n",
    "***\n",
    "***"
   ]
  },
  {
   "cell_type": "code",
   "execution_count": null,
   "metadata": {},
   "outputs": [],
   "source": []
  },
  {
   "cell_type": "code",
   "execution_count": null,
   "metadata": {},
   "outputs": [],
   "source": []
  },
  {
   "cell_type": "code",
   "execution_count": null,
   "metadata": {},
   "outputs": [],
   "source": []
  }
 ],
 "metadata": {
  "kernelspec": {
   "display_name": "Python 3",
   "language": "python",
   "name": "python3"
  },
  "language_info": {
   "codemirror_mode": {
    "name": "ipython",
    "version": 3
   },
   "file_extension": ".py",
   "mimetype": "text/x-python",
   "name": "python",
   "nbconvert_exporter": "python",
   "pygments_lexer": "ipython3",
   "version": "3.8.5"
  }
 },
 "nbformat": 4,
 "nbformat_minor": 4
}
